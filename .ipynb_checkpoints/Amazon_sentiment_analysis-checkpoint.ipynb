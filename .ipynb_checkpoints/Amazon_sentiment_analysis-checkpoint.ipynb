{
 "cells": [
  {
   "cell_type": "code",
   "execution_count": 1,
   "id": "b38c34da",
   "metadata": {},
   "outputs": [],
   "source": [
    "#Selenium imports here\n",
    "from selenium import webdriver\n",
    "from selenium.webdriver.common.keys import Keys\n",
    "from selenium.webdriver.support import expected_conditions as EC\n",
    "from selenium.webdriver.common.by import By\n",
    "from selenium.webdriver.support.wait import WebDriverWait\n",
    "from bs4 import BeautifulSoup\n",
    "#Other imports here\n",
    "import os\n",
    "import wget\n",
    "import requests\n",
    "import pandas as pd\n",
    "import pickle"
   ]
  },
  {
   "cell_type": "code",
   "execution_count": 2,
   "id": "e62774b2",
   "metadata": {},
   "outputs": [
    {
     "data": {
      "text/html": [
       "<div>\n",
       "<style scoped>\n",
       "    .dataframe tbody tr th:only-of-type {\n",
       "        vertical-align: middle;\n",
       "    }\n",
       "\n",
       "    .dataframe tbody tr th {\n",
       "        vertical-align: top;\n",
       "    }\n",
       "\n",
       "    .dataframe thead th {\n",
       "        text-align: right;\n",
       "    }\n",
       "</style>\n",
       "<table border=\"1\" class=\"dataframe\">\n",
       "  <thead>\n",
       "    <tr style=\"text-align: right;\">\n",
       "      <th></th>\n",
       "      <th>polarity</th>\n",
       "      <th>reviews</th>\n",
       "    </tr>\n",
       "  </thead>\n",
       "  <tbody>\n",
       "    <tr>\n",
       "      <th>0</th>\n",
       "      <td>1</td>\n",
       "      <td>Unfortunately, the frustration of being Dr. Go...</td>\n",
       "    </tr>\n",
       "    <tr>\n",
       "      <th>1</th>\n",
       "      <td>2</td>\n",
       "      <td>Been going to Dr. Goldberg for over 10 years. ...</td>\n",
       "    </tr>\n",
       "    <tr>\n",
       "      <th>2</th>\n",
       "      <td>1</td>\n",
       "      <td>I don't know what Dr. Goldberg was like before...</td>\n",
       "    </tr>\n",
       "    <tr>\n",
       "      <th>3</th>\n",
       "      <td>1</td>\n",
       "      <td>I'm writing this review to give you a heads up...</td>\n",
       "    </tr>\n",
       "    <tr>\n",
       "      <th>4</th>\n",
       "      <td>2</td>\n",
       "      <td>All the food is great here. But the best thing...</td>\n",
       "    </tr>\n",
       "  </tbody>\n",
       "</table>\n",
       "</div>"
      ],
      "text/plain": [
       "   polarity                                            reviews\n",
       "0         1  Unfortunately, the frustration of being Dr. Go...\n",
       "1         2  Been going to Dr. Goldberg for over 10 years. ...\n",
       "2         1  I don't know what Dr. Goldberg was like before...\n",
       "3         1  I'm writing this review to give you a heads up...\n",
       "4         2  All the food is great here. But the best thing..."
      ]
     },
     "execution_count": 2,
     "metadata": {},
     "output_type": "execute_result"
    }
   ],
   "source": [
    "Reviewdata = pd.read_csv('reviews.csv')\n",
    "Reviewdata.head()"
   ]
  },
  {
   "cell_type": "markdown",
   "id": "36eaa55a",
   "metadata": {},
   "source": [
    "# Data Cleaning"
   ]
  },
  {
   "cell_type": "code",
   "execution_count": 3,
   "id": "129d6c0a",
   "metadata": {},
   "outputs": [
    {
     "data": {
      "text/html": [
       "<div>\n",
       "<style scoped>\n",
       "    .dataframe tbody tr th:only-of-type {\n",
       "        vertical-align: middle;\n",
       "    }\n",
       "\n",
       "    .dataframe tbody tr th {\n",
       "        vertical-align: top;\n",
       "    }\n",
       "\n",
       "    .dataframe thead th {\n",
       "        text-align: right;\n",
       "    }\n",
       "</style>\n",
       "<table border=\"1\" class=\"dataframe\">\n",
       "  <thead>\n",
       "    <tr style=\"text-align: right;\">\n",
       "      <th></th>\n",
       "      <th>Count</th>\n",
       "      <th>Percentage</th>\n",
       "    </tr>\n",
       "  </thead>\n",
       "  <tbody>\n",
       "    <tr>\n",
       "      <th>reviews</th>\n",
       "      <td>0</td>\n",
       "      <td>0.0</td>\n",
       "    </tr>\n",
       "    <tr>\n",
       "      <th>polarity</th>\n",
       "      <td>0</td>\n",
       "      <td>0.0</td>\n",
       "    </tr>\n",
       "  </tbody>\n",
       "</table>\n",
       "</div>"
      ],
      "text/plain": [
       "          Count  Percentage\n",
       "reviews       0         0.0\n",
       "polarity      0         0.0"
      ]
     },
     "execution_count": 3,
     "metadata": {},
     "output_type": "execute_result"
    }
   ],
   "source": [
    "count = Reviewdata.isnull().sum().sort_values(ascending=False)\n",
    "percentage = ((Reviewdata.isnull().sum()/len(Reviewdata)*100)).sort_values(ascending=False)\n",
    "missing_data = pd.concat([count,percentage],axis=1,keys=['Count','Percentage'])\n",
    "missing_data"
   ]
  },
  {
   "cell_type": "markdown",
   "id": "29e961b4",
   "metadata": {},
   "source": [
    "# Polarity determining"
   ]
  },
  {
   "cell_type": "code",
   "execution_count": 4,
   "id": "f914cce0",
   "metadata": {},
   "outputs": [
    {
     "name": "stdout",
     "output_type": "stream",
     "text": [
      "percentage for default\n",
      "\n",
      "2    50.0\n",
      "1    50.0\n",
      "Name: polarity, dtype: float64\n"
     ]
    },
    {
     "data": {
      "image/png": "[encoded data removed]",
      "text/plain": [
       "<Figure size 432x288 with 1 Axes>"
      ]
     },
     "metadata": {
      "needs_background": "light"
     },
     "output_type": "display_data"
    }
   ],
   "source": [
    "import matplotlib.pyplot as plt\n",
    "%matplotlib inline\n",
    "print(\"percentage for default\\n\")\n",
    "print(round(Reviewdata.polarity.value_counts(normalize=True)*100,2))\n",
    "round(Reviewdata.polarity.value_counts(normalize=True)*100,2).plot(kind=\"bar\")\n",
    "plt.title(\"polarity\")\n",
    "plt.show()"
   ]
  },
  {
   "cell_type": "markdown",
   "id": "88914e19",
   "metadata": {},
   "source": [
    "# Cleaning the reviews"
   ]
  },
  {
   "cell_type": "code",
   "execution_count": 5,
   "id": "11436a1f",
   "metadata": {},
   "outputs": [],
   "source": [
    "import re\n",
    "import string\n",
    "def text_clean_1(text):\n",
    "    text = text.lower()\n",
    "    text = re.sub('\\[.*?\\]','',text)\n",
    "    text = re.sub('[%s]'% re.escape(string.punctuation),'',text)\n",
    "    text = re.sub('\\w*\\d\\w*','',text)\n",
    "    return text\n",
    "cleaned1 = lambda x : text_clean_1(x)\n"
   ]
  },
  {
   "cell_type": "code",
   "execution_count": 6,
   "id": "4097af21",
   "metadata": {},
   "outputs": [
    {
     "data": {
      "text/html": [
       "<div>\n",
       "<style scoped>\n",
       "    .dataframe tbody tr th:only-of-type {\n",
       "        vertical-align: middle;\n",
       "    }\n",
       "\n",
       "    .dataframe tbody tr th {\n",
       "        vertical-align: top;\n",
       "    }\n",
       "\n",
       "    .dataframe thead th {\n",
       "        text-align: right;\n",
       "    }\n",
       "</style>\n",
       "<table border=\"1\" class=\"dataframe\">\n",
       "  <thead>\n",
       "    <tr style=\"text-align: right;\">\n",
       "      <th></th>\n",
       "      <th>polarity</th>\n",
       "      <th>reviews</th>\n",
       "      <th>cleanedData</th>\n",
       "    </tr>\n",
       "  </thead>\n",
       "  <tbody>\n",
       "    <tr>\n",
       "      <th>0</th>\n",
       "      <td>1</td>\n",
       "      <td>Unfortunately, the frustration of being Dr. Go...</td>\n",
       "      <td>unfortunately the frustration of being dr gold...</td>\n",
       "    </tr>\n",
       "    <tr>\n",
       "      <th>1</th>\n",
       "      <td>2</td>\n",
       "      <td>Been going to Dr. Goldberg for over 10 years. ...</td>\n",
       "      <td>been going to dr goldberg for over  years i th...</td>\n",
       "    </tr>\n",
       "    <tr>\n",
       "      <th>2</th>\n",
       "      <td>1</td>\n",
       "      <td>I don't know what Dr. Goldberg was like before...</td>\n",
       "      <td>i dont know what dr goldberg was like before  ...</td>\n",
       "    </tr>\n",
       "    <tr>\n",
       "      <th>3</th>\n",
       "      <td>1</td>\n",
       "      <td>I'm writing this review to give you a heads up...</td>\n",
       "      <td>im writing this review to give you a heads up ...</td>\n",
       "    </tr>\n",
       "    <tr>\n",
       "      <th>4</th>\n",
       "      <td>2</td>\n",
       "      <td>All the food is great here. But the best thing...</td>\n",
       "      <td>all the food is great here but the best thing ...</td>\n",
       "    </tr>\n",
       "  </tbody>\n",
       "</table>\n",
       "</div>"
      ],
      "text/plain": [
       "   polarity                                            reviews  \\\n",
       "0         1  Unfortunately, the frustration of being Dr. Go...   \n",
       "1         2  Been going to Dr. Goldberg for over 10 years. ...   \n",
       "2         1  I don't know what Dr. Goldberg was like before...   \n",
       "3         1  I'm writing this review to give you a heads up...   \n",
       "4         2  All the food is great here. But the best thing...   \n",
       "\n",
       "                                         cleanedData  \n",
       "0  unfortunately the frustration of being dr gold...  \n",
       "1  been going to dr goldberg for over  years i th...  \n",
       "2  i dont know what dr goldberg was like before  ...  \n",
       "3  im writing this review to give you a heads up ...  \n",
       "4  all the food is great here but the best thing ...  "
      ]
     },
     "execution_count": 6,
     "metadata": {},
     "output_type": "execute_result"
    }
   ],
   "source": [
    "Reviewdata['cleanedData'] = pd.DataFrame(Reviewdata.reviews.apply(cleaned1))\n",
    "Reviewdata.head()"
   ]
  },
  {
   "cell_type": "markdown",
   "id": "45721e52",
   "metadata": {},
   "source": [
    "# Model Training"
   ]
  },
  {
   "cell_type": "code",
   "execution_count": 7,
   "id": "314bfb70",
   "metadata": {},
   "outputs": [],
   "source": [
    "from sklearn.model_selection import train_test_split\n",
    "from sklearn.preprocessing import StandardScaler"
   ]
  },
  {
   "cell_type": "code",
   "execution_count": 8,
   "id": "499d3012",
   "metadata": {},
   "outputs": [
    {
     "name": "stdout",
     "output_type": "stream",
     "text": [
      "X_train:  128000\n",
      "y_train:  128000\n",
      "X_test:  32000\n",
      "Y_test:  32000\n"
     ]
    }
   ],
   "source": [
    "X = Reviewdata.cleanedData\n",
    "Y = Reviewdata.polarity\n",
    "\n",
    "X = Reviewdata.iloc[:160000,-1].values\n",
    "Y = Reviewdata.iloc[:160000,0].values\n",
    "X_train, X_test, y_train, y_test = train_test_split(X, Y, test_size=0.2, random_state=42)\n",
    "print('X_train: ',len(X_train))\n",
    "print('y_train: ',len(y_train))\n",
    "print('X_test: ',len(X_test))\n",
    "print('Y_test: ',len(y_test))\n"
   ]
  },
  {
   "cell_type": "code",
   "execution_count": 9,
   "id": "c899571c",
   "metadata": {},
   "outputs": [],
   "source": [
    "from sklearn.feature_extraction.text import TfidfVectorizer\n",
    "from sklearn.linear_model import LogisticRegression\n",
    "\n",
    "tvec =TfidfVectorizer()\n",
    "clf2 = LogisticRegression(solver='lbfgs')\n",
    "from sklearn.pipeline import Pipeline"
   ]
  },
  {
   "cell_type": "code",
   "execution_count": null,
   "id": "81cec5ea",
   "metadata": {},
   "outputs": [],
   "source": [
    "model = Pipeline([('vectorizer',tvec),('classifier',clf2)])\n",
    "model.fit(X_train,y_train)"
   ]
  },
  {
   "cell_type": "code",
   "execution_count": 16,
   "id": "8bf13c17",
   "metadata": {},
   "outputs": [
    {
     "data": {
      "text/plain": [
       "array([[15600,  1372],\n",
       "       [ 1140, 13888]], dtype=int64)"
      ]
     },
     "execution_count": 16,
     "metadata": {},
     "output_type": "execute_result"
    }
   ],
   "source": [
    "from sklearn.metrics import confusion_matrix\n",
    "predictions = model.predict(X_test)\n",
    "confusion_matrix(predictions,y_test)"
   ]
  },
  {
   "cell_type": "code",
   "execution_count": 17,
   "id": "01cc2e89",
   "metadata": {},
   "outputs": [
    {
     "name": "stdout",
     "output_type": "stream",
     "text": [
      "Accuracy: 0.9215\n",
      "Precision: 0.921658107263819\n",
      "Recall: 0.9215\n"
     ]
    }
   ],
   "source": [
    "from sklearn.metrics import accuracy_score,precision_score,recall_score\n",
    "print(\"Accuracy:\",accuracy_score(predictions,y_test))\n",
    "print(\"Precision:\",precision_score(predictions,y_test,average=\"weighted\"))\n",
    "print(\"Recall:\",recall_score(predictions,y_test,average=\"weighted\"))"
   ]
  },
  {
   "cell_type": "code",
   "execution_count": 18,
   "id": "ef010b65",
   "metadata": {},
   "outputs": [],
   "source": [
    "# save the model to disk\n",
    "filename = 'finalized_model.sav'\n",
    "pickle.dump(model, open(filename, 'wb'))"
   ]
  },
  {
   "cell_type": "markdown",
   "id": "3d285f3a",
   "metadata": {},
   "source": [
    "# Dumping model into pickle file"
   ]
  },
  {
   "cell_type": "code",
   "execution_count": 16,
   "id": "bdacaeb0",
   "metadata": {},
   "outputs": [
    {
     "data": {
      "text/plain": [
       "array([[15600,  1372],\n",
       "       [ 1140, 13888]], dtype=int64)"
      ]
     },
     "execution_count": 16,
     "metadata": {},
     "output_type": "execute_result"
    }
   ],
   "source": [
    "loaded_model = pickle.load(open(filename, 'rb'))\n",
    "result = loaded_model.predict(X_test)\n",
    "confusion_matrix(result,y_test)"
   ]
  },
  {
   "cell_type": "markdown",
   "id": "3094f63a",
   "metadata": {},
   "source": [
    "# Testing model"
   ]
  },
  {
   "cell_type": "code",
   "execution_count": 20,
   "id": "20ecd979",
   "metadata": {},
   "outputs": [
    {
     "name": "stdout",
     "output_type": "stream",
     "text": [
      "<class 'list'>\n",
      "[2]\n",
      "1 - negative\n",
      "2 - positive\n"
     ]
    }
   ],
   "source": [
    "ex = [\"This one is good. good for work from home. The actual screen size is 32 cm x 70 cm. This is good for software people. Video play is also bad.\"]\n",
    "print(type(ex))\n",
    "val = model.predict(ex)\n",
    "print(val)\n",
    "print(\"1 - negative\\n2 - positive\")\n"
   ]
  },
  {
   "cell_type": "code",
   "execution_count": 14,
   "id": "b84c4156",
   "metadata": {},
   "outputs": [
    {
     "ename": "NameError",
     "evalue": "name 'rev' is not defined",
     "output_type": "error",
     "traceback": [
      "\u001b[1;31m---------------------------------------------------------------------------\u001b[0m",
      "\u001b[1;31mNameError\u001b[0m                                 Traceback (most recent call last)",
      "Input \u001b[1;32mIn [14]\u001b[0m, in \u001b[0;36m<cell line: 1>\u001b[1;34m()\u001b[0m\n\u001b[1;32m----> 1\u001b[0m ex \u001b[38;5;241m=\u001b[39m \u001b[43mrev\u001b[49m\n\u001b[0;32m      2\u001b[0m \u001b[38;5;28mlen\u001b[39m(ex)\n",
      "\u001b[1;31mNameError\u001b[0m: name 'rev' is not defined"
     ]
    }
   ],
   "source": [
    "ex = rev\n",
    "len(ex)"
   ]
  },
  {
   "cell_type": "code",
   "execution_count": 84,
   "id": "b078255e",
   "metadata": {},
   "outputs": [
    {
     "name": "stdout",
     "output_type": "stream",
     "text": [
      "15\n",
      "<class 'list'>\n",
      "[0]\n",
      "[1]\n",
      "[1]\n",
      "[0]\n",
      "[1]\n",
      "[0]\n",
      "[0]\n",
      "[0]\n",
      "[1]\n",
      "[1]\n",
      "[1]\n",
      "[0]\n",
      "[0]\n",
      "[0]\n",
      "[1]\n"
     ]
    }
   ],
   "source": [
    "ans = []\n",
    "for i in rev1:\n",
    "    i = i.replace(\"\\n\",\"\")\n",
    "    ans.append([i])\n",
    "print(len(ans))\n",
    "print(type(ans))\n",
    "for i in ans:\n",
    "    val = model.predict(i)\n",
    "    print(val-1)"
   ]
  },
  {
   "cell_type": "code",
   "execution_count": null,
   "id": "68d4f4bc",
   "metadata": {},
   "outputs": [],
   "source": []
  },
  {
   "cell_type": "code",
   "execution_count": null,
   "id": "994195eb",
   "metadata": {},
   "outputs": [],
   "source": []
  },
  {
   "cell_type": "code",
   "execution_count": null,
   "id": "3a0fae00",
   "metadata": {},
   "outputs": [],
   "source": []
  },
  {
   "cell_type": "code",
   "execution_count": null,
   "id": "12c7cd91",
   "metadata": {},
   "outputs": [],
   "source": []
  },
  {
   "cell_type": "code",
   "execution_count": null,
   "id": "82b0d670",
   "metadata": {},
   "outputs": [],
   "source": []
  },
  {
   "cell_type": "code",
   "execution_count": 25,
   "id": "3889db0e",
   "metadata": {},
   "outputs": [],
   "source": [
    "header = {\n",
    "    'Access-Control-Allow-Origin': '*',\n",
    "    'Access-Control-Allow-Methods': 'GET',\n",
    "    'Access-Control-Allow-Headers': 'Content-Type',\n",
    "    'Access-Control-Max-Age': '3600',\n",
    "    'User-Agent': 'Mozilla/5.0 (Windows NT 10.0; Win64; x64) AppleWebKit/537.36 (KHTML, like Gecko) Chrome/97.0.4692.99 Safari/537.36 OPR/83.0.4254.70'\n",
    "    }"
   ]
  },
  {
   "cell_type": "code",
   "execution_count": 26,
   "id": "cbead9a7",
   "metadata": {},
   "outputs": [
    {
     "name": "stderr",
     "output_type": "stream",
     "text": [
      "C:\\Users\\Hansel\\AppData\\Local\\Temp\\ipykernel_1028\\649522305.py:1: DeprecationWarning: executable_path has been deprecated, please pass in a Service object\n",
      "  driver = webdriver.Edge('C:/Users/Hansel/edgedriver_win64/msedgedriver.exe')\n"
     ]
    }
   ],
   "source": [
    "driver = webdriver.Edge('C:/Users/Hansel/edgedriver_win64/msedgedriver.exe')"
   ]
  },
  {
   "cell_type": "code",
   "execution_count": 36,
   "id": "2e728686",
   "metadata": {},
   "outputs": [],
   "source": [
    "def get_url(search_term):\n",
    "    template = 'https://www.amazon.in/s?k={}&crid=2U21CDDK65IB9&ref=nb_sb_noss_2'\n",
    "    search_term = search_term.replace(' ','+')\n",
    "    return template.format(search_term)"
   ]
  },
  {
   "cell_type": "code",
   "execution_count": 37,
   "id": "00c521a6",
   "metadata": {},
   "outputs": [
    {
     "name": "stdout",
     "output_type": "stream",
     "text": [
      "enter what you want:chocolate\n",
      "https://www.amazon.in/s?k=chocolate&crid=2U21CDDK65IB9&ref=nb_sb_noss_2\n"
     ]
    }
   ],
   "source": [
    "term = input(\"enter what you want:\")\n",
    "\n",
    "url = get_url(term)\n",
    "url2 = url\n",
    "print(url)\n",
    "\n",
    "driver.get(url)"
   ]
  },
  {
   "cell_type": "code",
   "execution_count": 38,
   "id": "d1c28cea",
   "metadata": {},
   "outputs": [
    {
     "name": "stdout",
     "output_type": "stream",
     "text": [
      "['B082KZ797W', 'B07FXQ11XW', 'B073W8W9DH', 'B08LKVL7V2', 'B01B5ZXNLQ']\n"
     ]
    }
   ],
   "source": [
    "records = []\n",
    "soup = BeautifulSoup(driver.page_source,'html.parser')\n",
    "for i in soup.find_all('div',{'data-component-type':'s-search-result'})[:5]:\n",
    "    records.append(i['data-asin'])\n",
    "results = []\n",
    "print(records)\n",
    "for i in records:\n",
    "    results.append(f\"https://www.amazon.in/dp/product-reviews/{i}\")\n",
    "for i in results:\n",
    "    driver.get(i)"
   ]
  },
  {
   "cell_type": "code",
   "execution_count": 39,
   "id": "fc8ba8c9",
   "metadata": {},
   "outputs": [],
   "source": [
    "# item = results[0]\n",
    "# element = item.h2.a\n",
    "# unit = element.get('href')\n",
    "# unit_url = 'https://www.amazon.in'+unit"
   ]
  },
  {
   "cell_type": "code",
   "execution_count": 40,
   "id": "8c131e0e",
   "metadata": {},
   "outputs": [],
   "source": [
    "# def extracting_units(results):\n",
    "#     links = []\n",
    "#     for i in results:\n",
    "#         element = i.h2.a\n",
    "#         unit = element.get('href')\n",
    "#         unit_url = 'https://www.amazon.in'+unit\n",
    "#         links.append(unit_url)\n",
    "        \n",
    "#     return links"
   ]
  },
  {
   "cell_type": "code",
   "execution_count": 41,
   "id": "ed548714",
   "metadata": {
    "scrolled": true
   },
   "outputs": [
    {
     "name": "stdout",
     "output_type": "stream",
     "text": [
      "['B082KZ797W', 'B07FXQ11XW', 'B073W8W9DH', 'B08LKVL7V2', 'B01B5ZXNLQ']\n"
     ]
    },
    {
     "data": {
      "text/plain": [
       "['https://www.amazon.in/dp/product-reviews/B082KZ797W',\n",
       " 'https://www.amazon.in/dp/product-reviews/B07FXQ11XW',\n",
       " 'https://www.amazon.in/dp/product-reviews/B073W8W9DH',\n",
       " 'https://www.amazon.in/dp/product-reviews/B08LKVL7V2',\n",
       " 'https://www.amazon.in/dp/product-reviews/B01B5ZXNLQ']"
      ]
     },
     "execution_count": 41,
     "metadata": {},
     "output_type": "execute_result"
    }
   ],
   "source": [
    "lst = []\n",
    "print(records)\n",
    "def unit(records):\n",
    "    for i in records:\n",
    "        lst.append(f\"https://www.amazon.in/dp/product-reviews/{i}\")\n",
    "        \n",
    "unit(records)\n",
    "lst"
   ]
  },
  {
   "cell_type": "code",
   "execution_count": 48,
   "id": "c663575b",
   "metadata": {},
   "outputs": [],
   "source": [
    "rev = []\n",
    "def reviews_unit(results):\n",
    "    for j in range(len(results)):\n",
    "        page=requests.get(results[j],headers=header)\n",
    "        soup=BeautifulSoup(page.content)\n",
    "        for i in soup.findAll(\"span\",{'data-hook':\"review-body\"})[:3]:\n",
    "            rev.append(i.text)\n",
    "reviews_unit(results)"
   ]
  },
  {
   "cell_type": "code",
   "execution_count": 49,
   "id": "15d9f376",
   "metadata": {},
   "outputs": [
    {
     "data": {
      "text/plain": [
       "['\\n\\n\\n\\n\\n                    The media could not be loaded.\\n                \\n\\n\\n\\n\\n  \\xa0I like Snickers but big bar is nicer.Got this one due to savings deal.Count the pieces as u can get 1 or 2 less.Mine was fine.All 32 pieces were there.Snickers is just best & all other are copycats.\\n\\n',\n",
       " \"\\n\\n  Good quality product received. Chocolates taste fresh and well handled.  Tasted good and overall we're very happy.  This narrower bar has a fewer big nut pieces but that is natural with this format vs a wider standard bar.Only suggestion is that for a bulk pack, the pricing per bar can be a bit better. These are India made bars and they are priced like you would buy them overseas and import them.\\n\\n\",\n",
       " '\\n\\n  I liked it\\n\\n',\n",
       " \"\\n\\n  I've been snacking on Snickers for many years and feel that there's a significant drop in quality. There used to be much more chocolate and nuts. Don't get the same satisfaction and lingering taste of chocolate anymore. That being said, the discount was very good.\\n\\n\",\n",
       " \"\\n\\n  I didn't get any paytm offer but I did get 12  piece 50 gram snickers nicely packed.It had a ice pack in it to ensure that the chocolate doesn't melt so kudos to amazon, and it is reusableTaste great when kept in refrigerator as it becomes hard, bit chewy and much different than when stored in normal room temperatureContains a lot peanut so less chocolate but still taste goodIt won't satisfy your hunger and is free from egg. 100% Veg\\n\\n\",\n",
       " '\\n\\n  It was supposed to be pack of 12 , and it was just 8 and with bubble wrapped around\\n\\n',\n",
       " '\\n\\n  Please see photo. White spots on the chocolates ? Seems spoiled one. Some packets no date of manufacture.  Please let me know if you refund , 2 packets opened to check . Really bad quality and afraid to order in future.Await early reply.ThanksC R  Gupta\\n\\n',\n",
       " \"\\n\\n  The chocolates were 3 months old (not bad). They were packed with some gel. However the gel was not cold enough to keep the chocolate firm. All the chocolates arrived in broken condition from middle. Otherwise chocolates were fresh. Comparing discount of 15% I would say it's a good deal.\\n\\n\",\n",
       " \"\\n\\n  I have just received Cadbury Bournville Dark Chocolate Bar with Cranberry, 80g (Pack of 5). It's really the perfect one. I've tried different Cadbury ranges, but it's the best of them. And there's truly something special in this, which a chocolate worm, like me can identify. I'll highly recommend you to try this, if you didn't prefer just milk and sugar in a chocolate. The 50% dark chocolate really gives an internal pleasure, when you consume it. And, it feels like it's just more than consuming a chocolate. On the more,  the Cranberries in it gives it a weird but enjoyable taste, and makes it a healthy one. Finally, comparing different Cadbury ranges,  I've found its the one and only product from Cadbury, which is free from trans fatty acids . That's really a good news for the health conscious. So, what are you waiting for? Just grab it.\\n\\n\",\n",
       " '\\n\\n  Most \"sugar-free\" dark chocolates end up being on the bitter side. But this one perfectly suits Indian palates. Decently sized portions, too. Overall, a very VFM homegrown dark chocolate brand if Lindt is expensive for you and, Amul Sugar-Free, bitter.\\n\\n',\n",
       " '\\n\\n  It’s good! A lot of sugar free chocolate isn’t, but this is pretty decent. It doesn’t have the sickly sweet aftertaste of sugar chocolate, but neither does it taste odd like a lot of sugar free ones. Flavour is nice.\\n\\n',\n",
       " \"\\n\\n  Honestly, just the hazelnut flavour and bitter chocolate would have worked fine with me. I simply don't like the taste that the sweetener (probably stevia) adds to it.\\n\\n\",\n",
       " '\\n\\n  Packet was opened....\\n\\n',\n",
       " '\\n\\n  please not buy. Actual MRP 99 each not sure what basis MRP 600 mention. actual perk weight of rs 2.\\n\\n',\n",
       " '\\n\\n  Received in good Condition..\\n\\n']"
      ]
     },
     "execution_count": 49,
     "metadata": {},
     "output_type": "execute_result"
    }
   ],
   "source": [
    "rev"
   ]
  },
  {
   "cell_type": "code",
   "execution_count": 50,
   "id": "50686f18",
   "metadata": {},
   "outputs": [],
   "source": [
    "rev1=[]\n",
    "import re\n",
    "import string\n",
    "for i in rev:\n",
    "    text = i.lower()\n",
    "    text = re.sub('\\[.*?\\]','',text)\n",
    "    text = re.sub('[%s]'% re.escape(string.punctuation),'',text)\n",
    "    text = re.sub('\\w*\\d\\w*','',text)\n",
    "    rev1.append(text)"
   ]
  },
  {
   "cell_type": "code",
   "execution_count": 51,
   "id": "2415bf0e",
   "metadata": {},
   "outputs": [
    {
     "data": {
      "text/plain": [
       "['\\n\\n\\n\\n\\n                    the media could not be loaded\\n                \\n\\n\\n\\n\\n  \\xa0i like snickers but big bar is nicergot this one due to savings dealcount the pieces as u can get  or  lessmine was fineall  pieces were theresnickers is just best  all other are copycats\\n\\n',\n",
       " '\\n\\n  good quality product received chocolates taste fresh and well handled  tasted good and overall were very happy  this narrower bar has a fewer big nut pieces but that is natural with this format vs a wider standard baronly suggestion is that for a bulk pack the pricing per bar can be a bit better these are india made bars and they are priced like you would buy them overseas and import them\\n\\n',\n",
       " '\\n\\n  i liked it\\n\\n',\n",
       " '\\n\\n  ive been snacking on snickers for many years and feel that theres a significant drop in quality there used to be much more chocolate and nuts dont get the same satisfaction and lingering taste of chocolate anymore that being said the discount was very good\\n\\n',\n",
       " '\\n\\n  i didnt get any paytm offer but i did get   piece  gram snickers nicely packedit had a ice pack in it to ensure that the chocolate doesnt melt so kudos to amazon and it is reusabletaste great when kept in refrigerator as it becomes hard bit chewy and much different than when stored in normal room temperaturecontains a lot peanut so less chocolate but still taste goodit wont satisfy your hunger and is free from egg  veg\\n\\n',\n",
       " '\\n\\n  it was supposed to be pack of   and it was just  and with bubble wrapped around\\n\\n',\n",
       " '\\n\\n  please see photo white spots on the chocolates  seems spoiled one some packets no date of manufacture  please let me know if you refund   packets opened to check  really bad quality and afraid to order in futureawait early replythanksc r  gupta\\n\\n',\n",
       " '\\n\\n  the chocolates were  months old not bad they were packed with some gel however the gel was not cold enough to keep the chocolate firm all the chocolates arrived in broken condition from middle otherwise chocolates were fresh comparing discount of  i would say its a good deal\\n\\n',\n",
       " '\\n\\n  i have just received cadbury bournville dark chocolate bar with cranberry  pack of  its really the perfect one ive tried different cadbury ranges but its the best of them and theres truly something special in this which a chocolate worm like me can identify ill highly recommend you to try this if you didnt prefer just milk and sugar in a chocolate the  dark chocolate really gives an internal pleasure when you consume it and it feels like its just more than consuming a chocolate on the more  the cranberries in it gives it a weird but enjoyable taste and makes it a healthy one finally comparing different cadbury ranges  ive found its the one and only product from cadbury which is free from trans fatty acids  thats really a good news for the health conscious so what are you waiting for just grab it\\n\\n',\n",
       " '\\n\\n  most sugarfree dark chocolates end up being on the bitter side but this one perfectly suits indian palates decently sized portions too overall a very vfm homegrown dark chocolate brand if lindt is expensive for you and amul sugarfree bitter\\n\\n',\n",
       " '\\n\\n  it’s good a lot of sugar free chocolate isn’t but this is pretty decent it doesn’t have the sickly sweet aftertaste of sugar chocolate but neither does it taste odd like a lot of sugar free ones flavour is nice\\n\\n',\n",
       " '\\n\\n  honestly just the hazelnut flavour and bitter chocolate would have worked fine with me i simply dont like the taste that the sweetener probably stevia adds to it\\n\\n',\n",
       " '\\n\\n  packet was opened\\n\\n',\n",
       " '\\n\\n  please not buy actual mrp  each not sure what basis mrp  mention actual perk weight of rs \\n\\n',\n",
       " '\\n\\n  received in good condition\\n\\n']"
      ]
     },
     "execution_count": 51,
     "metadata": {},
     "output_type": "execute_result"
    }
   ],
   "source": [
    "rev1"
   ]
  },
  {
   "cell_type": "code",
   "execution_count": 52,
   "id": "8be7c598",
   "metadata": {},
   "outputs": [],
   "source": [
    "from textblob import TextBlob"
   ]
  },
  {
   "cell_type": "code",
   "execution_count": 53,
   "id": "25c2fb61",
   "metadata": {},
   "outputs": [
    {
     "data": {
      "text/plain": [
       "15"
      ]
     },
     "execution_count": 53,
     "metadata": {},
     "output_type": "execute_result"
    }
   ],
   "source": [
    "len(rev)"
   ]
  },
  {
   "cell_type": "code",
   "execution_count": 54,
   "id": "5cb5815d",
   "metadata": {},
   "outputs": [
    {
     "data": {
      "text/plain": [
       "['Sentiment(polarity=0.1875, subjectivity=0.2875)',\n",
       " 'Sentiment(polarity=0.3666666666666667, subjectivity=0.41111111111111115)',\n",
       " 'Sentiment(polarity=0.6, subjectivity=0.8)',\n",
       " 'Sentiment(polarity=0.457, subjectivity=0.556)',\n",
       " 'Sentiment(polarity=0.21309523809523803, subjectivity=0.6297619047619047)',\n",
       " 'Sentiment(polarity=0.0, subjectivity=0.0)',\n",
       " 'Sentiment(polarity=-0.29999999999999993, subjectivity=0.4666666666666667)',\n",
       " 'Sentiment(polarity=0.12777777777777777, subjectivity=0.4740740740740741)',\n",
       " 'Sentiment(polarity=0.2325974025974026, subjectivity=0.555064935064935)',\n",
       " 'Sentiment(polarity=0.08666666666666668, subjectivity=0.4966666666666666)',\n",
       " 'Sentiment(polarity=0.359375, subjectivity=0.7208333333333333)',\n",
       " 'Sentiment(polarity=0.22916666666666669, subjectivity=0.5642857142857143)',\n",
       " 'Sentiment(polarity=0.0, subjectivity=0.0)',\n",
       " 'Sentiment(polarity=-0.08333333333333333, subjectivity=0.36296296296296293)',\n",
       " 'Sentiment(polarity=0.7, subjectivity=0.6000000000000001)']"
      ]
     },
     "execution_count": 54,
     "metadata": {},
     "output_type": "execute_result"
    }
   ],
   "source": [
    "polar = []\n",
    "for i in rev:\n",
    "    fed = TextBlob(i)\n",
    "    polar.append(str(fed.sentiment))\n",
    "polar"
   ]
  },
  {
   "cell_type": "code",
   "execution_count": 62,
   "id": "28bc31b6",
   "metadata": {},
   "outputs": [
    {
     "data": {
      "text/plain": [
       "['\\n\\n\\n\\n\\n                    the media could not be loaded\\n                \\n\\n\\n\\n\\n  \\xa0i like snickers but big bar is nicergot this one due to savings dealcount the pieces as u can get  or  lessmine was fineall  pieces were theresnickers is just best  all other are copycats\\n\\n',\n",
       " '\\n\\n  good quality product received chocolates taste fresh and well handled  tasted good and overall were very happy  this narrower bar has a fewer big nut pieces but that is natural with this format vs a wider standard baronly suggestion is that for a bulk pack the pricing per bar can be a bit better these are india made bars and they are priced like you would buy them overseas and import them\\n\\n',\n",
       " '\\n\\n  i liked it\\n\\n',\n",
       " '\\n\\n  ive been snacking on snickers for many years and feel that theres a significant drop in quality there used to be much more chocolate and nuts dont get the same satisfaction and lingering taste of chocolate anymore that being said the discount was very good\\n\\n',\n",
       " '\\n\\n  i didnt get any paytm offer but i did get   piece  gram snickers nicely packedit had a ice pack in it to ensure that the chocolate doesnt melt so kudos to amazon and it is reusabletaste great when kept in refrigerator as it becomes hard bit chewy and much different than when stored in normal room temperaturecontains a lot peanut so less chocolate but still taste goodit wont satisfy your hunger and is free from egg  veg\\n\\n',\n",
       " '\\n\\n  it was supposed to be pack of   and it was just  and with bubble wrapped around\\n\\n',\n",
       " '\\n\\n  please see photo white spots on the chocolates  seems spoiled one some packets no date of manufacture  please let me know if you refund   packets opened to check  really bad quality and afraid to order in futureawait early replythanksc r  gupta\\n\\n',\n",
       " '\\n\\n  the chocolates were  months old not bad they were packed with some gel however the gel was not cold enough to keep the chocolate firm all the chocolates arrived in broken condition from middle otherwise chocolates were fresh comparing discount of  i would say its a good deal\\n\\n',\n",
       " '\\n\\n  i have just received cadbury bournville dark chocolate bar with cranberry  pack of  its really the perfect one ive tried different cadbury ranges but its the best of them and theres truly something special in this which a chocolate worm like me can identify ill highly recommend you to try this if you didnt prefer just milk and sugar in a chocolate the  dark chocolate really gives an internal pleasure when you consume it and it feels like its just more than consuming a chocolate on the more  the cranberries in it gives it a weird but enjoyable taste and makes it a healthy one finally comparing different cadbury ranges  ive found its the one and only product from cadbury which is free from trans fatty acids  thats really a good news for the health conscious so what are you waiting for just grab it\\n\\n',\n",
       " '\\n\\n  most sugarfree dark chocolates end up being on the bitter side but this one perfectly suits indian palates decently sized portions too overall a very vfm homegrown dark chocolate brand if lindt is expensive for you and amul sugarfree bitter\\n\\n',\n",
       " '\\n\\n  it’s good a lot of sugar free chocolate isn’t but this is pretty decent it doesn’t have the sickly sweet aftertaste of sugar chocolate but neither does it taste odd like a lot of sugar free ones flavour is nice\\n\\n',\n",
       " '\\n\\n  honestly just the hazelnut flavour and bitter chocolate would have worked fine with me i simply dont like the taste that the sweetener probably stevia adds to it\\n\\n',\n",
       " '\\n\\n  packet was opened\\n\\n',\n",
       " '\\n\\n  please not buy actual mrp  each not sure what basis mrp  mention actual perk weight of rs \\n\\n',\n",
       " '\\n\\n  received in good condition\\n\\n']"
      ]
     },
     "execution_count": 62,
     "metadata": {},
     "output_type": "execute_result"
    }
   ],
   "source": [
    "rev1"
   ]
  },
  {
   "cell_type": "code",
   "execution_count": null,
   "id": "d7c2cda0",
   "metadata": {},
   "outputs": [],
   "source": []
  }
 ],
 "metadata": {
  "kernelspec": {
   "display_name": "Python 3 (ipykernel)",
   "language": "python",
   "name": "python3"
  },
  "language_info": {
   "codemirror_mode": {
    "name": "ipython",
    "version": 3
   },
   "file_extension": ".py",
   "mimetype": "text/x-python",
   "name": "python",
   "nbconvert_exporter": "python",
   "pygments_lexer": "ipython3",
   "version": "3.7.9"
  }
 },
 "nbformat": 4,
 "nbformat_minor": 5
}
