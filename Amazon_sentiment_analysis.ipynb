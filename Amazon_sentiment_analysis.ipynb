{
 "cells": [
  {
   "cell_type": "code",
   "execution_count": 3,
   "id": "b38c34da",
   "metadata": {},
   "outputs": [],
   "source": [
    "#Selenium imports here\n",
    "from selenium import webdriver\n",
    "from selenium.webdriver.common.keys import Keys\n",
    "from selenium.webdriver.support import expected_conditions as EC\n",
    "from selenium.webdriver.common.by import By\n",
    "from selenium.webdriver.support.wait import WebDriverWait\n",
    "from bs4 import BeautifulSoup\n",
    "#Other imports here\n",
    "import os\n",
    "import wget\n",
    "import requests\n",
    "import pandas as pd\n",
    "import pickle"
   ]
  },
  {
   "cell_type": "code",
   "execution_count": 2,
   "id": "e62774b2",
   "metadata": {},
   "outputs": [
    {
     "data": {
      "text/html": [
       "<div>\n",
       "<style scoped>\n",
       "    .dataframe tbody tr th:only-of-type {\n",
       "        vertical-align: middle;\n",
       "    }\n",
       "\n",
       "    .dataframe tbody tr th {\n",
       "        vertical-align: top;\n",
       "    }\n",
       "\n",
       "    .dataframe thead th {\n",
       "        text-align: right;\n",
       "    }\n",
       "</style>\n",
       "<table border=\"1\" class=\"dataframe\">\n",
       "  <thead>\n",
       "    <tr style=\"text-align: right;\">\n",
       "      <th></th>\n",
       "      <th>polarity</th>\n",
       "      <th>reviews</th>\n",
       "    </tr>\n",
       "  </thead>\n",
       "  <tbody>\n",
       "    <tr>\n",
       "      <th>0</th>\n",
       "      <td>1</td>\n",
       "      <td>Unfortunately, the frustration of being Dr. Go...</td>\n",
       "    </tr>\n",
       "    <tr>\n",
       "      <th>1</th>\n",
       "      <td>2</td>\n",
       "      <td>Been going to Dr. Goldberg for over 10 years. ...</td>\n",
       "    </tr>\n",
       "    <tr>\n",
       "      <th>2</th>\n",
       "      <td>1</td>\n",
       "      <td>I don't know what Dr. Goldberg was like before...</td>\n",
       "    </tr>\n",
       "    <tr>\n",
       "      <th>3</th>\n",
       "      <td>1</td>\n",
       "      <td>I'm writing this review to give you a heads up...</td>\n",
       "    </tr>\n",
       "    <tr>\n",
       "      <th>4</th>\n",
       "      <td>2</td>\n",
       "      <td>All the food is great here. But the best thing...</td>\n",
       "    </tr>\n",
       "  </tbody>\n",
       "</table>\n",
       "</div>"
      ],
      "text/plain": [
       "   polarity                                            reviews\n",
       "0         1  Unfortunately, the frustration of being Dr. Go...\n",
       "1         2  Been going to Dr. Goldberg for over 10 years. ...\n",
       "2         1  I don't know what Dr. Goldberg was like before...\n",
       "3         1  I'm writing this review to give you a heads up...\n",
       "4         2  All the food is great here. But the best thing..."
      ]
     },
     "execution_count": 2,
     "metadata": {},
     "output_type": "execute_result"
    }
   ],
   "source": [
    "Reviewdata = pd.read_csv('reviews.csv')\n",
    "Reviewdata.head()"
   ]
  },
  {
   "cell_type": "markdown",
   "id": "36eaa55a",
   "metadata": {},
   "source": [
    "# Data Cleaning"
   ]
  },
  {
   "cell_type": "code",
   "execution_count": 3,
   "id": "129d6c0a",
   "metadata": {},
   "outputs": [
    {
     "data": {
      "text/html": [
       "<div>\n",
       "<style scoped>\n",
       "    .dataframe tbody tr th:only-of-type {\n",
       "        vertical-align: middle;\n",
       "    }\n",
       "\n",
       "    .dataframe tbody tr th {\n",
       "        vertical-align: top;\n",
       "    }\n",
       "\n",
       "    .dataframe thead th {\n",
       "        text-align: right;\n",
       "    }\n",
       "</style>\n",
       "<table border=\"1\" class=\"dataframe\">\n",
       "  <thead>\n",
       "    <tr style=\"text-align: right;\">\n",
       "      <th></th>\n",
       "      <th>Count</th>\n",
       "      <th>Percentage</th>\n",
       "    </tr>\n",
       "  </thead>\n",
       "  <tbody>\n",
       "    <tr>\n",
       "      <th>reviews</th>\n",
       "      <td>0</td>\n",
       "      <td>0.0</td>\n",
       "    </tr>\n",
       "    <tr>\n",
       "      <th>polarity</th>\n",
       "      <td>0</td>\n",
       "      <td>0.0</td>\n",
       "    </tr>\n",
       "  </tbody>\n",
       "</table>\n",
       "</div>"
      ],
      "text/plain": [
       "          Count  Percentage\n",
       "reviews       0         0.0\n",
       "polarity      0         0.0"
      ]
     },
     "execution_count": 3,
     "metadata": {},
     "output_type": "execute_result"
    }
   ],
   "source": [
    "count = Reviewdata.isnull().sum().sort_values(ascending=False)\n",
    "percentage = ((Reviewdata.isnull().sum()/len(Reviewdata)*100)).sort_values(ascending=False)\n",
    "missing_data = pd.concat([count,percentage],axis=1,keys=['Count','Percentage'])\n",
    "missing_data"
   ]
  },
  {
   "cell_type": "markdown",
   "id": "29e961b4",
   "metadata": {},
   "source": [
    "# Polarity determining"
   ]
  },
  {
   "cell_type": "code",
   "execution_count": 4,
   "id": "f914cce0",
   "metadata": {},
   "outputs": [
    {
     "name": "stdout",
     "output_type": "stream",
     "text": [
      "percentage for default\n",
      "\n",
      "2    50.0\n",
      "1    50.0\n",
      "Name: polarity, dtype: float64\n"
     ]
    },
    {
     "data": {
      "image/png": "[encoded data removed]",
      "text/plain": [
       "<Figure size 432x288 with 1 Axes>"
      ]
     },
     "metadata": {
      "needs_background": "light"
     },
     "output_type": "display_data"
    }
   ],
   "source": [
    "import matplotlib.pyplot as plt\n",
    "%matplotlib inline\n",
    "print(\"percentage for default\\n\")\n",
    "print(round(Reviewdata.polarity.value_counts(normalize=True)*100,2))\n",
    "round(Reviewdata.polarity.value_counts(normalize=True)*100,2).plot(kind=\"bar\")\n",
    "plt.title(\"polarity\")\n",
    "plt.show()"
   ]
  },
  {
   "cell_type": "markdown",
   "id": "88914e19",
   "metadata": {},
   "source": [
    "# Cleaning the reviews"
   ]
  },
  {
   "cell_type": "code",
   "execution_count": 5,
   "id": "11436a1f",
   "metadata": {},
   "outputs": [],
   "source": [
    "import re\n",
    "import string\n",
    "def text_clean_1(text):\n",
    "    text = text.lower()\n",
    "    text = re.sub('\\[.*?\\]','',text)\n",
    "    text = re.sub('[%s]'% re.escape(string.punctuation),'',text)\n",
    "    text = re.sub('\\w*\\d\\w*','',text)\n",
    "    return text\n",
    "cleaned1 = lambda x : text_clean_1(x)\n"
   ]
  },
  {
   "cell_type": "code",
   "execution_count": 6,
   "id": "4097af21",
   "metadata": {},
   "outputs": [
    {
     "data": {
      "text/html": [
       "<div>\n",
       "<style scoped>\n",
       "    .dataframe tbody tr th:only-of-type {\n",
       "        vertical-align: middle;\n",
       "    }\n",
       "\n",
       "    .dataframe tbody tr th {\n",
       "        vertical-align: top;\n",
       "    }\n",
       "\n",
       "    .dataframe thead th {\n",
       "        text-align: right;\n",
       "    }\n",
       "</style>\n",
       "<table border=\"1\" class=\"dataframe\">\n",
       "  <thead>\n",
       "    <tr style=\"text-align: right;\">\n",
       "      <th></th>\n",
       "      <th>polarity</th>\n",
       "      <th>reviews</th>\n",
       "      <th>cleanedData</th>\n",
       "    </tr>\n",
       "  </thead>\n",
       "  <tbody>\n",
       "    <tr>\n",
       "      <th>0</th>\n",
       "      <td>1</td>\n",
       "      <td>Unfortunately, the frustration of being Dr. Go...</td>\n",
       "      <td>unfortunately the frustration of being dr gold...</td>\n",
       "    </tr>\n",
       "    <tr>\n",
       "      <th>1</th>\n",
       "      <td>2</td>\n",
       "      <td>Been going to Dr. Goldberg for over 10 years. ...</td>\n",
       "      <td>been going to dr goldberg for over  years i th...</td>\n",
       "    </tr>\n",
       "    <tr>\n",
       "      <th>2</th>\n",
       "      <td>1</td>\n",
       "      <td>I don't know what Dr. Goldberg was like before...</td>\n",
       "      <td>i dont know what dr goldberg was like before  ...</td>\n",
       "    </tr>\n",
       "    <tr>\n",
       "      <th>3</th>\n",
       "      <td>1</td>\n",
       "      <td>I'm writing this review to give you a heads up...</td>\n",
       "      <td>im writing this review to give you a heads up ...</td>\n",
       "    </tr>\n",
       "    <tr>\n",
       "      <th>4</th>\n",
       "      <td>2</td>\n",
       "      <td>All the food is great here. But the best thing...</td>\n",
       "      <td>all the food is great here but the best thing ...</td>\n",
       "    </tr>\n",
       "  </tbody>\n",
       "</table>\n",
       "</div>"
      ],
      "text/plain": [
       "   polarity                                            reviews  \\\n",
       "0         1  Unfortunately, the frustration of being Dr. Go...   \n",
       "1         2  Been going to Dr. Goldberg for over 10 years. ...   \n",
       "2         1  I don't know what Dr. Goldberg was like before...   \n",
       "3         1  I'm writing this review to give you a heads up...   \n",
       "4         2  All the food is great here. But the best thing...   \n",
       "\n",
       "                                         cleanedData  \n",
       "0  unfortunately the frustration of being dr gold...  \n",
       "1  been going to dr goldberg for over  years i th...  \n",
       "2  i dont know what dr goldberg was like before  ...  \n",
       "3  im writing this review to give you a heads up ...  \n",
       "4  all the food is great here but the best thing ...  "
      ]
     },
     "execution_count": 6,
     "metadata": {},
     "output_type": "execute_result"
    }
   ],
   "source": [
    "Reviewdata['cleanedData'] = pd.DataFrame(Reviewdata.reviews.apply(cleaned1))\n",
    "Reviewdata.head()"
   ]
  },
  {
   "cell_type": "markdown",
   "id": "45721e52",
   "metadata": {},
   "source": [
    "# Model Training"
   ]
  },
  {
   "cell_type": "code",
   "execution_count": 7,
   "id": "314bfb70",
   "metadata": {},
   "outputs": [],
   "source": [
    "from sklearn.model_selection import train_test_split\n",
    "from sklearn.preprocessing import StandardScaler"
   ]
  },
  {
   "cell_type": "code",
   "execution_count": 8,
   "id": "499d3012",
   "metadata": {},
   "outputs": [
    {
     "name": "stdout",
     "output_type": "stream",
     "text": [
      "X_train:  128000\n",
      "y_train:  128000\n",
      "X_test:  32000\n",
      "Y_test:  32000\n"
     ]
    }
   ],
   "source": [
    "X = Reviewdata.cleanedData\n",
    "Y = Reviewdata.polarity\n",
    "\n",
    "X = Reviewdata.iloc[:160000,-1].values\n",
    "Y = Reviewdata.iloc[:160000,0].values\n",
    "X_train, X_test, y_train, y_test = train_test_split(X, Y, test_size=0.2, random_state=42)\n",
    "print('X_train: ',len(X_train))\n",
    "print('y_train: ',len(y_train))\n",
    "print('X_test: ',len(X_test))\n",
    "print('Y_test: ',len(y_test))\n"
   ]
  },
  {
   "cell_type": "code",
   "execution_count": 9,
   "id": "c899571c",
   "metadata": {},
   "outputs": [],
   "source": [
    "from sklearn.feature_extraction.text import TfidfVectorizer\n",
    "from sklearn.linear_model import LogisticRegression\n",
    "\n",
    "tvec =TfidfVectorizer()\n",
    "clf2 = LogisticRegression(solver='lbfgs')\n",
    "from sklearn.pipeline import Pipeline"
   ]
  },
  {
   "cell_type": "code",
   "execution_count": null,
   "id": "81cec5ea",
   "metadata": {},
   "outputs": [],
   "source": [
    "model = Pipeline([('vectorizer',tvec),('classifier',clf2)])\n",
    "model.fit(X_train,y_train)"
   ]
  },
  {
   "cell_type": "code",
   "execution_count": 16,
   "id": "8bf13c17",
   "metadata": {},
   "outputs": [
    {
     "data": {
      "text/plain": [
       "array([[15600,  1372],\n",
       "       [ 1140, 13888]], dtype=int64)"
      ]
     },
     "execution_count": 16,
     "metadata": {},
     "output_type": "execute_result"
    }
   ],
   "source": [
    "from sklearn.metrics import confusion_matrix\n",
    "predictions = model.predict(X_test)\n",
    "confusion_matrix(predictions,y_test)"
   ]
  },
  {
   "cell_type": "code",
   "execution_count": 17,
   "id": "01cc2e89",
   "metadata": {},
   "outputs": [
    {
     "name": "stdout",
     "output_type": "stream",
     "text": [
      "Accuracy: 0.9215\n",
      "Precision: 0.921658107263819\n",
      "Recall: 0.9215\n"
     ]
    }
   ],
   "source": [
    "from sklearn.metrics import accuracy_score,precision_score,recall_score\n",
    "print(\"Accuracy:\",accuracy_score(predictions,y_test))\n",
    "print(\"Precision:\",precision_score(predictions,y_test,average=\"weighted\"))\n",
    "print(\"Recall:\",recall_score(predictions,y_test,average=\"weighted\"))"
   ]
  },
  {
   "cell_type": "code",
   "execution_count": 18,
   "id": "ef010b65",
   "metadata": {},
   "outputs": [],
   "source": [
    "# save the model to disk\n",
    "filename = 'finalized_model.sav'\n",
    "pickle.dump(model, open(filename, 'wb'))"
   ]
  },
  {
   "cell_type": "markdown",
   "id": "3d285f3a",
   "metadata": {},
   "source": [
    "# Dumping model into pickle file"
   ]
  },
  {
   "cell_type": "code",
   "execution_count": 16,
   "id": "bdacaeb0",
   "metadata": {},
   "outputs": [
    {
     "data": {
      "text/plain": [
       "array([[15600,  1372],\n",
       "       [ 1140, 13888]], dtype=int64)"
      ]
     },
     "execution_count": 16,
     "metadata": {},
     "output_type": "execute_result"
    }
   ],
   "source": [
    "loaded_model = pickle.load(open(filename, 'rb'))\n",
    "result = loaded_model.predict(X_test)\n",
    "confusion_matrix(result,y_test)"
   ]
  },
  {
   "cell_type": "markdown",
   "id": "3094f63a",
   "metadata": {},
   "source": [
    "# Testing model"
   ]
  },
  {
   "cell_type": "code",
   "execution_count": 20,
   "id": "20ecd979",
   "metadata": {},
   "outputs": [
    {
     "name": "stdout",
     "output_type": "stream",
     "text": [
      "<class 'list'>\n",
      "[2]\n",
      "1 - negative\n",
      "2 - positive\n"
     ]
    }
   ],
   "source": [
    "ex = [\"This one is good. good for work from home. The actual screen size is 32 cm x 70 cm. This is good for software people. Video play is also bad.\"]\n",
    "print(type(ex))\n",
    "val = model.predict(ex)\n",
    "print(val)\n",
    "print(\"1 - negative\\n2 - positive\")\n"
   ]
  },
  {
   "cell_type": "code",
   "execution_count": 14,
   "id": "b84c4156",
   "metadata": {},
   "outputs": [
    {
     "ename": "NameError",
     "evalue": "name 'rev' is not defined",
     "output_type": "error",
     "traceback": [
      "\u001b[1;31m---------------------------------------------------------------------------\u001b[0m",
      "\u001b[1;31mNameError\u001b[0m                                 Traceback (most recent call last)",
      "Input \u001b[1;32mIn [14]\u001b[0m, in \u001b[0;36m<cell line: 1>\u001b[1;34m()\u001b[0m\n\u001b[1;32m----> 1\u001b[0m ex \u001b[38;5;241m=\u001b[39m \u001b[43mrev\u001b[49m\n\u001b[0;32m      2\u001b[0m \u001b[38;5;28mlen\u001b[39m(ex)\n",
      "\u001b[1;31mNameError\u001b[0m: name 'rev' is not defined"
     ]
    }
   ],
   "source": [
    "ex = rev\n",
    "len(ex)"
   ]
  },
  {
   "cell_type": "code",
   "execution_count": 84,
   "id": "b078255e",
   "metadata": {},
   "outputs": [
    {
     "name": "stdout",
     "output_type": "stream",
     "text": [
      "15\n",
      "<class 'list'>\n",
      "[0]\n",
      "[1]\n",
      "[1]\n",
      "[0]\n",
      "[1]\n",
      "[0]\n",
      "[0]\n",
      "[0]\n",
      "[1]\n",
      "[1]\n",
      "[1]\n",
      "[0]\n",
      "[0]\n",
      "[0]\n",
      "[1]\n"
     ]
    }
   ],
   "source": [
    "ans = []\n",
    "for i in rev1:\n",
    "    i = i.replace(\"\\n\",\"\")\n",
    "    ans.append([i])\n",
    "print(len(ans))\n",
    "print(type(ans))\n",
    "for i in ans:\n",
    "    val = model.predict(i)\n",
    "    print(val-1)"
   ]
  },
  {
   "cell_type": "markdown",
   "id": "7ddb7b71",
   "metadata": {},
   "source": [
    "# WEB SCRAPPING"
   ]
  },
  {
   "cell_type": "code",
   "execution_count": 1,
   "id": "3889db0e",
   "metadata": {},
   "outputs": [],
   "source": [
    "header = {\n",
    "    'Access-Control-Allow-Origin': '*',\n",
    "    'Access-Control-Allow-Methods': 'GET',\n",
    "    'Access-Control-Allow-Headers': 'Content-Type',\n",
    "    'Access-Control-Max-Age': '3600',\n",
    "    'User-Agent': 'Mozilla/5.0 (Windows NT 10.0; Win64; x64) AppleWebKit/537.36 (KHTML, like Gecko) Chrome/97.0.4692.99 Safari/537.36 OPR/83.0.4254.70'\n",
    "    }"
   ]
  },
  {
   "cell_type": "code",
   "execution_count": 2,
   "id": "cbead9a7",
   "metadata": {},
   "outputs": [
    {
     "ename": "NameError",
     "evalue": "name 'webdriver' is not defined",
     "output_type": "error",
     "traceback": [
      "\u001b[1;31m---------------------------------------------------------------------------\u001b[0m",
      "\u001b[1;31mNameError\u001b[0m                                 Traceback (most recent call last)",
      "\u001b[1;32m~\\AppData\\Local\\Temp\\ipykernel_18164\\649522305.py\u001b[0m in \u001b[0;36m<module>\u001b[1;34m\u001b[0m\n\u001b[1;32m----> 1\u001b[1;33m \u001b[0mdriver\u001b[0m \u001b[1;33m=\u001b[0m \u001b[0mwebdriver\u001b[0m\u001b[1;33m.\u001b[0m\u001b[0mEdge\u001b[0m\u001b[1;33m(\u001b[0m\u001b[1;34m'C:/Users/Hansel/edgedriver_win64/msedgedriver.exe'\u001b[0m\u001b[1;33m)\u001b[0m\u001b[1;33m\u001b[0m\u001b[1;33m\u001b[0m\u001b[0m\n\u001b[0m",
      "\u001b[1;31mNameError\u001b[0m: name 'webdriver' is not defined"
     ]
    }
   ],
   "source": [
    "driver = webdriver.Edge('C:/Users/Hansel/edgedriver_win64/msedgedriver.exe')"
   ]
  },
  {
   "cell_type": "code",
   "execution_count": 29,
   "id": "2e728686",
   "metadata": {},
   "outputs": [],
   "source": [
    "def get_url(search_term):\n",
    "    template = 'https://www.amazon.in/s?k={}&crid=2U21CDDK65IB9&ref=nb_sb_noss_2'\n",
    "    search_term = search_term.replace(' ','+')\n",
    "    return template.format(search_term)"
   ]
  },
  {
   "cell_type": "code",
   "execution_count": 42,
   "id": "00c521a6",
   "metadata": {},
   "outputs": [
    {
     "name": "stdout",
     "output_type": "stream",
     "text": [
      "enter what you want:chocolate\n",
      "Enter the number of products:2\n",
      "https://www.amazon.in/s?k=chocolate&crid=2U21CDDK65IB9&ref=nb_sb_noss_2\n",
      "<class 'int'>\n"
     ]
    }
   ],
   "source": [
    "term = input(\"enter what you want:\")\n",
    "no = input(\"Enter the number of products:\")\n",
    "no = int(no)\n",
    "url = get_url(term)\n",
    "url2 = url\n",
    "print(url)\n",
    "print(type(no))\n",
    "driver.get(url)"
   ]
  },
  {
   "cell_type": "code",
   "execution_count": 43,
   "id": "d1c28cea",
   "metadata": {},
   "outputs": [
    {
     "name": "stdout",
     "output_type": "stream",
     "text": [
      "['Cadbury Rich Cocoa Dark Chocolate Bar, 80 g', \"Kisses Hershey's Cookies n Creme, Almonds & Milk Chocolate, 100.8g (Pack of 3)\"]\n",
      "['https://www.amazon.in/dp/product-reviews/B017LHTFFK', 'https://www.amazon.in/dp/product-reviews/B0834SLRHM']\n"
     ]
    }
   ],
   "source": [
    "records = []\n",
    "records_name=[]\n",
    "soup = BeautifulSoup(driver.page_source,'html.parser')\n",
    "for i in soup.find_all('div',{'data-component-type':'s-search-result'})[:no]:\n",
    "    records.append(i['data-asin'])\n",
    "    records_name.append(i.h2.a.text.strip())\n",
    "results = []\n",
    "print(records_name)\n",
    "for i in records:\n",
    "    results.append(f\"https://www.amazon.in/dp/product-reviews/{i}\")\n",
    "for i in results:\n",
    "    driver.get(i)\n",
    "print(results)"
   ]
  },
  {
   "cell_type": "code",
   "execution_count": 32,
   "id": "fc8ba8c9",
   "metadata": {},
   "outputs": [],
   "source": [
    "# item = results[0]\n",
    "# element = item.h2.a\n",
    "# unit = element.get('href')\n",
    "# unit_url = 'https://www.amazon.in'+unit"
   ]
  },
  {
   "cell_type": "code",
   "execution_count": 33,
   "id": "8c131e0e",
   "metadata": {},
   "outputs": [],
   "source": [
    "# def extracting_units(results):\n",
    "#     links = []\n",
    "#     for i in results:\n",
    "#         element = i.h2.a\n",
    "#         unit = element.get('href')\n",
    "#         unit_url = 'https://www.amazon.in'+unit\n",
    "#         links.append(unit_url)\n",
    "        \n",
    "#     return links"
   ]
  },
  {
   "cell_type": "code",
   "execution_count": 38,
   "id": "ed548714",
   "metadata": {
    "scrolled": true
   },
   "outputs": [
    {
     "name": "stdout",
     "output_type": "stream",
     "text": [
      "['B017LHTFFK', 'B0834SLRHM']\n"
     ]
    },
    {
     "data": {
      "text/plain": [
       "['https://www.amazon.in/dp/product-reviews/B017LHTFFK',\n",
       " 'https://www.amazon.in/dp/product-reviews/B0834SLRHM']"
      ]
     },
     "execution_count": 38,
     "metadata": {},
     "output_type": "execute_result"
    }
   ],
   "source": [
    "lst = []\n",
    "print(records)\n",
    "def unit(records):\n",
    "    for i in records:\n",
    "        lst.append(f\"https://www.amazon.in/dp/product-reviews/{i}\")\n",
    "        \n",
    "unit(records)\n",
    "lst"
   ]
  },
  {
   "cell_type": "code",
   "execution_count": 40,
   "id": "c663575b",
   "metadata": {},
   "outputs": [
    {
     "ename": "AttributeError",
     "evalue": "'NoneType' object has no attribute 'get_text'",
     "output_type": "error",
     "traceback": [
      "\u001b[1;31m---------------------------------------------------------------------------\u001b[0m",
      "\u001b[1;31mAttributeError\u001b[0m                            Traceback (most recent call last)",
      "\u001b[1;32m~\\AppData\\Local\\Temp\\ipykernel_12444\\2432077395.py\u001b[0m in \u001b[0;36m<module>\u001b[1;34m\u001b[0m\n\u001b[0;32m      8\u001b[0m         \u001b[0mtitle\u001b[0m \u001b[1;33m=\u001b[0m \u001b[0msoup\u001b[0m\u001b[1;33m.\u001b[0m\u001b[0mfind\u001b[0m\u001b[1;33m(\u001b[0m\u001b[0mid\u001b[0m\u001b[1;33m=\u001b[0m\u001b[1;34m'productTitle'\u001b[0m\u001b[1;33m)\u001b[0m\u001b[1;33m.\u001b[0m\u001b[0mget_text\u001b[0m\u001b[1;33m(\u001b[0m\u001b[1;33m)\u001b[0m\u001b[1;33m\u001b[0m\u001b[1;33m\u001b[0m\u001b[0m\n\u001b[0;32m      9\u001b[0m         \u001b[0mprint\u001b[0m\u001b[1;33m(\u001b[0m\u001b[0mtitle\u001b[0m\u001b[1;33m)\u001b[0m\u001b[1;33m\u001b[0m\u001b[1;33m\u001b[0m\u001b[0m\n\u001b[1;32m---> 10\u001b[1;33m \u001b[0mreviews_unit\u001b[0m\u001b[1;33m(\u001b[0m\u001b[0mresults\u001b[0m\u001b[1;33m)\u001b[0m\u001b[1;33m\u001b[0m\u001b[1;33m\u001b[0m\u001b[0m\n\u001b[0m",
      "\u001b[1;32m~\\AppData\\Local\\Temp\\ipykernel_12444\\2432077395.py\u001b[0m in \u001b[0;36mreviews_unit\u001b[1;34m(results)\u001b[0m\n\u001b[0;32m      6\u001b[0m         \u001b[1;32mfor\u001b[0m \u001b[0mi\u001b[0m \u001b[1;32min\u001b[0m \u001b[0msoup\u001b[0m\u001b[1;33m.\u001b[0m\u001b[0mfindAll\u001b[0m\u001b[1;33m(\u001b[0m\u001b[1;34m\"span\"\u001b[0m\u001b[1;33m,\u001b[0m\u001b[1;33m{\u001b[0m\u001b[1;34m'data-hook'\u001b[0m\u001b[1;33m:\u001b[0m\u001b[1;34m\"review-body\"\u001b[0m\u001b[1;33m}\u001b[0m\u001b[1;33m)\u001b[0m\u001b[1;33m[\u001b[0m\u001b[1;33m:\u001b[0m\u001b[1;36m10\u001b[0m\u001b[1;33m]\u001b[0m\u001b[1;33m:\u001b[0m\u001b[1;33m\u001b[0m\u001b[1;33m\u001b[0m\u001b[0m\n\u001b[0;32m      7\u001b[0m             \u001b[0mrev\u001b[0m\u001b[1;33m.\u001b[0m\u001b[0mappend\u001b[0m\u001b[1;33m(\u001b[0m\u001b[0mi\u001b[0m\u001b[1;33m.\u001b[0m\u001b[0mtext\u001b[0m\u001b[1;33m)\u001b[0m\u001b[1;33m\u001b[0m\u001b[1;33m\u001b[0m\u001b[0m\n\u001b[1;32m----> 8\u001b[1;33m         \u001b[0mtitle\u001b[0m \u001b[1;33m=\u001b[0m \u001b[0msoup\u001b[0m\u001b[1;33m.\u001b[0m\u001b[0mfind\u001b[0m\u001b[1;33m(\u001b[0m\u001b[0mid\u001b[0m\u001b[1;33m=\u001b[0m\u001b[1;34m'productTitle'\u001b[0m\u001b[1;33m)\u001b[0m\u001b[1;33m.\u001b[0m\u001b[0mget_text\u001b[0m\u001b[1;33m(\u001b[0m\u001b[1;33m)\u001b[0m\u001b[1;33m\u001b[0m\u001b[1;33m\u001b[0m\u001b[0m\n\u001b[0m\u001b[0;32m      9\u001b[0m         \u001b[0mprint\u001b[0m\u001b[1;33m(\u001b[0m\u001b[0mtitle\u001b[0m\u001b[1;33m)\u001b[0m\u001b[1;33m\u001b[0m\u001b[1;33m\u001b[0m\u001b[0m\n\u001b[0;32m     10\u001b[0m \u001b[0mreviews_unit\u001b[0m\u001b[1;33m(\u001b[0m\u001b[0mresults\u001b[0m\u001b[1;33m)\u001b[0m\u001b[1;33m\u001b[0m\u001b[1;33m\u001b[0m\u001b[0m\n",
      "\u001b[1;31mAttributeError\u001b[0m: 'NoneType' object has no attribute 'get_text'"
     ]
    }
   ],
   "source": [
    "rev = []\n",
    "def reviews_unit(results):\n",
    "    for j in range(len(results)):\n",
    "        page=requests.get(results[j],headers=header)\n",
    "        soup=BeautifulSoup(page.content,'html.parser')\n",
    "        for i in soup.findAll(\"span\",{'data-hook':\"review-body\"})[:10]:\n",
    "            rev.append(i.text)\n",
    "        title = soup.find(id='productTitle').get_text()\n",
    "        print(title)\n",
    "reviews_unit(results)"
   ]
  },
  {
   "cell_type": "code",
   "execution_count": 25,
   "id": "15d9f376",
   "metadata": {},
   "outputs": [
    {
     "data": {
      "text/plain": [
       "['\\n\\n  The clarity of camera is amazing.Even in low light conditions the picture is clearly visible.An attempt has been made to show a color picture in dark, which  I think is very unique.The installation is very easy . the app is fairly straight forward.MADE IN INDIA product .Overall the device is must have one!!!\\n\\n',\n",
       " '\\n\\n  The best camera with the following features- AI support for person detection- best image clarity on low light and night- easy to setup- Alexa and google assistant support- High built quality- Make in India product- Cloud storage and SD card storage support- Nice packaging- Less power consumption- Comparable with nest, arlo, ring and wyze cameras- Faster software updates with features However, Qubo is a fantastic one!It could make the camera superior if increase efficiency on AI person detection, desktop live grid view apps, local storage support(NAS/NVR), fixed mount option or 1/4” thread 0.5 mm screw thread, optional power adapter to connect directly to electricity supply as in qubo video doorbell, administrative password to camera settings like routers( as multiple logins are supported) or share camera view.\\n\\n',\n",
       " '\\n\\n  This product is awesome. The build quality looks premium and sturdy. And it is power packed with features as they have mentioned. Really liked the motion tracking feature and person detection feature. One thing which is unique and important is the preset feature through which I had defined some zones and with one tap it automatically rotates to that particular angle with the Qubo App.One thing which they can improve on is the camera movement during motion tracking. If I am moving really fast then it loses the track after one point. Although it is understandable since the camera movement is limited. Anyways gud job Qubo. 👍\\n\\n',\n",
       " \"\\n\\n  I am writing this review after using this product for 1 month .Pros : Elegant  and compact Design ,Finishing is good ,packing is good .Cons : Onboard Software Glitch , Latency issue , Mobile app software not up to the mark .( sometimes Hangs ).Issues I have faced in One month :Issue 1:I had received this product in good condition ,Upon using I found that the 64 GB class 10 memory card is not detecting ,I reformatted it to FAT 32 but still dint work. I called the CC and asked for an replacement ( Thinking its and defective product ) ,Product was replaced in 3 days . Same issue occurred in the replaced product. I called up the CC ,they said they will update the SW ,still dint work and the issue is pending .Later I inserted 16 GB Memory card and its working now with max 16 GB card or may be upto 32 GB . - So the claim on upto 256 GB memory card support  is Technically wrong .The same 64 GB card is working with my 3 year old cam for which i paid 1700.( Non qubo Brand )Issue 2 : The person tracking feature works well only when the cam is in desktop or in normal position . But when I mounted it in ceiling and enabled Rotate Image ,the tracking dint work as expected ,It tracked at the initial moment and turned to an corner where there is no person moment at all . Called up the CC ,but the same answer .issue not resolved .Issue 3 :1.Mobile software hangs some time ,need to kill the app and reopen .2. latency issue while streaming the video( Image Pixelating ) ,this happens sometimes - CC's resolution is to reboot Internet router . But that's not the fix for the issue .I have called up Customer Care Several time ,but the issues have not resolved and the ticket has been closed , I can provide the CC ticket reference number and call recording also .Recommendation to the Buyer :  I taught this is an made in India Initiative product and purchased it ,but now i regret it . Please do not invest your money in this product and waste your Time and money .I am not going to escalate this issue to the CEO of Qubo or any other authority as its not worth spending my time on it and for the value of the product .Please invest on much more mature product if you need better result .Thanks\\n\\n\",\n",
       " '\\n\\n  Nice product Fulfilling your expectations. Picture and night  views are clear. Coloured picture even in night mode/dim light. Very easy to install. I faced a bit problem previously with motion sensor but has been resolved by customer care. Customer care response is nice. Ugly part is about fixing of cam on roof. Two holes in the lower part needs lot of precision. My suggestion to the company is either to modify the system or to change the system. Sturdy and heavy base unlike other cams online. Its really indian. Overall a nice product worth your money\\n\\n',\n",
       " \"\\n\\n  **UPDATE 08/01/22**Received a replacement from Qubo. Installed Cam and looks ok as of now. More than the product, their service is good. Good follow up for replacement.**Old Review**Product worked fine only for a 2 days. Picture has become hazy and whenever we rotate the camera half picture becomes messy and look like all colours are leaking (photo attached). Voice from camera to your phone also is very bad. Third day, there is burning smell from adaptor and the adaptor is gone. Can't return, My installation was late, Just out of the return window. Don't know what to do.\\n\\n\",\n",
       " '\\n\\n  I chose this one among all 360 degree camera options because of its looks and built-in person detection…and I must admit it looks even better in real…working perfectly…video quality is great…app is great…person alerts are really useful…you can go for it!\\n\\n',\n",
       " \"\\n\\n  Bought it recently have been using it for a day and checked the complete cycle for a day. Below are the list of pros, cons and important points to consider before purchasing to help you make a decision:Written on: 22nd December 2021Pros:* Initial configuration is easy* App is stable - checked on both Android and IOS* App's camera config is easy to use - can easily access and control cam and change viewing direction etc.* You can configure multiple cameras in app* Live feed is stable (depending on network)* Mounting on ceiling is not necessary you can place it anywhere stable.* Mounting screws with wall plugs/nylon sleeves are provided if needed* Both Day and Night mode picture/video feed is good* Expendable storage of up to 256GB using micro sd cardCons:* In default plan(free) you can only connect to 2 mobile phones at a time, and you have to share credentials of app on another phone/device to see the feed.* Right now it is not possible for two different app logins to connect to a single Qubo device.* If you need access on more than 2 mobile devices then you would have to subscribe (paid and ongoing) to one of the listed plans. (prices are reasonable for now)* Event tracking is not 100% accurate, so you will get false notifications at times* App could be better - for example:  ** right now if you try to disable cloud storage it shows that functionality can only be disabled after purchasing a subscription.  ** Ideally it should be user's choice whether they want to store on cloud or not.  ** gallery functionality is not clear  ** not able to manually record a video, and error which is shown is not helpful.Important Points to Consider before buying:* Camera needs  a home network in 2.4Ghz band (wifi)* Uninterrupted power supply is needed* Power cable provided is approximately 150cm in length so depending on where you're mounting/placing the camera you would need an extension or power outlet nearby.Overall:Product is highly recommended, the cons listed are not a deal breaker as most people will not use the listed features, and will only need feed on at most 2 devices which is free.\\n\\n\",\n",
       " \"\\n\\n  Absolute waste of money and time!My camera stopped working after a month and their customer support is very pathetic. I've been talking to them for about 10 days now but they make one excuse or another every day. After 10 days of talking neither the camera has been fixed, replaced or money refunded.Pros:-noneCons:-1) Very poor customer and non-proactive support.2) No offline mode. Goes dead and all functions stop if wifi is not available.3) Does not give color image at night time so don't be fooled by color image in low light claim.4) Very poor motion and person detection. Fails more than 50% of the time5) Requires you to keep your router firewall on low setting otherwise it goes into offline mode.6) Can't work with a hidden wifi SSID even after you first configure it and hide it later.7) sometimes its infrared stops working and everything goes dark at night time. You only see the light bulbs and everything is just black and sometimes magenta. This happens after it has been offline for 10-12 hours.8) No desktop or browser application available to track cameras using your desktop or TV screen.9) Mobile application is power hungry and will drain your battery if you keep it on.10) You can't set schedules to start and end recording automatically at specified time or day considering motion detection is almost useless here.11) Can't set any activity or inactivity zones to improve the motion detection.\\n\\n\",\n",
       " '\\n\\n  I have been using their Qubo Video doorbell for front gate security. Bought this new camera from them - another superb product. It covers complete living room through it’s 360 degree coverage. Video quality is very good and vivid. Their App is also very user friendly and u can access all devices through a single home app - super convenient.\\n\\n',\n",
       " '\\n\\n  no option for google or other cloud service only their own which is ridiculous expensive.Although there is a sd card slot the videos  on that card can not be viewed with the app. if an intruder is entering your room you can only watch this if you have subscribed to the cloud.This is misleading and on top of it you can NOT return the product - Amazon will only replace it with an identical one!!!\\n\\n',\n",
       " '\\n\\n  I received and tried today. Immediately I was disappointed for a few reasons.Cons:1. Does not have WPS, you will have to enter your wifi password in to their 3rd party app.2. It does not record live video on to SD card. Only records motion captures or events of ~4 seconds3. Then you will get a notification, Assumption is that you will have to getup in the middle of the sleep (or) whatever the state you were in, open their app and press the record button. (this is the way, from at least as far as I could understand their app)4. App is so confusing., slow.5. No return. Only replacement., Why would anyone sane want a replacement? :|Pros:build quality.\\n\\n',\n",
       " \"\\n\\n  Excellent product for the price, looks sturdy.. Setting up the camera was done within 3 minutes..Have set it up on Jio fiber and works flawlessly..  Placed the same outside my apartment door and accurately captures every human passing by with Instant alerts.. Smart tracking works like a breeze with no blind spots, hats of to the pan and tilt functionality.. Quality of video in HD mode is good and per my expectation.. Using it 24/7 so let's see how long it lasts, today is just the 2nd day, shall update accordingly.. Definitely recommend against all other available..\\n\\n\",\n",
       " '\\n\\n  Just one two step installation procedure.. first register as member and it will automatically take you to just few seconds easy and simy installation step.Can be fixed standing or upside down.  All necessary accessories come in the package, even small paper sticker helping to drill holes.Clarity of the image is really clear. Wide coverage area.  Camera can be rotated 360 degree horizontal and about 10 deg down + 90 degree top.Surprising is, even if there is little bit of lighting, camera gives clear colour images m (the image shows the picture taken at 9:30 p.m. with 3 watt LED indirect lighting).The app has replay feature from SD card, but without fast forwarding, which is one of the most important feature missing.  Good thing about the App is, it does not ask for security risk mobile phone permissions.Overall worth for the price and really good Wi-Fi CCTV camera.\\n\\n',\n",
       " '\\n\\n  Good image quality day or night but not straight image,round image,Imou software working very good, Audio quality from camera is ok but audio from mobile to camera very distorted\\n\\n',\n",
       " '\\n\\n  No loop recordingSo basically you can’t record unless you check daily & delete record\\n\\n',\n",
       " '\\n\\n  Nice camera.\\n\\n',\n",
       " \"\\n\\n  I was looking for an Indoor Wifi Camera, for my children's room as was much concerned about safety when was away from home due to work. After many surveys finalized this product, It is giving an excellent performance, 1080p video quality is best in class, Accurately detect the motion and gives a direct notification to your phone even if the app is not open, which helps me to monitor much effectively. Have installed the camera on the ceiling in the center of the room, accurately follow the motion of kids with no blind areas in the room. Two-way talk facilitates me to communicate in the room and gives clear audio with good volume on both the side. storage is not an issue at all, will support up to 256GB of micro SD card(Needs to be purchased separately) also comes with a LAN port in case if you need more storage.  one touch privacy protection that closes the shutter physically is the cherry on a pie.Would definitely suggest going for it without any further thinking. Works outstandingly well, best for indoor use.\\n\\n\",\n",
       " '\\n\\n  Poor Video Quality as after connecting to NVR the highest resolution option I am getting is 680x340 which is VGA resolution and Dahua Customer support is pathetic, they themselves are not aware of how the camera gets connected to NVR.Video quality from IMOU Life app is HD which is okay but not Full HD for sure as I have other cameras which are Full HD & has better video quality but it’s okay as long as you only want to use it to record video stream using either SD-Card or Cloud Storage.Two way audio quality is not that effective as you can’t hear other people clearly due to camera speaker not being that loud and you won’t find any option to increase volume.Another problem is that when you share the device with family members they can only initiate two way audio when they are allowed full control of device which is weird as they should update the IMOU life software to have different user roles to allow two-way communications including video viewing.Motion sensor needs to improve a bit, it’s good but not good enough to serve the purpose. Overall okay to have this camera if you just want to try first security camera to start with and have reasonable budget.Dahua need to improve the product quality for sure and if they are reading then please take these comments as good feedback as it’s not that bad product which I can’t recommend, small enhancements will improve customers experience and will make it a wow product.\\n\\n',\n",
       " \"\\n\\n  Well I have had set up several IP Cams but this Crap I couldn't make it.I bought this seeing the good reviews here. well they seems have developed good App but it's all wet laundry.I followed all the steps meticulously tried several times. My used Wifi Network is 2.4 Ghz, I used my iPhone as well as Android phone to accomplish the setup, spent several hours doing the reset and repeating the steps again. All went in vain.The green light stopped flashing and was constant green. Checking my Wifi router setting I have also seen that This IPC cam has got itself connected to my network but no could connected. I couldn't add this device and view the camera. Seems there must be a major problem in the App or Server setup.Don't no buy this Crap and waste your time mucking around try to set it up.The worst part is you will not get the resend & refund option but replacement option. So don't waste your time!!(since the setup has itself failed couldn't review on the quality of the Camera)\\n\\n\",\n",
       " \"\\n\\n  It consumes around 10gb of storage in 24hours in 'HD' mode.Pros :Night mode recording.Clarity of camera.Multiple users can watch camera recording at same time.Two way communication.1080p HD recording.Can record videos without internet , requires internet connection after switching camera on - after that you can disconnect & recording will continue.ICons:It doesn't support AUTO 360° rotation. User has to manually adjust camera from application.If there is a power outage or by any chance you disconnect power source , camera would start recording again after you connect it to internet.You need to keep camera connected to a power source for 24hours - charging option would've been helpful here.Application sometimes sends motion alerts after delay of 30minutes(approx).Memory card of storage capacity greater than 64gb are not supported.\\n\\n\",\n",
       " '\\n\\n  I cannot connect the device with my Jiofi  so please help me out\\n\\n',\n",
       " '\\n\\n  Pros:1) Simple install (only first time you need to configure with camera + router through Mi Home app, after that if you power off your router or camera and it will automatically reconnect when these are switch it on)2) 1080p HD cam(view full frame also, without moving the camera angle you can see the full frame view)3) You can monitor from remote end (need good internet both in router and mobile, otherwise start buffering)4) two way talk5) share your camera to your family member( both are should be in same server)6) good look( only one colour- white)7) value of money8) support upto 64 GB micro sd card9) Record video without internet also (some of the amazon customer commented that it will not work without internet. It is totally a false statement)Cons:Nothing\\n\\n',\n",
       " \"\\n\\n  Remember... nothing is perfect. Xiaomi has already released home security cameras using other brands such as Yi. And the home security camera market is yet to be adapted in large. So, you can expect a lot of misunderstanding on how everything works together in a home security camera in general.Initial setup: It is a breeze for some, but pain for others. See the 1-star ratings if you want proof. I had trouble getting this camera recognized by its own app (Mi Home). It took about 1 hour to recognize after trying with different lighting conditions. The camera got disconnected from the app, after I switched the SSID of the router. So, I had to pair it again. This time, it took more than a day(!) of trial and error. I had to keep the camera under bright sun light in order to get recognized by the Mi Home app. Lesson learned in a hard way.Bandwidth requirement: This camera requires 24x7 connectivity with solid internet connection and with good upload bandwidth. Even if you have 100mbps connection, this camera can only be connected via wireless. So, longer the distance from the router, shorter the bandwidth. This camera hangs up, if it doesn't have enough bandwidth. If you add NAS storage, you'd need even more bandwidth between the camera and the router. The camera is very sensitive. If you set up any conflicting configurations, it'd just hang and would not record anything at all, even in the on-board SD card storage. If the camera hangs for a particular reason, you have to restart it. It is a pain to troubleshoot things when you are miles away from home in another city.Mi Home app requires almost all the permissions from your phone. But, I was able to disable most permissions except location and storage. What's more! You get ads in the app right after opening it (on the dashboard where you see the list of devices) since version 5.4.43 (released on Dec 26, 2018). I wish Xiaomi released a dedicated app for home security cameras, like other companies have done.Google Assistance isn't compatible with this camera, if you are into that sort of thing. Some other cameras from Xiaomi (not released in India) are supported, though.Once paired to the app and once you have the perfect setup (with NAS and good wireless bandwidth to / from the camera), you may become addicted to use it under different conditions, such as with total darkness.If you are technically sound and have around 10k budget, Raspberry Pi based home security is a better option! If you are on a budget and if you don't want to spend a lot of time on technical things, then, Xiaomi Mi Home Security Camera is the best home monitoring camera you can get!\\n\\n\",\n",
       " \"\\n\\n  Any future buyer.. this product may be a good one for lucky ones only... My experience is1. Inadequate information about network connectivity... You won't be able to connect to wifi if it is higher than 2.4 Ghz. You will come to know only when you try to configure it for the first time :(2. You are really lucky if this camera can read QR code in your phone during setup. I spend a whole day and no luck. Then , after google, I realised that this is a known issue. Even you would found this issue reported by another customer, here3. Its not directly sold by MI. A retailer who's phone given by Amazon customer support is found always switched off4. So as I couldn't even complete initial setup using high-speed cable broadband or using Airtel Dongle. I can't comment about how good or bad its rest features...\\n\\n\",\n",
       " \"\\n\\n  don't find any huge difference in 1080 p and 2k camera. I rec it today on pre booking. prices also high.. I booked 6 camera and upgraded all 1080 p to 2k . but not completely satisfied. if any body want to purchase u can go for 1080 p itself prices also around 2200\\n\\n\",\n",
       " \"\\n\\n  1. this product is of not much use if you don't have 24 hrs good wifi.2. 64 gb data card store recording of 6 days. when the video quality was at low level.3. recording are of 1 minute each. that is 60 files in 1 hr. no options available.4. not a waterproof5. you cannot connect a usb cable or any other cable to watch the recording6. if you have connected to a camera using wifi system A, then if you want to change yoir wifi to B, you have to reset the camera. means you cannot use more than 1 wifi, especially when it is installed at some height.7. no battery or power backup. if there would have been option of 5 minute, then it would have been good option.8. mi home app is not for pc or laptop.9. mi home app screen doesn't rotate.it seems to be a good option if it is inside room, good wifi 24 hrs and person watches not so frequently.10. consumes around 1gb data per day if someone watching it like a regule cctv camera full day, at low quality settings. just an estimate, not confirmed.11. no setting in mi home app to transfer file from sd card to your mobile.it seems to be so good but it lacks lot of things.12. nice beautiful piece.13. can be rotated easily in all directions through app.14. if someone steals the camera, then you  lost all the recordings and the memory sd card along with it.15. no cloud storage, i didn't find.16. you have to purchase memory card also. and if someone can reach the camera, memory card can be stolen easily and hence all records17. it has facility of NAS, but then you have to purchase nas device.18. net price = camera price + microsd card + internet charges + nas charges (if purchasing).\\n\\n\",\n",
       " '\\n\\n  My Dad is 86 yrs old and staying home alone while we are at work..I have installed the device to keep an watch that he is safe at home and to be connected all the time.He cant use phone ......till date connected with him while we are out side is a challenge as most of the time he cannot even received the call as he was confused to use phone ..now after installed this device, I feel  its actually a peace of mind....can talk to him any given point of time he can easily asked for anything at any time and most importantly he is allays in front of my eyes.Thanks to MI for such a lovely /economic/essay-go/Quality product\\n\\n',\n",
       " '\\n\\n  This is regarding the HOME SURVEILLANCE ASSISTANT feature inside the app:#1) The 10 seconds for video recording is too short. So the purpose of purchasing the camera is not fulfilled, making the device is useless.Xiaomi should give us an option to extend the recording time limit to at least 2 minutes.#2) The minimum \"Alarm Interval\" is 3 minutes, which is too long. Xiaomi should also give an option to reduce it to 1 minute.Reason for the feedback: I suffered property damage, and the perpetrator could not be identified even after installing the Camera\\n\\n',\n",
       " '\\n\\n  Unfortunately no cloud storage service...so I returned it.... Product is only for indoor use...\\n\\n',\n",
       " '\\n\\n  Purchased on 5.09.18 for Rs 3999/- in lightning deal [ Colour Cobalt Blue] .Delivered 11.09.18. Camera used for the first time on 17.09.18 on Vishwakarma Puja. Films  and camera case purchased separately from market and are cheaper than online rate . Camera is made in Thailand .Camera has functioned well so far , however, the battery cover has become loose within 3days. I am a novice in normal photogaphy ( i.e., I use only point & shoot cameras as in mobile phones). Some reviewers have described Fuji Instax Mini as a toy but I do not agree with them. If you like experimenting with photography ,you should try this. If you like something just for fun then too try this.Instant camera means you have just one chance. The photo may be good or bad depending how you handle it.But this process is immensely satisfying as you strive to improve. The camera comes with good instruction sheet. Read it carefully. Also watch online instruction videos - just Google Fuji Instax Mini 9 & you will come across several. They will show you in detail how to load battery, films and start taking photos. I watched these films before I took the first photo & it came out quite nicely. The camera suggests lightning and I strongly recommend that you follow it, until you become an expert in instant photography. The charm is to see you photos develop instantly and the pleasure of taking autograph on spot (if you take a photo of someone you admire) or presenting a photo to someone.Load film cartridge exactly as given in instructions .Open foil preferably in dimly lighted room, slip cartridge inside(see videos ), then press the shutter. A film cover will pop out. the camera will show that 10 films are loaded. Now it is ready to use. As you take photos, the camera will indicate how many films left.A photo takes about 3 minutes to develop fully. DO NOT SHAKE THE PHOTO. Just put it gently on a flat surface, away from strong light. After 3 mins, show it to everyone. Store photos in albums.Use the close-up lens to get good photos. Distance should be between 35 -50cm, not more. Without lens it should be 60cm to 2.5m. Instant photography is not for people in a hurry. Films are expensive, so you have to be patient when you take photos. Some times  better results come  for the photographer to sit down & take instant photo. I took the first photo sitting on a bench. I have not yet taken a selfie so I cant comment on that aspect. The photos are small in size like an ATM card.So you should plan what photos to take. If for eg you take full figure the person photographed will look tiny. In my childhood days of black & white photography with non-digital film cameras or box camera as they were called,  small square photos used to be developed. The photos in the instax mini are about that type (though not square). If you have old black & white photos at home, it will give you an idea about size of the subject in photos.I initially wanted to own this camera because of its colours. I followed Amazon pricing for more than one year, before I plunged in the lightning deal. I took the decision to buy it recently,after someone took my instant photo( in a more expensive camera) & presented it to me.  Fuji instax mini is the cheapest among instant cameras.  Try it and you will get addicted.\\n\\n',\n",
       " '\\n\\n  I dont lyk dis product at ol. It is a complete waste of money. Guys do not buy . Bad pictures\\n\\n',\n",
       " \"\\n\\n  Don't use in high altitudes , film will capture air and will not be able to print\\n\\n\",\n",
       " '\\n\\n  This is a very pretty little thing that can add a pop of colour and brightness to your collection. The pics are super awesome, loved everything about it !What I loved the most, is the concept of cherishing the memories after clicking them. Just make sure there is enough light when you click them, other wise they turn out to be dark.Go ahead and buy it without a thought !!\\n\\n',\n",
       " '\\n\\n  Very happy with the purchase. Picture quality is amazing. The selfie mirror is a great add on and is very useful.\\n\\n',\n",
       " \"\\n\\n  Instax Mini 8 was one of the favourite fun camera for instant photo lovers and while keeping its popularity in mind Fujifilm has now launched this new Instax Mini 9 with some minor upgrades. Unlike other countries, Instax Mini 8 in the Indian market was not a successful attempt due to less popularity for Instant cameras, to turn the tables Fujifilm has now come up with its updated version equipped with a selfie mirror and few minor upgrades. Let’s get into details:In the Box:----------------1. Camera2. Two AA non rechargeable batteries3. Strap4. Close-up lens5. Few Manuals, sticker and warranty card.Design:-------------The unique retro design with attractive pastel shades is one of the major reason people love this camera more than any other instant camera. Fujifilm while keeping the retro look intact, has now renewed its colour range with cool colours like Cobalt blue, Lime green, Ice blue, Flamingo pink and Smokey white. It weighs just around 350 grams with battery and it measures 4.56 x 4.66 x 2.69 inch, also it’s built up with plastic and that's make it look like a toy camera.Few improvements in design includes a tiny selfie mirror at front of the camera to lure all those selfie lovers out there and a close up lens attachment to help capture macro shots more precisely.Hardware:---------------This camera features a 60 mm lens with f/12.7 aperture and a flash that always light up whether you are indoor or outdoor. It also houses a light sensor that helps to automatically adjust the exposure as per the lighting condition and we only need to turn the dial as per the indicator. There is a dedicated high key mode which is an addition in this model to maximize brightness.It comes with a set of two AA batteries but instead of these I would recommend to use rechargeable batteries that you’ll need to buy separately to save some bucks. There’s also a photo count analogue meter at the back that counts the number of shots remaining.Performance:-------------------This camera is just for fun and is not meant to click ultra HD pictures like DSLR’s so better not compare it to them. It’s an instant camera so don’t expect any kind of connectivity with any other device. If you want a fun camera then only buy it or else you’ll regret.Just press the power button located near the lens to turn on the camera and the lens will pop up. Adjust the exposure by using rotating the dial to the desired position as suggested by the light sensor and that’s it you’re ready to click  retro looking pics, after clicking the photo the camera will extract a photo print from top of the camera in 2-3 seconds.Don’t get shocked by viewing a blank picture because photo will take a minute or two to get fully developed.But to use it you will have to first buy a photo cartridge which is available in the market separately at not so pocket friendly price and after putting the cartridge in the camera you will be able to click just 10 pictures before inserting a new cartridge.Verdict:--------------Overall, the look and feel of this camera is just like a toy with no sharp edges and eye soothing colour, also the process of clicking photos is really simple but the cost per photo is not economical as per my opinion but that’s not what everyone seeks who buy this camera since it’s just for fun.If you have a good budget to spend on an Instant camera then there are many options out there with better clarity and larger photo capabilities.P.S. I review products on amazon to help fellow customers in taking wise decisions and try to ensure that everyone's hard earned money get its full worth. It always makes my day to know that people find my reviews helpful. Feel free to comment for any queries.\\n\\n\",\n",
       " \"\\n\\n  I wanted to take this camera from long time, now I got this... Film which we need to take seperately is quite expensive other than that it's a better thing to collect our memories and people who wants  create memory book for them it helps alot...\\n\\n\",\n",
       " '\\n\\n  Loved this one. It’s worth every penny. It’s good quality and it’s super cute. It is so aesthetic. I am going to use the pictures in my scrapbook and to decorate my room.\\n\\n',\n",
       " '\\n\\n  I ordered this camera around 2 weeks ago first photo worked and then after then it stopped working all the films started to come blank and when I kept on trying hardly 5 films worked and 20 films have been wasted on this my opinion would be not to buy this camera just a waste of time and money strictly not safe to buy.\\n\\n',\n",
       " '\\n\\n  Great product. But had a little problem of the roll getting stuck. But after using only and only duracell battery it works. Been using for nearly 9 months and still works like a charm. About the picture quality its better to take pics outside as indoors results tend to be a bit dark\\n\\n',\n",
       " \"\\n\\n  I have a mi security camera already and I am using it since one year. After the lockdown, it went out of stock but soon arrived at Amazon but it's cost had increased. Even then I went ahead and tried to purchase it as I had prior confidence but just before buying Amazon showed me a feature comparison with this camera (tapo c200). So my review would be largely a comparison of the two with a breakup of the features of both security cameras.On the feature front, this tapo camera beats mi security camera hands down. It comes with home monitoring, call/talk back feature just as mi security camera but additionally has privacy feature to switch off recording, alarm on/off on detection of movement, clean user interface, advanced self diagnosis feature, auto reboot feature and 128gb sdcard storage as against no privacy feature and 64gb in mi security camera. Also on detection of movement, mi security camera records multiple clips of max 1 min duration whereas tapo doesn't have that recording constraint. This is the biggest disadvantage of mi security camera. The setup took time as my WiFi was hidden and camera didn't recognize the hidden network even though I manually added it. But finally to overcome that, I made my WiFi network discoverable, once tapo recognized and stored it, I once again hid my WiFi and tapo didn't have any problem.Aesthetics of tapo are however not that good as mi security camera. mi security camera feels premium when touched physically. However when you touch tapo, you get a cheap Chinese feeling which I hated when I opened the box. Moreover tapo rotates from its bottom and the rotating diameter is large. Mi security camera rotates from its middle point and the rotating diameter is consequently smaller.Other than the rotating and aesthetics, tapo wins quite handsomely. If you want a premium feeling ( which no longer matters once the camera is setup) go for mi security camera otherwise go for tapo c200 and enjoy the rich features at a lesser price.Will update more about its longevity in future.Update1: After 3 months I realized that after inserting SD card, the initialisation time has increased by more than two minutes whereas in mi camera, the initialisation time hasn't noticeably changed. So mi camera wins here.Update 2: Recording and browsing of recording in sd card in tapo is better but when tapo records any video on detection of any Movement, the green light of the camera turns to red. Also when night mode switches on, one can hear the relay sound from tapo easily. Mi camera continues to emit blue light even while recording and no relay sound comes out of Mi camera when night mode switches on. So Mi camera wins here again.Update 3: in case of motion detection, mi camera takes an estimated 8-9 minutes to process the feed and send you a notification. That is, if a person/motion is detected at 8:00pm in front of camera, you will receive a notification only at 8:09 pm. In case of tapo, this is 4-5 minutes with a buzzer/alarm feature. Here Tapo wins down handsomely.More updates in future\\n\\n\",\n",
       " '\\n\\n  The device goes offline like of a full day. Happened it on last 2 Sunday’s and today. Don’t know what is wrong . Internet and power supply is fine but the devise shows offline. Customer care number doesn’t respond or attend the call. Tried giving feedback thru the app. Even no response for that.\\n\\n',\n",
       " \"\\n\\n  This is really a very good Camera in this price. Beleive me I have tried all the Xiaomi, Yi and D3D Smart Wifi Cams and this I found one of the best option.I am using these with Home Assistant and MotionEYE.I have not inserted any SD card and using MotionEYE to directly record videos to my system.The RTSP stream is in full hd 1080p and its really good. It loads instantly and delay is of few microseconds.I am using 1080p feed over RTSP and 360p feed on the app so both the things can be used at the same time.I have configured AI Face recognition using this camera to announce whoever is on my gate over my Google Home Mini and this is working really well with this cam.Pros:- Good Video Quality at 1080p and at Night- Really loud speaker- Camera Speaker can be used to trigger alarm sound- They offer RTSP/ONVIF support for these camera which is a big deal- Fast and Responsive App- Ability to live view camera feed on any computer systemCons:Sometimes connectivity issue in the app but it can be fixed with the update.No NAS support like Xiaomi Cameras, However I don't need it as RTSP is more then enough but having NAS support in app is a big bonus.\\n\\n\",\n",
       " \"\\n\\n  BOUGHT THE TP link for home use - the devise connected to the wifi but the camera didn't. We tried for tech support. 5 days - no response - they send us from one number to another. They neither solve the problem nor do they take back the product - worst experience ever. I needed two cameras so I bought the TP Link and another camera of Sricam make - that is working beautifully so its not that our wifi is not working or that we don't know how to set up. I WOULD HAVE LIKED TO GIVE 0 RATING TO THIS PRODUCT. Amazon also is not able to help us so as an online shopping site they have failed. totally bad experience.\\n\\n\",\n",
       " \"\\n\\n  I bought this for Rs 2500. My honest review on using this for 2 weeks.1) It is one of the best camera at this budget. It provides 360' degree tilting from left to right and vice versa, also up and down view is available.2) Clarity provides 1080 pixel, which you can't get in normal security camera especially at this budget(2500rs).3) It doesn't record the idle position, and captures any small movements. It only records if there is a movement, which is a good feature. Also it provides constant notification for every movement. Even it is a small flies it captures that too and sends the notification to mobile.4) You just need a wifi and power point.5) Draw back is if someone steals the camera, then you can't see anything, because everything is recorder in camera's sd card.Even if you switch off or it doesn't get wifi you can't view or download anything.6) if you are placing this inside the gate then it is a good option.7) another feature is it also records the voice.8) I inserted 128 gb sd card on this.My review is 5/5\\n\\n\",\n",
       " \"\\n\\n  Update 2: 3rd Oct 2021Cameras have got one or two firmware updates so far. Things have got better quite a bit now.Playback from app has improved.I am satisfied.I have installed the cameras on the walls outside. Away from direct sunlight and rain though. Covered openings with tape to prevent dust and moisture getting in.A year in, so far everything is fine.Update 1: The Tapo app absolutely sucks. Terrible app. Sometimes takes one or two minutes to get video from camera. Viewing recorded video footage is equally painful. You have to play the entire lenght of the video to record. Ridiculous! No option to simply get files from camera. Even trying to change camera settings is lethargic.----I will compare this camera with Mi Camera which I also own.C100 supports ONVIF and RTSP. It makes the camera versatile. You can connect it with software/hardware NVRs. I hooked it up with MotionEyeOS running on a Raspberry Pi.This was the reason why I bought this camera.You can see all RTSP/ONVIF IP cameras in grid view from a computer/Android TV.Mi cameras don't have ONVIF/RTSP support.Mi camera can only be viewed from a phone app. (And chromecast+google displays which most people don't have.)No PC software or even an Android TV app for Mi camera.You can connect it to a NAS where camera automatically uploads original recordings periodically. Tapo cameras don't have this. (You can create a NAS from your PC/RaspberryPi etc.)Tapo C100 over-saturates colors. Too much.Mi camera does it too but not that bad.Field of View of C100 is narrower than Mi camera.When Night Vision (infrared lights) is on in Tapo, three red LEDs can be seen with naked eye. It does not have invisible LED infrared. It makes the camera visible, which is bad.Tapo camera has two hooks on bottom to wall mount. Mi camera doesn't.Google assistant support is there for both cameras. You can cast camera to google home display/Chromecast ultra device.Build quality of Mi camera is better than Tapo C100.If you are only going to use a phone app to view the camera, get the Mi camera.If you need to see cameras on laptop, get Tapo.In case, in future Mi cameras get RTSP/ONVIF support, no doubt get Mi.\\n\\n\",\n",
       " '\\n\\n  Good product by TP link. Tapo App is awesome and very quick, user friendly to configure and manage. Camera can be rotated from the App. Video  Quality is reasonably good for the price we pay. I am Giving the review after 6months of usage.Tapo is the best CCTV camera  App that I ever used. One of the steady robust App. Awesome developers.Overall worth buying with one year warranty\\n\\n',\n",
       " \"\\n\\n  Setup was easy. Worked flawlessly until I turned of the room lights. Night vision is dead & is not switching on. Tried resetting but had same issue with night mode not functioning. Color vision Quality is accepted but the product is presently useless as it is defective. Will post an update when I get a replacement.2nd & 3rd units Review update:The 1st unit's replacement is already on way & I'm glad for that. The other two units worked flawlessly without any issues I faced with night mode. TP-Link's Tapo app was good with a clean UI with ability to view upto 32 cameras just like a cctv system.Pros:Easy setup, 128Gb storage, No SD errors like problems i faced in Mi cameras. Ability to connect the cameras to a NVR system as ONVIF protocol IP cameras.I added these cameras to my Synology DiskStation NAS system that has amazing surveillance station software that can beat any NVR systems available in india.Motion detection was too sensitive, had to reduce the sensitivity & muted the notifications on the phone.These are really good stable performing cameras. I can say these are very reliable for use as IP cameras.I'm currently using six Tapo C100 Cameras. No issues faced except for my first order. I'll be purchasing more & am planning to expand these upto 24 cameras. Waiting for the C310 outdoor camera to launch.October's end update: Using a total of 12 Tapo C100 & 2 Tapo C200 cameras with my Synology DS218+ DiskStation NAS system. Zero hiccups. Very stable performance all streaming at 1080p 15fps. Very happy with the Tapo series cameras. Will update here on long term performance next year. Planning to add 6 more cameras but waiting for Tapo C310 outdoor to launch.\\n\\n\",\n",
       " \"\\n\\n\\n\\n\\n                    The media could not be loaded.\\n                \\n\\n\\n\\n\\n  \\xa0Very good product.  Connected it to router without internet connection.  Now I'm able to watch live video on 3 phones connected to the same router.  No data usage. Value for money. Love it. Bought one more of the same camera.  Very satisfied with the quality.\\n\\n\",\n",
       " '\\n\\n  Been using this camera from the last two days and I have to say it is a wonderful device with all the features you\\'d except in this range.The app is a little buggy but that is acceptable.Picture quality is pretty clear and the night vision is really good.The only thing I wished for is if the vertical FOV was a little wider.Please note - The customer service provided by TPLINK is pure garbage as before purchasing this product, I called up the toll free number of TPLINK for asking about the warranty period and the executive was so confident that even before letting me complete my question, he said \" 3 Years warranty for Tapo C200 camera \". where as in amazon product page as well as the manufacturer box, it is written 1 year. I just hope I do not face any issues with the service center people atleast while the product is in warranty.Overall - I am really happy with the product and can definitely recommend.\\n\\n',\n",
       " '\\n\\n  This is good for click photos any time and photo quality is better than mobile photo. And video quality is a day shoot very good but night shoot without lighting not good,but day shoot video quality v.good.The video quality only 720p risulation not full HD record.\\n\\n',\n",
       " '\\n\\n  High quility pictures and amazing battery life and zooming quality is awesomeHighly recommend thanks Amazon\\n\\n',\n",
       " '\\n\\n  Good product....nice oneYou have already reviewed Sony DSC W830 Cyber-shot 20.1 MP Point and Shoot Camera (Black) with 8x Optical Zoom, Free Memory Card and Camera Case.\\n\\n',\n",
       " \"\\n\\n  In fact let me confess that I have been using all sorts of cameras , point and shoot, travel, high zoom, DSLR s for well over two decades. And as a compulsive camera buyer, i buy cameras without any rhyme or reason. So far I have been using either Canon or Nikon, but this time I decided to go for Sony.......Recently my small canon point and shoot I had gifted to my friend and hence decided to go for Sony. I chanced upon SONY DCS W830 . I bought the camera on Amazon with very high hopes about the picture quality,ease of use,good optics, but frankly I am disappointed on following points about the camera. The delivery by Amazon is world-Class, super fast and with very good service.Build quality is not up to the mark. you can feel it.  The top plate on the camera which houses shutter and on-off button is very loose.  My one day old camera is already showing that this plate may fall off anytime. Secondly , the buttons are so flush on the top plate that even before you struggle to find the button, it operates without you feeling it lock the focus. Even on-off button needs some effort to locate and switch on. In any camera half press shutter locks the focus This Camera locks the focus but even a slightly more pressure. on shutter releases the shutter, causing out of focus pics.Picture quality initially looks good. But I may have to shoot under different conditions to verify that whether the picture quality is in keeping with SONY Quality. Which I believe is top class . Just now I downloaded few pics shot on this camera, and I found them to be of average quality.I bought the camera for its Zeiss Lens, Sony's famous software, and the name sony is a guarantee in itself. I very well know that this particular camera is 5 year old model. and Sony may no longer be manufacturing this model, but if these are the deficiencies which persist, then why Sony is still market ting it. It may have adverse impact.I also feel that one has to find out whether the product is genuine Sony or some sub-standard stuff is being palmed off as genuine sony product.I will use it for few more days and write again on my experience about this camera.\\n\\n\",\n",
       " \"\\n\\n  In two months it corrupted 2 memory cards. User interface ain't smooth. Even mobile phones in this price range shoot equal quality pics.\\n\\n\",\n",
       " '\\n\\n  This camera very small but nice build quality.Camera image capture very fast and image quality very nice.Battery backup also very good.\\n\\n',\n",
       " \"\\n\\n  I completely didn't like the camera👎, worst picture quality.👎 I had purchased this camera for my newborn but I can't even return or order new camera putting my extra money, 👎they only provide replacement which will give me same camera. I have lost👎 my money and 8199 was not less money. I curse to get this camera from Amazon being a prime customer i regret to shop with Amazon.👎👎👎👎👎👎👎👎👎\\n\\n\",\n",
       " \"\\n\\n  This is the worst product because I took the product on October 13 we had put it for charge within 5-10 minutes the whole camera became hot. we removed from the charging and tried to on but it was not starting.  I tried reaching Amazon . Amazon was not responding they simply say that they will have the replacement but they didn't do anything then finally I took it to Sony showroom I made it service they said that the board has been damaged it is not the original board.  so kindly be careful while purchasing this product\\n\\n\",\n",
       " '\\n\\n  This camera is the best device to introduce you to the art of photography. it is very simple to use and does have simple user interface. Sony has worked hard on providing the best value for money , that is accessible to all camera lovers. I have been using it for nearly a year and I must say for most of the casual occasions  , this is the most effective , smallest camera that one can carry around.\\n\\n',\n",
       " '\\n\\n  Very good picture quality and was delivered very quickly.It takes time to charge, but once charged, it is enough for full night party pics and videos.\\n\\n',\n",
       " \"\\n\\n  Ok the DSLR Giant Canon have launched 1 more entry level DSLR. Actually i bought this camera for my friend. Does this camera worth 31K. Lets seePROS1.  Its easy to use2. Decent battery backup3. Live mode operation is not lagging.CONS1. While focusing the DSLR is making too much noise and its the kind of annoying that u will lose interest in taking photos.2. No shortcut or assigned button to change F stop (aperture). A manufacturer who is keeping dedicated button for changing the ISO have to thing about the importance of aperture.3. You can't change the focusing point by pressing the round dial in the system, if u press it some other setup will open up.4. The output image quality is actually not mind blowing.5. White balance- Use it if u want to take risk6. Main issue. If u use camera flash to snap a pic during focusing it will flicker like anything and it will annoy and irritate the subject7. Noise Noise Noise. Whatever low ISO you use noise will b there and when i went to service center to ask about this they were saying use a prime lens to get good output.I am a Nikon user i have Nikon D3400. I compared both cameras by taking same images with same settings in manual mode. The output from Nikon is better than Canon 1500D.In one word if want to push photography to next level from using a Point and Shoot or mobile camera to DSLR Or to learn the whole DSLR setting go for it (only with a mindset to change the camera in 1 or 2 years). As canon accessories are comparatively less costly than Nikon it wont create hole in ur pocket.I am not biased towards Nikon, i wrote wat i felt.Its not worth for money\\n\\n\",\n",
       " '\\n\\n  Good camera for beginners.\\n\\n',\n",
       " '\\n\\n  Great camera. Perfect product for young budding photographer..... Useful for in-house, nature, functions, and spare time photography. Take high quality pics, videos , portrait, landscape wildlife, nature pics etc\\n\\n',\n",
       " '\\n\\n  Really impressed with Amazon surprise for delivering within the 2 nd day from ordered Really packing was excellent and the quality of the material is awesome love to control the camera from mobile through Wi-Fi easy to connect, best one for taking self photos and group pics also the quality of canon speaks everything dont go for any oscillation beginners blindly got for it\\n\\n',\n",
       " '\\n\\n  You are on your own if you buy this product because canon local service center is of no help even in providing the product demo. We logged the complain on canon India site and not bothered to reply. Amazon call raised its hand saying \"proof of non service\" from local service center. So we have a DSLR that is producing blur images and canon is not providing any proper service. stay away\\n\\n',\n",
       " '\\n\\n  Request for replacement of camera main body  There is lot of blackspot/blackness automatically appears in View finder mirror just after 15 days.It is requested to please replace the camera as soon as possible.Awaiting early reply.Regards.\\n\\n',\n",
       " '\\n\\n  I have received my product DSLR Cannon 1500D at 15 the October 2018 . But Adopter has not been given along with the DSLR which is a very common accessories.They must deliver that as soon as possible.Otheewise I gave to complain about it again & again.\\n\\n',\n",
       " \"\\n\\n  Auto focus is not at all perfect.Minimum aperture is 4.5, so dont expect much in portrait.While focusing manually there is a play for the lense(18-55 mm) so that there is a chance for getting missing ur focus even though if ur made it correctly.Easy to operate compared to Nikkon models.Fast moving subjects cannot be captured as expected due to its poor auto focus performance. It take about 3 to 6 seconds to focus in internal lighting conditions and it fail to focus several times in dim lights.Plastic quality is poor.I got it for Rs.18599. So that it is a value for money product. Don't go for this model if ur willing to pay about 23k. Better go with Nikkon 5300.\\n\\n\",\n",
       " \"\\n\\n  If you want to upgrade your camera from point and shoot to a dslr then it is a good camera for you but if you want to start videography then don't buy it auto focus of video is too much bad. If you want  a camera for videography then go foe canon 200D or Nikon D5600\\n\\n\",\n",
       " '\\n\\n  I am really fully content with the product. It reached me within two days with everything  content in it and no doubt in a very good condition. It may be somewhat difficult for the beginners but it will not take a long to learn. If you are choosing between canon and Nikon I will suggest you canon because of its real colour capturing and fine focus of its lenses. You can get more slightly more features in Nikon than canon at the same price but that doesn\\'t mean that will surely better than canon. You can look for contrast between canon and Nikon in the internet. I think it will suggest you the same\"canon\".\\n\\n',\n",
       " \"\\n\\n  I have a mi security camera already and I am using it since one year. After the lockdown, it went out of stock but soon arrived at Amazon but it's cost had increased. Even then I went ahead and tried to purchase it as I had prior confidence but just before buying Amazon showed me a feature comparison with this camera (tapo c200). So my review would be largely a comparison of the two with a breakup of the features of both security cameras.On the feature front, this tapo camera beats mi security camera hands down. It comes with home monitoring, call/talk back feature just as mi security camera but additionally has privacy feature to switch off recording, alarm on/off on detection of movement, clean user interface, advanced self diagnosis feature, auto reboot feature and 128gb sdcard storage as against no privacy feature and 64gb in mi security camera. Also on detection of movement, mi security camera records multiple clips of max 1 min duration whereas tapo doesn't have that recording constraint. This is the biggest disadvantage of mi security camera. The setup took time as my WiFi was hidden and camera didn't recognize the hidden network even though I manually added it. But finally to overcome that, I made my WiFi network discoverable, once tapo recognized and stored it, I once again hid my WiFi and tapo didn't have any problem.Aesthetics of tapo are however not that good as mi security camera. mi security camera feels premium when touched physically. However when you touch tapo, you get a cheap Chinese feeling which I hated when I opened the box. Moreover tapo rotates from its bottom and the rotating diameter is large. Mi security camera rotates from its middle point and the rotating diameter is consequently smaller.Other than the rotating and aesthetics, tapo wins quite handsomely. If you want a premium feeling ( which no longer matters once the camera is setup) go for mi security camera otherwise go for tapo c200 and enjoy the rich features at a lesser price.Will update more about its longevity in future.Update1: After 3 months I realized that after inserting SD card, the initialisation time has increased by more than two minutes whereas in mi camera, the initialisation time hasn't noticeably changed. So mi camera wins here.Update 2: Recording and browsing of recording in sd card in tapo is better but when tapo records any video on detection of any Movement, the green light of the camera turns to red. Also when night mode switches on, one can hear the relay sound from tapo easily. Mi camera continues to emit blue light even while recording and no relay sound comes out of Mi camera when night mode switches on. So Mi camera wins here again.Update 3: in case of motion detection, mi camera takes an estimated 8-9 minutes to process the feed and send you a notification. That is, if a person/motion is detected at 8:00pm in front of camera, you will receive a notification only at 8:09 pm. In case of tapo, this is 4-5 minutes with a buzzer/alarm feature. Here Tapo wins down handsomely.More updates in future\\n\\n\",\n",
       " '\\n\\n  The device goes offline like of a full day. Happened it on last 2 Sunday’s and today. Don’t know what is wrong . Internet and power supply is fine but the devise shows offline. Customer care number doesn’t respond or attend the call. Tried giving feedback thru the app. Even no response for that.\\n\\n',\n",
       " \"\\n\\n  This is really a very good Camera in this price. Beleive me I have tried all the Xiaomi, Yi and D3D Smart Wifi Cams and this I found one of the best option.I am using these with Home Assistant and MotionEYE.I have not inserted any SD card and using MotionEYE to directly record videos to my system.The RTSP stream is in full hd 1080p and its really good. It loads instantly and delay is of few microseconds.I am using 1080p feed over RTSP and 360p feed on the app so both the things can be used at the same time.I have configured AI Face recognition using this camera to announce whoever is on my gate over my Google Home Mini and this is working really well with this cam.Pros:- Good Video Quality at 1080p and at Night- Really loud speaker- Camera Speaker can be used to trigger alarm sound- They offer RTSP/ONVIF support for these camera which is a big deal- Fast and Responsive App- Ability to live view camera feed on any computer systemCons:Sometimes connectivity issue in the app but it can be fixed with the update.No NAS support like Xiaomi Cameras, However I don't need it as RTSP is more then enough but having NAS support in app is a big bonus.\\n\\n\",\n",
       " \"\\n\\n  BOUGHT THE TP link for home use - the devise connected to the wifi but the camera didn't. We tried for tech support. 5 days - no response - they send us from one number to another. They neither solve the problem nor do they take back the product - worst experience ever. I needed two cameras so I bought the TP Link and another camera of Sricam make - that is working beautifully so its not that our wifi is not working or that we don't know how to set up. I WOULD HAVE LIKED TO GIVE 0 RATING TO THIS PRODUCT. Amazon also is not able to help us so as an online shopping site they have failed. totally bad experience.\\n\\n\",\n",
       " \"\\n\\n  I bought this for Rs 2500. My honest review on using this for 2 weeks.1) It is one of the best camera at this budget. It provides 360' degree tilting from left to right and vice versa, also up and down view is available.2) Clarity provides 1080 pixel, which you can't get in normal security camera especially at this budget(2500rs).3) It doesn't record the idle position, and captures any small movements. It only records if there is a movement, which is a good feature. Also it provides constant notification for every movement. Even it is a small flies it captures that too and sends the notification to mobile.4) You just need a wifi and power point.5) Draw back is if someone steals the camera, then you can't see anything, because everything is recorder in camera's sd card.Even if you switch off or it doesn't get wifi you can't view or download anything.6) if you are placing this inside the gate then it is a good option.7) another feature is it also records the voice.8) I inserted 128 gb sd card on this.My review is 5/5\\n\\n\",\n",
       " \"\\n\\n  Update 2: 3rd Oct 2021Cameras have got one or two firmware updates so far. Things have got better quite a bit now.Playback from app has improved.I am satisfied.I have installed the cameras on the walls outside. Away from direct sunlight and rain though. Covered openings with tape to prevent dust and moisture getting in.A year in, so far everything is fine.Update 1: The Tapo app absolutely sucks. Terrible app. Sometimes takes one or two minutes to get video from camera. Viewing recorded video footage is equally painful. You have to play the entire lenght of the video to record. Ridiculous! No option to simply get files from camera. Even trying to change camera settings is lethargic.----I will compare this camera with Mi Camera which I also own.C100 supports ONVIF and RTSP. It makes the camera versatile. You can connect it with software/hardware NVRs. I hooked it up with MotionEyeOS running on a Raspberry Pi.This was the reason why I bought this camera.You can see all RTSP/ONVIF IP cameras in grid view from a computer/Android TV.Mi cameras don't have ONVIF/RTSP support.Mi camera can only be viewed from a phone app. (And chromecast+google displays which most people don't have.)No PC software or even an Android TV app for Mi camera.You can connect it to a NAS where camera automatically uploads original recordings periodically. Tapo cameras don't have this. (You can create a NAS from your PC/RaspberryPi etc.)Tapo C100 over-saturates colors. Too much.Mi camera does it too but not that bad.Field of View of C100 is narrower than Mi camera.When Night Vision (infrared lights) is on in Tapo, three red LEDs can be seen with naked eye. It does not have invisible LED infrared. It makes the camera visible, which is bad.Tapo camera has two hooks on bottom to wall mount. Mi camera doesn't.Google assistant support is there for both cameras. You can cast camera to google home display/Chromecast ultra device.Build quality of Mi camera is better than Tapo C100.If you are only going to use a phone app to view the camera, get the Mi camera.If you need to see cameras on laptop, get Tapo.In case, in future Mi cameras get RTSP/ONVIF support, no doubt get Mi.\\n\\n\",\n",
       " '\\n\\n  Good product by TP link. Tapo App is awesome and very quick, user friendly to configure and manage. Camera can be rotated from the App. Video  Quality is reasonably good for the price we pay. I am Giving the review after 6months of usage.Tapo is the best CCTV camera  App that I ever used. One of the steady robust App. Awesome developers.Overall worth buying with one year warranty\\n\\n',\n",
       " \"\\n\\n  Setup was easy. Worked flawlessly until I turned of the room lights. Night vision is dead & is not switching on. Tried resetting but had same issue with night mode not functioning. Color vision Quality is accepted but the product is presently useless as it is defective. Will post an update when I get a replacement.2nd & 3rd units Review update:The 1st unit's replacement is already on way & I'm glad for that. The other two units worked flawlessly without any issues I faced with night mode. TP-Link's Tapo app was good with a clean UI with ability to view upto 32 cameras just like a cctv system.Pros:Easy setup, 128Gb storage, No SD errors like problems i faced in Mi cameras. Ability to connect the cameras to a NVR system as ONVIF protocol IP cameras.I added these cameras to my Synology DiskStation NAS system that has amazing surveillance station software that can beat any NVR systems available in india.Motion detection was too sensitive, had to reduce the sensitivity & muted the notifications on the phone.These are really good stable performing cameras. I can say these are very reliable for use as IP cameras.I'm currently using six Tapo C100 Cameras. No issues faced except for my first order. I'll be purchasing more & am planning to expand these upto 24 cameras. Waiting for the C310 outdoor camera to launch.October's end update: Using a total of 12 Tapo C100 & 2 Tapo C200 cameras with my Synology DS218+ DiskStation NAS system. Zero hiccups. Very stable performance all streaming at 1080p 15fps. Very happy with the Tapo series cameras. Will update here on long term performance next year. Planning to add 6 more cameras but waiting for Tapo C310 outdoor to launch.\\n\\n\",\n",
       " \"\\n\\n\\n\\n\\n                    The media could not be loaded.\\n                \\n\\n\\n\\n\\n  \\xa0Very good product.  Connected it to router without internet connection.  Now I'm able to watch live video on 3 phones connected to the same router.  No data usage. Value for money. Love it. Bought one more of the same camera.  Very satisfied with the quality.\\n\\n\",\n",
       " '\\n\\n  Been using this camera from the last two days and I have to say it is a wonderful device with all the features you\\'d except in this range.The app is a little buggy but that is acceptable.Picture quality is pretty clear and the night vision is really good.The only thing I wished for is if the vertical FOV was a little wider.Please note - The customer service provided by TPLINK is pure garbage as before purchasing this product, I called up the toll free number of TPLINK for asking about the warranty period and the executive was so confident that even before letting me complete my question, he said \" 3 Years warranty for Tapo C200 camera \". where as in amazon product page as well as the manufacturer box, it is written 1 year. I just hope I do not face any issues with the service center people atleast while the product is in warranty.Overall - I am really happy with the product and can definitely recommend.\\n\\n',\n",
       " \"\\n\\n\\n\\n\\n                    The media could not be loaded.\\n                \\n\\n\\n\\n\\n  \\xa0Awesome stuff. This is only HD clarity. Its very simple for ppl who have some basic knowledge of wifi settings.For people who don't know, here is the simple step-by-step methods to connect & use.Basically all controls are on the phone. First download the V380 app to your smartphone from play store, from the given link on the manual.2) Plug the camera to a power point with the included adapter.3) First reset the camera and It will power up in about 15-20 secs.4) Now Switch on the wifi and connect with the wifi name available 'MV[8 digit number]'5) We will not know anything on the camera as there are no led indicators. (Shud have added red and green Led lights for connected / not connected indication.)6) Open the app on phone, detect the device, connect the wifi, do some basic settings like location and date, time, etc.And thats it.. its done. Now it work flawlessly smooth.\\n\\n\",\n",
       " \"\\n\\n  It worked fine initially, after 11-12 days, the camera stopped working.  Couldn't return thro amazon the 10 day return window was over, called the tech support they gave a Delhi address, shipped the camera. Waited for 15 days they sent it said its fixed. It was not. They returned another refurbished unit that was not working. Called customer care, tech support - no response...very poor Chinese built unit - Please don't buy\\n\\n\",\n",
       " '\\n\\n  I needed a CCTV camera for my shop and ordered this one. Received it in 2 days and working perfectly fine for my shop. I can now watch my shop from anywhere using internet.\\n\\n',\n",
       " '\\n\\n  One of the worst product I ever buy from Amazon.The product only works for a week and after that problem arises. No support is received from customer care also. I call them several times, every time I received a reply from them that we will call you within 10 min.Recommended not to waste your hard earned money by just seeing the price of the camera.\\n\\n',\n",
       " \"\\n\\n  I am writing this review after 1 month usage.My requirement of CC TV is only for internal use in home , to watch my maid who take cares of my children.I had searched, many products, and first concluded..to go for Local service with branded camera, installation and  service warranty.but that budget was going upto 6 thousands. ( 3k camera price+ installation charges + cabling and fitting material 400+ 2 k internet's charges as that require only broadband connection)but thinking that to go with camera even if failed this product it will loss only 1.5k ( half of branded Camera price)so I ordered this, initially when order was received i was disappointed by seem its damaged packaging. and box which has no seal.it was clearly identified that product must open before by someone, or used before..so almost decided to return.but then thought at least , should check its functionality.and I impressed thinking my purpose solved.its installation was so easy, and v380  app also so useful to guide and monitor camera.clarity is so good, audio also much better..taken one new sim of idea for my small router..which fluently working ( just 250₹ per month internet charges)it consumes hardly 200 mb per day...as it uses internet only when u access camera from remote places, ( much cheaper,,😊)also memory card installed, ( i forgot to count this cost above) this take only 1 or 1.5 gb per recording  of 12 hours ( SD view) , so if u go for 64gb  will back up of 1 month easily ( in my case i keep camera only for day time).remote playback also so clear and can control and watch each of comer of your home any where.yes..motion detection is useless as many reviewers answered this.so overall great item with this price.anyone with specific purpose can go for it..only 1 moth spend..lets hope for same working in future too..\\n\\n\",\n",
       " \"\\n\\n  I had a very disappointing experience buying this camera. Few things to keep my point1) Camera build quality looks extremely cheap.2) Camera was dead on arrival, I couldn't power on the camera at all,defective product was shipped by seller, immediately returned the product. Thanks to amazon for quick return service.\\n\\n\",\n",
       " '\\n\\n  Camera is very excellent and pic quality is good cam rotation is very excellent.Easy to connect. Easy to install. Loved so much . For indoors it is perfect . SD card option available. If anyone want go through it.\\n\\n',\n",
       " \"\\n\\n  Hello customer support of this brand I very bad and when when you will start using this camera it will give you error after every 3 to 4 days that SD card read & write abnormally plz power off the camera before inserting TF card.Picture 2:- camera showing the image very badPicture 3:- tiny spotsPicture 4 :- some time says device is offline I had a word with the seller he said just slide down the screen it will refresh & connect again, refresh is complete but still the device is offline.Picture 5:- device connection failed it's poped up 8 to 10 times in a day.Picture 6:- the red circle spot is blurrPicture 7:- 8 to 10 time it will show you connectingPlease don't buy this camera spend a little bit more and buy a good company camera. It's really very frustrating when you start using this camera.\\n\\n\",\n",
       " '\\n\\n  Had a hard time connecting it to the WiFi.After becoming frustrated by attempting to set it up for the 10th time. I placed a return request on Amazon. Even the memory card slot is missing. I would not recommend this camera.\\n\\n',\n",
       " '\\n\\n\\n\\n\\n                    The media could not be loaded.\\n                \\n\\n\\n\\n\\n  \\xa0Picture quality and sharpness is good  but whenever there is powercut, the camera doesnt resumes to its fixed preseted postion, it just keep itself adjusting upward after power supply resumes and about wifi connectivity its pathetic, i have to buy a seperate reapeater for online connection and still it lacks speed, online video just keeps buffering.In AP mode its good and one more thing wifi antenna is just a show piece, see in pic, its just a piece of plastic.anyhow it does the job.\\n\\n',\n",
       " \"\\n\\n  I have been using the Mi 360° camera since a year and was satisfied with its performance. However, because of motion tracking, I went with Realme camera this time.Pros :1. Motion Tracking : It works quite well. The camera follows a normal walking person accurately.2. Microphone : The microphone on this one is absolutely better than the one on Mi. It records even low volume sounds.3. Physical Shutter : When you put the camera on sleep, a physical shutter rolls out covering the entire camera lens including the microphone. So, in terms of privacy, this feature is quite good and is missing in the Mi camera.4. Support for 128GB Memory Card : Unlike Mi 360° camera which supports upto 64GB only, this camera allows for upto 128GB memory cards which enables longer storage period of videos.5. Sound induced Recording : The Realme camera is able to start recording and send notifications in case of sound detection i.e., even if there is no motion but a signficant noise or sound is detected, then the camera will start recording and send you a notification on your mobile. This feature is missing in Mi.6. Fast Response : Compared to Mi, which takes a minute to record and send a notification to your mobile when a movement is detected, the Realme camera does the same within seconds. This is quite important because a thief may be able to power off the Mi 360° camera before it is able to send a notification but in case of Realme, it'll be difficult to do so.7. Encrypted Storage : The Realme camera encrypts the stored videos on memory card. This means the memory card is unreadable everywhere except from your Realme app. It also means that you cannot take out the memory card from the camera and view the recorded videos on your PC, laptop or mobile phone by inserting that memory card in those devices directly. This is a good privacy feature and is missing in the Mi camera.8. Hidden USB Power Port : In Realme camera, the USB Power Port is present in such a way that in order to remove the power cable, the camera needs to be first removed from the plastic holder. This may prevent a thief from easily switching off the camera. In case of Mi, the USB Power Port is right outside and is visible too, thus leaving the camera vulnerable to being powered off easily.Cons :1. Picture Quality : It leaves a lot to be desired. The picture (live view and recorded playback) has noticeable noise and looks grainy. I think in order to compress bandwidth, the Realme camera records videos at a low bitrate. Here, the Mi 360° camera wins as it has superior picture quality.2. Software : It is quite lacking in terms of features. First of all, the UI is confusing. Secondly, there is no option to quickly delete multiple recorded videos. Further, in order to view recorded videos, one has to seek the cursor exactly to the recorded timestamps otherwise the video doesn't play whereas in Mi, the nearest video to the seekbar gets automatically played. Hence, in software department, Mi is quite ahead.3. No Cloud Storage or NAS : Compared to Mi, the Realme camera offers no cloud storage or NAS. This means unless there is a memory card inserted, you won't be able to record videos. Further, if someone, say a thief, takes your camera with him, then you have nowhere to look for recordings (you may get a notification though).Apart from the above, the rest of the features are similar like Night Vision, Lens Distortion Correction, Switching off Camera Power LED, etc.So, in my opinion, if you have no issues with lesser storage and no motion tracking, then the Mi 360° camera is the best option. However, if those two features are important to you, then Realme camera will do the job just fine.\\n\\n\",\n",
       " '\\n\\n  \"gr8 product...must buyThis is one of the best CCTV IP Camera. I have installed Outside of room on 2nd floor. and working perfectly. I can control from anywhere and can get saved videos of 15daysin 128 GB of card.Videos are in full HD. and also can talk directly to my family.1. Camera Built quality is awesome.2. Full HD recordings.3. Auto erasing old videos.4. Night vision is Perfect.5. Motion sensor is too much powerful.6. Camera is in Outside of Room and can adjust all kind of weather.7. Can delete/formate remotely.8 Can be connected via JIO or any other modem of 4G Data.9. Easy to install with realme link app10. Durability is best.NOTE:- This is not waterproof. keep Away of Rain that\\'s it.recommended.\"\\n\\n',\n",
       " '\\n\\n  \"Superb product from realme brand.it is a great camera and can be used monitor grandparents or young children at home.Live feed is available on any phone, 360 rotation & motion alert is available. Camera is sensitive to movements also.If you left a sleeping child at home, you\\'ll know when the child wakes up.If you left your grandparents at home, you can know if they are active or in case they need any assistance.1. This camera takes very little time to process a feed unlike other old cameras that take 2-5 minutes atleast.2. it serves as a great product if you want to keep someplace under continuous surveilance. the live feed has minimal lag.3. SD card needs to be purchased separately and it can store up to 14 days of feed for 128GB is supported.Advice -1) Please buy a good quality SD card. This camera can be used without card also unlike Mi camera which is useless without a card. but to have a SD card is better2) Have a power backup at home / office. This camera doesn\\'t have a battery backup (which is a good thing, actually, so that we can replace the external inverter battery at our discretion).3) Use a good quality 2.4 Ghz band router or else keep the router close to this camera for best results. if you want to have surveilance at 2 or more locations then this camera also works as a network extender and provides signal to its cousin. it will even work with a mobile hotspot4)  the hardware and software is just perfect at this price point and the camera installs very easily with a realme link app. \"\\n\\n',\n",
       " '\\n\\n  I have purchased 2 memory cards and all are having the same issue. Both the memory cards are from sandisk. Now I cannot access old videos and I have to format the card every now and then. What is the use of such a video camera. Bad experience. The worst part is you cannot return the product also.\\n\\n',\n",
       " '\\n\\n  \"best cctv in this range don\\'t think just buy .I\\'ve fixed it in my parking lot and safe place from rain . I\\'ve connected it for mobile (hot spot) internet which has Jio and it\\'s working fine . it can be easily used by multiple people and from any part of the world , u can control the cctv. just needs the realme link app which is available on both android and ios.it is alexa enabled and can be streamed to a compatible device like echo show or even to tv or monitorit can record up to 14 days with 128 GB memory card (purchase separately). works without SD card also for a live feed on mobile or alexa device.keep it away from rain and heavy dust and it will work just fine. though i have not tried testing its water resistance but better safe than sorry. \"\\n\\n',\n",
       " \"\\n\\n  I bought this camera 2 months ago. Everything was ok and going fine. But recently when I open the realmelink app for viewing footages of security camera, it's showing 'memory card abnormal'. Unable to view the footages.I tried to format the card several times, but after some time it's showing the same. And if we think of removing the card and connecting it to computer to view footage,it won't work either becoz the videos are encrypted. The videos can only be viewed in realme link app. And also the playback speed issue, the playback speed is only 2x (16x for mi security camera). How can we view a days or weeks footage using 2x speed. This app is utterly a waste. Don't buy realme security camera, go for mi 360 cam. It's much better and user friendly, the videos can can viewed in computer and has 16x playback speed. Regretting for buying this product.Pros:Image qualityNight visionDesignCons:Memory card issuePlayback speed(only 2x)Realme link app problems\\n\\n\",\n",
       " \"\\n\\n  Camera is good but it's has software bug and connection issues. It worked for few hours and than stop connecting to any of our phone. I tried both android and iOS. I got the replacement from AmazonReplacement camera worked for a month and than stopped moving. I tried to reset it. Post resetting it also stopped connecting to any phone.I contacted customer care they asked me to take the camera to service center along with its original box and ID proof. I told them that I don't have box and also it's useless to keep the box for one year to claim the warranty. They refused to replace my product. Also they refused to connect me to some senior person.Really pathetic customer service.\\n\\n\",\n",
       " '\\n\\n  Device will connect single band 2.4Ghz supported wifi router. If you have dual band and trying to login using 2.4ghz frequency ssid, then device will not identify that ssid. This is very bad in technology limitations. Now a days single band 2.4ghz routers difficult to find at home.Also noticed that camera not able to identify hathway provided 2.4ghz wifi router.So even if this is the best camera but lacking behind in wifi technology.\\n\\n',\n",
       " \"\\n\\n  I purchased this camera seeing many good reviews. I also have a TAPO-C200 camera. The Realme 360 camera has many good features and I was very enthusiastic to buy this. I installed it and found that it worked smoothly. I wanted to setup the camera on my wife's phone also. Both my phone and my wife's phone are new one. On my phone it was setup without any issues. But when I used the Device sharing option to use the same camera on my wife's phone it did not allow to do it. It showed a message that, in India, due to privacy reasons, the camera cannot be shared. This is pathetic and it defeated the purpose of the camera being used on multiple mobiles. I have also mailed to Realme company to get it resolved. Lets see what they reply. The Realme link app often crashes and I am using 8GB RAM phone with Qualcomm SD processor.  How can such a renowned company release a app in market without through testing and bug fixing. You can visit the appstore and look at the reviews of the app. All of them are facing this kind of issues.  Realme did not resolve this problem and stopped replying on my mails. Also the camera sends notification alerts sometimes not always if there is motion detection. The camera auto tracking is inaccurate.  I am going to return this, but this cannot be returned with other camera, it can be replaced only with this camera. Only the camera speaker quality is very good compared to TAPO C200.  I am very happy with the performance of TAPO C200, and I thought of replacing Realme 360 with TAPO, but it is not allowing me to get another camera. I can only replace with Realme 360.  I regret my decision to buy Realme 360\\n\\n\",\n",
       " '\\n\\n  1.Connection Problem. Everytime I am facing connection problem, and most of the time it takes few minutes to get connected. It works only with 2.4 GHz and not 5 GHz. Useless app and its dead slow.2. Customer care is worst, I have given complaints about connection problem, but zero response from the company.\\n\\n']"
      ]
     },
     "execution_count": 25,
     "metadata": {},
     "output_type": "execute_result"
    }
   ],
   "source": [
    "rev"
   ]
  },
  {
   "cell_type": "code",
   "execution_count": 36,
   "id": "50686f18",
   "metadata": {},
   "outputs": [],
   "source": [
    "rev1=[]\n",
    "import re\n",
    "import string\n",
    "for i in rev:\n",
    "    text = i.lower()\n",
    "    text = re.sub('\\[.*?\\]','',text)\n",
    "    text = re.sub('[%s]'% re.escape(string.punctuation),'',text)\n",
    "    text = re.sub('\\w*\\d\\w*','',text)\n",
    "    text = text.strip('\\n')\n",
    "    text = text.strip('\\t')\n",
    "    rev1.append(text)"
   ]
  },
  {
   "cell_type": "code",
   "execution_count": 37,
   "id": "2415bf0e",
   "metadata": {
    "scrolled": true
   },
   "outputs": [
    {
     "data": {
      "text/plain": [
       "100"
      ]
     },
     "execution_count": 37,
     "metadata": {},
     "output_type": "execute_result"
    }
   ],
   "source": [
    "len(rev1)"
   ]
  },
  {
   "cell_type": "code",
   "execution_count": 38,
   "id": "00d0c6a4",
   "metadata": {},
   "outputs": [
    {
     "data": {
      "text/plain": [
       "['  the clarity of camera is amazingeven in low light conditions the picture is clearly visiblean attempt has been made to show a color picture in dark which  i think is very uniquethe installation is very easy  the app is fairly straight forwardmade in india product overall the device is must have one',\n",
       " '  the best camera with the following features ai support for person detection best image clarity on low light and night easy to setup alexa and google assistant support high built quality make in india product cloud storage and sd card storage support nice packaging less power consumption comparable with nest arlo ring and wyze cameras faster software updates with features however qubo is a fantastic oneit could make the camera superior if increase efficiency on ai person detection desktop live grid view apps local storage supportnasnvr fixed mount option or ” thread  mm screw thread optional power adapter to connect directly to electricity supply as in qubo video doorbell administrative password to camera settings like routers as multiple logins are supported or share camera view',\n",
       " '  this product is awesome the build quality looks premium and sturdy and it is power packed with features as they have mentioned really liked the motion tracking feature and person detection feature one thing which is unique and important is the preset feature through which i had defined some zones and with one tap it automatically rotates to that particular angle with the qubo appone thing which they can improve on is the camera movement during motion tracking if i am moving really fast then it loses the track after one point although it is understandable since the camera movement is limited anyways gud job qubo 👍',\n",
       " '  i am writing this review after using this product for  month pros  elegant  and compact design finishing is good packing is good cons  onboard software glitch  latency issue  mobile app software not up to the mark  sometimes hangs issues i have faced in one month issue  had received this product in good condition upon using i found that the  gb class  memory card is not detecting i reformatted it to fat  but still dint work i called the cc and asked for an replacement  thinking its and defective product  product was replaced in  days  same issue occurred in the replaced product i called up the cc they said they will update the sw still dint work and the issue is pending later i inserted  gb memory card and its working now with max  gb card or may be upto  gb   so the claim on upto  gb memory card support  is technically wrong the same  gb card is working with my  year old cam for which i paid  non qubo brand issue   the person tracking feature works well only when the cam is in desktop or in normal position  but when i mounted it in ceiling and enabled rotate image the tracking dint work as expected it tracked at the initial moment and turned to an corner where there is no person moment at all  called up the cc but the same answer issue not resolved issue   software hangs some time need to kill the app and reopen  latency issue while streaming the video image pixelating  this happens sometimes  ccs resolution is to reboot internet router  but thats not the fix for the issue i have called up customer care several time but the issues have not resolved and the ticket has been closed  i can provide the cc ticket reference number and call recording also recommendation to the buyer   i taught this is an made in india initiative product and purchased it but now i regret it  please do not invest your money in this product and waste your time and money i am not going to escalate this issue to the ceo of qubo or any other authority as its not worth spending my time on it and for the value of the product please invest on much more mature product if you need better result thanks',\n",
       " '  nice product fulfilling your expectations picture and night  views are clear coloured picture even in night modedim light very easy to install i faced a bit problem previously with motion sensor but has been resolved by customer care customer care response is nice ugly part is about fixing of cam on roof two holes in the lower part needs lot of precision my suggestion to the company is either to modify the system or to change the system sturdy and heavy base unlike other cams online its really indian overall a nice product worth your money',\n",
       " '  update  a replacement from qubo installed cam and looks ok as of now more than the product their service is good good follow up for replacementold reviewproduct worked fine only for a  days picture has become hazy and whenever we rotate the camera half picture becomes messy and look like all colours are leaking photo attached voice from camera to your phone also is very bad third day there is burning smell from adaptor and the adaptor is gone cant return my installation was late just out of the return window dont know what to do',\n",
       " '  i chose this one among all  degree camera options because of its looks and builtin person detection…and i must admit it looks even better in real…working perfectly…video quality is great…app is great…person alerts are really useful…you can go for it',\n",
       " '  bought it recently have been using it for a day and checked the complete cycle for a day below are the list of pros cons and important points to consider before purchasing to help you make a decisionwritten on  december  initial configuration is easy app is stable  checked on both android and ios apps camera config is easy to use  can easily access and control cam and change viewing direction etc you can configure multiple cameras in app live feed is stable depending on network mounting on ceiling is not necessary you can place it anywhere stable mounting screws with wall plugsnylon sleeves are provided if needed both day and night mode picturevideo feed is good expendable storage of up to  using micro sd cardcons in default planfree you can only connect to  mobile phones at a time and you have to share credentials of app on another phonedevice to see the feed right now it is not possible for two different app logins to connect to a single qubo device if you need access on more than  mobile devices then you would have to subscribe paid and ongoing to one of the listed plans prices are reasonable for now event tracking is not  accurate so you will get false notifications at times app could be better  for example   right now if you try to disable cloud storage it shows that functionality can only be disabled after purchasing a subscription   ideally it should be users choice whether they want to store on cloud or not   gallery functionality is not clear   not able to manually record a video and error which is shown is not helpfulimportant points to consider before buying camera needs  a home network in  band wifi uninterrupted power supply is needed power cable provided is approximately  in length so depending on where youre mountingplacing the camera you would need an extension or power outlet nearbyoverallproduct is highly recommended the cons listed are not a deal breaker as most people will not use the listed features and will only need feed on at most  devices which is free',\n",
       " '  absolute waste of money and timemy camera stopped working after a month and their customer support is very pathetic ive been talking to them for about  days now but they make one excuse or another every day after  days of talking neither the camera has been fixed replaced or money  very poor customer and nonproactive  no offline mode goes dead and all functions stop if wifi is not  does not give color image at night time so dont be fooled by color image in low light  very poor motion and person detection fails more than  of the  requires you to keep your router firewall on low setting otherwise it goes into offline  cant work with a hidden wifi ssid even after you first configure it and hide it  sometimes its infrared stops working and everything goes dark at night time you only see the light bulbs and everything is just black and sometimes magenta this happens after it has been offline for   no desktop or browser application available to track cameras using your desktop or tv  mobile application is power hungry and will drain your battery if you keep it  you cant set schedules to start and end recording automatically at specified time or day considering motion detection is almost useless  cant set any activity or inactivity zones to improve the motion detection',\n",
       " '  i have been using their qubo video doorbell for front gate security bought this new camera from them  another superb product it covers complete living room through it’s  degree coverage video quality is very good and vivid their app is also very user friendly and u can access all devices through a single home app  super convenient',\n",
       " '  no option for google or other cloud service only their own which is ridiculous expensivealthough there is a sd card slot the videos  on that card can not be viewed with the app if an intruder is entering your room you can only watch this if you have subscribed to the cloudthis is misleading and on top of it you can not return the product  amazon will only replace it with an identical one',\n",
       " '  i received and tried today immediately i was disappointed for a few  does not have wps you will have to enter your wifi password in to their  party  it does not record live video on to sd card only records motion captures or events of   then you will get a notification assumption is that you will have to getup in the middle of the sleep or whatever the state you were in open their app and press the record button this is the way from at least as far as i could understand their  app is so confusing  no return only replacement why would anyone sane want a replacement prosbuild quality',\n",
       " '  excellent product for the price looks sturdy setting up the camera was done within  minuteshave set it up on jio fiber and works flawlessly  placed the same outside my apartment door and accurately captures every human passing by with instant alerts smart tracking works like a breeze with no blind spots hats of to the pan and tilt functionality quality of video in hd mode is good and per my expectation using it  so lets see how long it lasts today is just the  day shall update accordingly definitely recommend against all other available',\n",
       " '  just one two step installation procedure first register as member and it will automatically take you to just few seconds easy and simy installation stepcan be fixed standing or upside down  all necessary accessories come in the package even small paper sticker helping to drill holesclarity of the image is really clear wide coverage area  camera can be rotated  degree horizontal and about  deg down   degree topsurprising is even if there is little bit of lighting camera gives clear colour images m the image shows the picture taken at  pm with  watt led indirect lightingthe app has replay feature from sd card but without fast forwarding which is one of the most important feature missing  good thing about the app is it does not ask for security risk mobile phone permissionsoverall worth for the price and really good wifi cctv camera',\n",
       " '  good image quality day or night but not straight imageround imageimou software working very good audio quality from camera is ok but audio from mobile to camera very distorted',\n",
       " '  no loop recordingso basically you can’t record unless you check daily  delete record',\n",
       " '  nice camera',\n",
       " '  i was looking for an indoor wifi camera for my childrens room as was much concerned about safety when was away from home due to work after many surveys finalized this product it is giving an excellent performance  video quality is best in class accurately detect the motion and gives a direct notification to your phone even if the app is not open which helps me to monitor much effectively have installed the camera on the ceiling in the center of the room accurately follow the motion of kids with no blind areas in the room twoway talk facilitates me to communicate in the room and gives clear audio with good volume on both the side storage is not an issue at all will support up to  of micro sd cardneeds to be purchased separately also comes with a lan port in case if you need more storage  one touch privacy protection that closes the shutter physically is the cherry on a piewould definitely suggest going for it without any further thinking works outstandingly well best for indoor use',\n",
       " '  poor video quality as after connecting to nvr the highest resolution option i am getting is  which is vga resolution and dahua customer support is pathetic they themselves are not aware of how the camera gets connected to nvrvideo quality from imou life app is hd which is okay but not full hd for sure as i have other cameras which are full hd  has better video quality but it’s okay as long as you only want to use it to record video stream using either sdcard or cloud storagetwo way audio quality is not that effective as you can’t hear other people clearly due to camera speaker not being that loud and you won’t find any option to increase volumeanother problem is that when you share the device with family members they can only initiate two way audio when they are allowed full control of device which is weird as they should update the imou life software to have different user roles to allow twoway communications including video viewingmotion sensor needs to improve a bit it’s good but not good enough to serve the purpose overall okay to have this camera if you just want to try first security camera to start with and have reasonable budgetdahua need to improve the product quality for sure and if they are reading then please take these comments as good feedback as it’s not that bad product which i can’t recommend small enhancements will improve customers experience and will make it a wow product',\n",
       " '  well i have had set up several ip cams but this crap i couldnt make iti bought this seeing the good reviews here well they seems have developed good app but its all wet laundryi followed all the steps meticulously tried several times my used wifi network is  ghz i used my iphone as well as android phone to accomplish the setup spent several hours doing the reset and repeating the steps again all went in vainthe green light stopped flashing and was constant green checking my wifi router setting i have also seen that this ipc cam has got itself connected to my network but no could connected i couldnt add this device and view the camera seems there must be a major problem in the app or server setupdont no buy this crap and waste your time mucking around try to set it upthe worst part is you will not get the resend  refund option but replacement option so dont waste your timesince the setup has itself failed couldnt review on the quality of the camera',\n",
       " '  it consumes around  of storage in  in hd modepros night mode recordingclarity of cameramultiple users can watch camera recording at same timetwo way  hd recordingcan record videos without internet  requires internet connection after switching camera on  after that you can disconnect  recording will continueiconsit doesnt support auto ° rotation user has to manually adjust camera from applicationif there is a power outage or by any chance you disconnect power source  camera would start recording again after you connect it to internetyou need to keep camera connected to a power source for   charging option wouldve been helpful hereapplication sometimes sends motion alerts after delay of  card of storage capacity greater than  are not supported',\n",
       " '  i cannot connect the device with my jiofi  so please help me out',\n",
       " '   simple install only first time you need to configure with camera  router through mi home app after that if you power off your router or camera and it will automatically reconnect when these are switch it   hd camview full frame also without moving the camera angle you can see the full frame  you can monitor from remote end need good internet both in router and mobile otherwise start  two way  share your camera to your family member both are should be in same  good look only one colour  value of  support upto  gb micro sd  record video without internet also some of the amazon customer commented that it will not work without internet it is totally a false statementconsnothing',\n",
       " '  remember nothing is perfect xiaomi has already released home security cameras using other brands such as yi and the home security camera market is yet to be adapted in large so you can expect a lot of misunderstanding on how everything works together in a home security camera in generalinitial setup it is a breeze for some but pain for others see the  ratings if you want proof i had trouble getting this camera recognized by its own app mi home it took about  hour to recognize after trying with different lighting conditions the camera got disconnected from the app after i switched the ssid of the router so i had to pair it again this time it took more than a day of trial and error i had to keep the camera under bright sun light in order to get recognized by the mi home app lesson learned in a hard waybandwidth requirement this camera requires  connectivity with solid internet connection and with good upload bandwidth even if you have  connection this camera can only be connected via wireless so longer the distance from the router shorter the bandwidth this camera hangs up if it doesnt have enough bandwidth if you add nas storage youd need even more bandwidth between the camera and the router the camera is very sensitive if you set up any conflicting configurations itd just hang and would not record anything at all even in the onboard sd card storage if the camera hangs for a particular reason you have to restart it it is a pain to troubleshoot things when you are miles away from home in another citymi home app requires almost all the permissions from your phone but i was able to disable most permissions except location and storage whats more you get ads in the app right after opening it on the dashboard where you see the list of devices since version  released on dec   i wish xiaomi released a dedicated app for home security cameras like other companies have donegoogle assistance isnt compatible with this camera if you are into that sort of thing some other cameras from xiaomi not released in india are supported thoughonce paired to the app and once you have the perfect setup with nas and good wireless bandwidth to  from the camera you may become addicted to use it under different conditions such as with total darknessif you are technically sound and have around  budget raspberry pi based home security is a better option if you are on a budget and if you dont want to spend a lot of time on technical things then xiaomi mi home security camera is the best home monitoring camera you can get',\n",
       " '  any future buyer this product may be a good one for lucky ones only my experience  inadequate information about network connectivity you wont be able to connect to wifi if it is higher than  ghz you will come to know only when you try to configure it for the first time  you are really lucky if this camera can read qr code in your phone during setup i spend a whole day and no luck then  after google i realised that this is a known issue even you would found this issue reported by another customer  its not directly sold by mi a retailer whos phone given by amazon customer support is found always switched  so as i couldnt even complete initial setup using highspeed cable broadband or using airtel dongle i cant comment about how good or bad its rest features',\n",
       " '  dont find any huge difference in  p and  camera i rec it today on pre booking prices also high i booked  camera and upgraded all  p to   but not completely satisfied if any body want to purchase u can go for  p itself prices also around ',\n",
       " '   this product is of not much use if you dont have  hrs good   gb data card store recording of  days when the video quality was at low  recording are of  minute each that is  files in  hr no options  not a  you cannot connect a usb cable or any other cable to watch the  if you have connected to a camera using wifi system a then if you want to change yoir wifi to b you have to reset the camera means you cannot use more than  wifi especially when it is installed at some  no battery or power backup if there would have been option of  minute then it would have been good  mi home app is not for pc or  mi home app screen doesnt rotateit seems to be a good option if it is inside room good wifi  hrs and person watches not so  consumes around  data per day if someone watching it like a regule cctv camera full day at low quality settings just an estimate not  no setting in mi home app to transfer file from sd card to your mobileit seems to be so good but it lacks lot of  nice beautiful  can be rotated easily in all directions through  if someone steals the camera then you  lost all the recordings and the memory sd card along with  no cloud storage i didnt  you have to purchase memory card also and if someone can reach the camera memory card can be stolen easily and hence all  it has facility of nas but then you have to purchase nas  net price  camera price  microsd card  internet charges  nas charges if purchasing',\n",
       " '  my dad is  yrs old and staying home alone while we are at worki have installed the device to keep an watch that he is safe at home and to be connected all the timehe cant use phone till date connected with him while we are out side is a challenge as most of the time he cannot even received the call as he was confused to use phone now after installed this device i feel  its actually a peace of mindcan talk to him any given point of time he can easily asked for anything at any time and most importantly he is allays in front of my eyesthanks to mi for such a lovely economicessaygoquality product',\n",
       " '  this is regarding the home surveillance assistant feature inside the  the  seconds for video recording is too short so the purpose of purchasing the camera is not fulfilled making the device is uselessxiaomi should give us an option to extend the recording time limit to at least   the minimum alarm interval is  minutes which is too long xiaomi should also give an option to reduce it to  minutereason for the feedback i suffered property damage and the perpetrator could not be identified even after installing the camera',\n",
       " '  unfortunately no cloud storage serviceso i returned it product is only for indoor use',\n",
       " '  purchased on  for rs  in lightning deal  delivered  camera used for the first time on  on vishwakarma puja films  and camera case purchased separately from market and are cheaper than online rate  camera is made in thailand camera has functioned well so far  however the battery cover has become loose within  i am a novice in normal photogaphy  ie i use only point  shoot cameras as in mobile phones some reviewers have described fuji instax mini as a toy but i do not agree with them if you like experimenting with photography you should try this if you like something just for fun then too try thisinstant camera means you have just one chance the photo may be good or bad depending how you handle itbut this process is immensely satisfying as you strive to improve the camera comes with good instruction sheet read it carefully also watch online instruction videos  just google fuji instax mini   you will come across several they will show you in detail how to load battery films and start taking photos i watched these films before i took the first photo  it came out quite nicely the camera suggests lightning and i strongly recommend that you follow it until you become an expert in instant photography the charm is to see you photos develop instantly and the pleasure of taking autograph on spot if you take a photo of someone you admire or presenting a photo to someoneload film cartridge exactly as given in instructions open foil preferably in dimly lighted room slip cartridge insidesee videos  then press the shutter a film cover will pop out the camera will show that  films are loaded now it is ready to use as you take photos the camera will indicate how many films lefta photo takes about  minutes to develop fully do not shake the photo just put it gently on a flat surface away from strong light after  mins show it to everyone store photos in albumsuse the closeup lens to get good photos distance should be between   not more without lens it should be  to  instant photography is not for people in a hurry films are expensive so you have to be patient when you take photos some times  better results come  for the photographer to sit down  take instant photo i took the first photo sitting on a bench i have not yet taken a selfie so i cant comment on that aspect the photos are small in size like an atm cardso you should plan what photos to take if for eg you take full figure the person photographed will look tiny in my childhood days of black  white photography with nondigital film cameras or box camera as they were called  small square photos used to be developed the photos in the instax mini are about that type though not square if you have old black  white photos at home it will give you an idea about size of the subject in photosi initially wanted to own this camera because of its colours i followed amazon pricing for more than one year before i plunged in the lightning deal i took the decision to buy it recentlyafter someone took my instant photo in a more expensive camera  presented it to me  fuji instax mini is the cheapest among instant cameras  try it and you will get addicted',\n",
       " '  i dont lyk dis product at ol it is a complete waste of money guys do not buy  bad pictures',\n",
       " '  dont use in high altitudes  film will capture air and will not be able to print',\n",
       " '  this is a very pretty little thing that can add a pop of colour and brightness to your collection the pics are super awesome loved everything about it what i loved the most is the concept of cherishing the memories after clicking them just make sure there is enough light when you click them other wise they turn out to be darkgo ahead and buy it without a thought ',\n",
       " '  very happy with the purchase picture quality is amazing the selfie mirror is a great add on and is very useful',\n",
       " '  instax mini  was one of the favourite fun camera for instant photo lovers and while keeping its popularity in mind fujifilm has now launched this new instax mini  with some minor upgrades unlike other countries instax mini  in the indian market was not a successful attempt due to less popularity for instant cameras to turn the tables fujifilm has now come up with its updated version equipped with a selfie mirror and few minor upgrades let’s get into detailsin the   two aa non rechargeable   closeup  few manuals sticker and warranty carddesignthe unique retro design with attractive pastel shades is one of the major reason people love this camera more than any other instant camera fujifilm while keeping the retro look intact has now renewed its colour range with cool colours like cobalt blue lime green ice blue flamingo pink and smokey white it weighs just around  grams with battery and it measures  x  x  inch also it’s built up with plastic and thats make it look like a toy camerafew improvements in design includes a tiny selfie mirror at front of the camera to lure all those selfie lovers out there and a close up lens attachment to help capture macro shots more preciselyhardwarethis camera features a  mm lens with  aperture and a flash that always light up whether you are indoor or outdoor it also houses a light sensor that helps to automatically adjust the exposure as per the lighting condition and we only need to turn the dial as per the indicator there is a dedicated high key mode which is an addition in this model to maximize brightnessit comes with a set of two aa batteries but instead of these i would recommend to use rechargeable batteries that you’ll need to buy separately to save some bucks there’s also a photo count analogue meter at the back that counts the number of shots remainingperformancethis camera is just for fun and is not meant to click ultra hd pictures like dslr’s so better not compare it to them it’s an instant camera so don’t expect any kind of connectivity with any other device if you want a fun camera then only buy it or else you’ll regretjust press the power button located near the lens to turn on the camera and the lens will pop up adjust the exposure by using rotating the dial to the desired position as suggested by the light sensor and that’s it you’re ready to click  retro looking pics after clicking the photo the camera will extract a photo print from top of the camera in  secondsdon’t get shocked by viewing a blank picture because photo will take a minute or two to get fully developedbut to use it you will have to first buy a photo cartridge which is available in the market separately at not so pocket friendly price and after putting the cartridge in the camera you will be able to click just  pictures before inserting a new cartridgeverdictoverall the look and feel of this camera is just like a toy with no sharp edges and eye soothing colour also the process of clicking photos is really simple but the cost per photo is not economical as per my opinion but that’s not what everyone seeks who buy this camera since it’s just for funif you have a good budget to spend on an instant camera then there are many options out there with better clarity and larger photo capabilitiesps i review products on amazon to help fellow customers in taking wise decisions and try to ensure that everyones hard earned money get its full worth it always makes my day to know that people find my reviews helpful feel free to comment for any queries',\n",
       " '  i wanted to take this camera from long time now i got this film which we need to take seperately is quite expensive other than that its a better thing to collect our memories and people who wants  create memory book for them it helps alot',\n",
       " '  loved this one it’s worth every penny it’s good quality and it’s super cute it is so aesthetic i am going to use the pictures in my scrapbook and to decorate my room',\n",
       " '  i ordered this camera around  weeks ago first photo worked and then after then it stopped working all the films started to come blank and when i kept on trying hardly  films worked and  films have been wasted on this my opinion would be not to buy this camera just a waste of time and money strictly not safe to buy',\n",
       " '  great product but had a little problem of the roll getting stuck but after using only and only duracell battery it works been using for nearly  months and still works like a charm about the picture quality its better to take pics outside as indoors results tend to be a bit dark',\n",
       " '  i have a mi security camera already and i am using it since one year after the lockdown it went out of stock but soon arrived at amazon but its cost had increased even then i went ahead and tried to purchase it as i had prior confidence but just before buying amazon showed me a feature comparison with this camera tapo  so my review would be largely a comparison of the two with a breakup of the features of both security camerason the feature front this tapo camera beats mi security camera hands down it comes with home monitoring calltalk back feature just as mi security camera but additionally has privacy feature to switch off recording alarm onoff on detection of movement clean user interface advanced self diagnosis feature auto reboot feature and  sdcard storage as against no privacy feature and  in mi security camera also on detection of movement mi security camera records multiple clips of max  min duration whereas tapo doesnt have that recording constraint this is the biggest disadvantage of mi security camera the setup took time as my wifi was hidden and camera didnt recognize the hidden network even though i manually added it but finally to overcome that i made my wifi network discoverable once tapo recognized and stored it i once again hid my wifi and tapo didnt have any problemaesthetics of tapo are however not that good as mi security camera mi security camera feels premium when touched physically however when you touch tapo you get a cheap chinese feeling which i hated when i opened the box moreover tapo rotates from its bottom and the rotating diameter is large mi security camera rotates from its middle point and the rotating diameter is consequently smallerother than the rotating and aesthetics tapo wins quite handsomely if you want a premium feeling  which no longer matters once the camera is setup go for mi security camera otherwise go for tapo  and enjoy the rich features at a lesser pricewill update more about its longevity in  after  months i realized that after inserting sd card the initialisation time has increased by more than two minutes whereas in mi camera the initialisation time hasnt noticeably changed so mi camera wins hereupdate  recording and browsing of recording in sd card in tapo is better but when tapo records any video on detection of any movement the green light of the camera turns to red also when night mode switches on one can hear the relay sound from tapo easily mi camera continues to emit blue light even while recording and no relay sound comes out of mi camera when night mode switches on so mi camera wins here againupdate  in case of motion detection mi camera takes an estimated  minutes to process the feed and send you a notification that is if a personmotion is detected at  in front of camera you will receive a notification only at  pm in case of tapo this is  minutes with a buzzeralarm feature here tapo wins down handsomelymore updates in future',\n",
       " '  the device goes offline like of a full day happened it on last  sunday’s and today don’t know what is wrong  internet and power supply is fine but the devise shows offline customer care number doesn’t respond or attend the call tried giving feedback thru the app even no response for that',\n",
       " '  this is really a very good camera in this price beleive me i have tried all the xiaomi yi and  smart wifi cams and this i found one of the best optioni am using these with home assistant and motioneyei have not inserted any sd card and using motioneye to directly record videos to my systemthe rtsp stream is in full hd  and its really good it loads instantly and delay is of few microsecondsi am using  feed over rtsp and  feed on the app so both the things can be used at the same timei have configured ai face recognition using this camera to announce whoever is on my gate over my google home mini and this is working really well with this campros good video quality at  and at night really loud speaker camera speaker can be used to trigger alarm sound they offer rtsponvif support for these camera which is a big deal fast and responsive app ability to live view camera feed on any computer systemconssometimes connectivity issue in the app but it can be fixed with the updateno nas support like xiaomi cameras however i dont need it as rtsp is more then enough but having nas support in app is a big bonus',\n",
       " '  bought the tp link for home use  the devise connected to the wifi but the camera didnt we tried for tech support  days  no response  they send us from one number to another they neither solve the problem nor do they take back the product  worst experience ever i needed two cameras so i bought the tp link and another camera of sricam make  that is working beautifully so its not that our wifi is not working or that we dont know how to set up i would have liked to give  rating to this product amazon also is not able to help us so as an online shopping site they have failed totally bad experience',\n",
       " '  i bought this for rs  my honest review on using this for   it is one of the best camera at this budget it provides  degree tilting from left to right and vice versa also up and down view is  clarity provides  pixel which you cant get in normal security camera especially at this  it doesnt record the idle position and captures any small movements it only records if there is a movement which is a good feature also it provides constant notification for every movement even it is a small flies it captures that too and sends the notification to  you just need a wifi and power  draw back is if someone steals the camera then you cant see anything because everything is recorder in cameras sd cardeven if you switch off or it doesnt get wifi you cant view or download  if you are placing this inside the gate then it is a good  another feature is it also records the  i inserted  gb sd card on thismy review is ',\n",
       " '  update   oct  have got one or two firmware updates so far things have got better quite a bit nowplayback from app has improvedi am satisfiedi have installed the cameras on the walls outside away from direct sunlight and rain though covered openings with tape to prevent dust and moisture getting ina year in so far everything is fineupdate  the tapo app absolutely sucks terrible app sometimes takes one or two minutes to get video from camera viewing recorded video footage is equally painful you have to play the entire lenght of the video to record ridiculous no option to simply get files from camera even trying to change camera settings is lethargici will compare this camera with mi camera which i also  supports onvif and rtsp it makes the camera versatile you can connect it with softwarehardware nvrs i hooked it up with motioneyeos running on a raspberry pithis was the reason why i bought this camerayou can see all rtsponvif ip cameras in grid view from a computerandroid tvmi cameras dont have onvifrtsp supportmi camera can only be viewed from a phone app and chromecastgoogle displays which most people dont haveno pc software or even an android tv app for mi camerayou can connect it to a nas where camera automatically uploads original recordings periodically tapo cameras dont have this you can create a nas from your pcraspberrypi etctapo  oversaturates colors too muchmi camera does it too but not that badfield of view of  is narrower than mi camerawhen night vision infrared lights is on in tapo three red leds can be seen with naked eye it does not have invisible led infrared it makes the camera visible which is badtapo camera has two hooks on bottom to wall mount mi camera doesntgoogle assistant support is there for both cameras you can cast camera to google home displaychromecast ultra devicebuild quality of mi camera is better than tapo  you are only going to use a phone app to view the camera get the mi cameraif you need to see cameras on laptop get tapoin case in future mi cameras get rtsponvif support no doubt get mi',\n",
       " '  good product by tp link tapo app is awesome and very quick user friendly to configure and manage camera can be rotated from the app video  quality is reasonably good for the price we pay i am giving the review after  of usagetapo is the best cctv camera  app that i ever used one of the steady robust app awesome developersoverall worth buying with one year warranty',\n",
       " '  setup was easy worked flawlessly until i turned of the room lights night vision is dead  is not switching on tried resetting but had same issue with night mode not functioning color vision quality is accepted but the product is presently useless as it is defective will post an update when i get a    units review updatethe  units replacement is already on way  im glad for that the other two units worked flawlessly without any issues i faced with night mode tplinks tapo app was good with a clean ui with ability to view upto  cameras just like a cctv systemproseasy setup  storage no sd errors like problems i faced in mi cameras ability to connect the cameras to a nvr system as onvif protocol ip camerasi added these cameras to my synology diskstation nas system that has amazing surveillance station software that can beat any nvr systems available in indiamotion detection was too sensitive had to reduce the sensitivity  muted the notifications on the phonethese are really good stable performing cameras i can say these are very reliable for use as ip camerasim currently using six tapo  cameras no issues faced except for my first order ill be purchasing more  am planning to expand these upto  cameras waiting for the  outdoor camera to launchoctobers end update using a total of  tapo    tapo  cameras with my synology  diskstation nas system zero hiccups very stable performance all streaming at   very happy with the tapo series cameras will update here on long term performance next year planning to add  more cameras but waiting for tapo  outdoor to launch',\n",
       " '                    the media could not be loaded\\n                \\n\\n\\n\\n\\n  \\xa0very good product  connected it to router without internet connection  now im able to watch live video on  phones connected to the same router  no data usage value for money love it bought one more of the same camera  very satisfied with the quality',\n",
       " '  been using this camera from the last two days and i have to say it is a wonderful device with all the features youd except in this rangethe app is a little buggy but that is acceptablepicture quality is pretty clear and the night vision is really goodthe only thing i wished for is if the vertical fov was a little widerplease note  the customer service provided by tplink is pure garbage as before purchasing this product i called up the toll free number of tplink for asking about the warranty period and the executive was so confident that even before letting me complete my question he said   years warranty for tapo  camera  where as in amazon product page as well as the manufacturer box it is written  year i just hope i do not face any issues with the service center people atleast while the product is in warrantyoverall  i am really happy with the product and can definitely recommend',\n",
       " '  this is good for click photos any time and photo quality is better than mobile photo and video quality is a day shoot very good but night shoot without lighting not goodbut day shoot video quality vgoodthe video quality only  risulation not full hd record',\n",
       " '  high quility pictures and amazing battery life and zooming quality is awesomehighly recommend thanks amazon',\n",
       " '  good productnice oneyou have already reviewed sony dsc  cybershot  mp point and shoot camera black with  optical zoom free memory card and camera case',\n",
       " '  in fact let me confess that i have been using all sorts of cameras  point and shoot travel high zoom dslr s for well over two decades and as a compulsive camera buyer i buy cameras without any rhyme or reason so far i have been using either canon or nikon but this time i decided to go for sonyrecently my small canon point and shoot i had gifted to my friend and hence decided to go for sony i chanced upon sony dcs   i bought the camera on amazon with very high hopes about the picture qualityease of usegood optics but frankly i am disappointed on following points about the camera the delivery by amazon is worldclass super fast and with very good servicebuild quality is not up to the mark you can feel it  the top plate on the camera which houses shutter and onoff button is very loose  my one day old camera is already showing that this plate may fall off anytime secondly  the buttons are so flush on the top plate that even before you struggle to find the button it operates without you feeling it lock the focus even onoff button needs some effort to locate and switch on in any camera half press shutter locks the focus this camera locks the focus but even a slightly more pressure on shutter releases the shutter causing out of focus picspicture quality initially looks good but i may have to shoot under different conditions to verify that whether the picture quality is in keeping with sony quality which i believe is top class  just now i downloaded few pics shot on this camera and i found them to be of average qualityi bought the camera for its zeiss lens sonys famous software and the name sony is a guarantee in itself i very well know that this particular camera is  year old model and sony may no longer be manufacturing this model but if these are the deficiencies which persist then why sony is still market ting it it may have adverse impacti also feel that one has to find out whether the product is genuine sony or some substandard stuff is being palmed off as genuine sony producti will use it for few more days and write again on my experience about this camera',\n",
       " '  in two months it corrupted  memory cards user interface aint smooth even mobile phones in this price range shoot equal quality pics',\n",
       " '  this camera very small but nice build qualitycamera image capture very fast and image quality very nicebattery backup also very good',\n",
       " '  i completely didnt like the camera👎 worst picture quality👎 i had purchased this camera for my newborn but i cant even return or order new camera putting my extra money 👎they only provide replacement which will give me same camera i have lost👎 my money and  was not less money i curse to get this camera from amazon being a prime customer i regret to shop with amazon👎👎👎👎👎👎👎👎👎',\n",
       " '  this is the worst product because i took the product on october  we had put it for charge within  minutes the whole camera became hot we removed from the charging and tried to on but it was not starting  i tried reaching amazon  amazon was not responding they simply say that they will have the replacement but they didnt do anything then finally i took it to sony showroom i made it service they said that the board has been damaged it is not the original board  so kindly be careful while purchasing this product',\n",
       " '  this camera is the best device to introduce you to the art of photography it is very simple to use and does have simple user interface sony has worked hard on providing the best value for money  that is accessible to all camera lovers i have been using it for nearly a year and i must say for most of the casual occasions   this is the most effective  smallest camera that one can carry around',\n",
       " '  very good picture quality and was delivered very quicklyit takes time to charge but once charged it is enough for full night party pics and videos',\n",
       " '  ok the dslr giant canon have launched  more entry level dslr actually i bought this camera for my friend does this camera worth  lets   its easy to  decent battery  live mode operation is not  while focusing the dslr is making too much noise and its the kind of annoying that u will lose interest in taking  no shortcut or assigned button to change f stop aperture a manufacturer who is keeping dedicated button for changing the iso have to thing about the importance of  you cant change the focusing point by pressing the round dial in the system if u press it some other setup will open  the output image quality is actually not mind  white balance use it if u want to take  main issue if u use camera flash to snap a pic during focusing it will flicker like anything and it will annoy and irritate the  noise noise noise whatever low iso you use noise will b there and when i went to service center to ask about this they were saying use a prime lens to get good outputi am a nikon user i have nikon  i compared both cameras by taking same images with same settings in manual mode the output from nikon is better than canon  one word if want to push photography to next level from using a point and shoot or mobile camera to dslr or to learn the whole dslr setting go for it only with a mindset to change the camera in  or  years as canon accessories are comparatively less costly than nikon it wont create hole in ur pocketi am not biased towards nikon i wrote wat i feltits not worth for money',\n",
       " '  good camera for beginners',\n",
       " '  great camera perfect product for young budding photographer useful for inhouse nature functions and spare time photography take high quality pics videos  portrait landscape wildlife nature pics etc',\n",
       " '  really impressed with amazon surprise for delivering within the  nd day from ordered really packing was excellent and the quality of the material is awesome love to control the camera from mobile through wifi easy to connect best one for taking self photos and group pics also the quality of canon speaks everything dont go for any oscillation beginners blindly got for it',\n",
       " '  you are on your own if you buy this product because canon local service center is of no help even in providing the product demo we logged the complain on canon india site and not bothered to reply amazon call raised its hand saying proof of non service from local service center so we have a dslr that is producing blur images and canon is not providing any proper service stay away',\n",
       " '  request for replacement of camera main body  there is lot of blackspotblackness automatically appears in view finder mirror just after  daysit is requested to please replace the camera as soon as possibleawaiting early replyregards',\n",
       " '  i have received my product dslr cannon  at  the october   but adopter has not been given along with the dslr which is a very common accessoriesthey must deliver that as soon as possibleotheewise i gave to complain about it again  again',\n",
       " '  auto focus is not at all perfectminimum aperture is  so dont expect much in portraitwhile focusing manually there is a play for the  mm so that there is a chance for getting missing ur focus even though if ur made it correctlyeasy to operate compared to nikkon modelsfast moving subjects cannot be captured as expected due to its poor auto focus performance it take about  to  seconds to focus in internal lighting conditions and it fail to focus several times in dim lightsplastic quality is poori got it for  so that it is a value for money product dont go for this model if ur willing to pay about  better go with nikkon ',\n",
       " '  if you want to upgrade your camera from point and shoot to a dslr then it is a good camera for you but if you want to start videography then dont buy it auto focus of video is too much bad if you want  a camera for videography then go foe canon  or nikon ',\n",
       " '  i am really fully content with the product it reached me within two days with everything  content in it and no doubt in a very good condition it may be somewhat difficult for the beginners but it will not take a long to learn if you are choosing between canon and nikon i will suggest you canon because of its real colour capturing and fine focus of its lenses you can get more slightly more features in nikon than canon at the same price but that doesnt mean that will surely better than canon you can look for contrast between canon and nikon in the internet i think it will suggest you the samecanon',\n",
       " '  i have a mi security camera already and i am using it since one year after the lockdown it went out of stock but soon arrived at amazon but its cost had increased even then i went ahead and tried to purchase it as i had prior confidence but just before buying amazon showed me a feature comparison with this camera tapo  so my review would be largely a comparison of the two with a breakup of the features of both security camerason the feature front this tapo camera beats mi security camera hands down it comes with home monitoring calltalk back feature just as mi security camera but additionally has privacy feature to switch off recording alarm onoff on detection of movement clean user interface advanced self diagnosis feature auto reboot feature and  sdcard storage as against no privacy feature and  in mi security camera also on detection of movement mi security camera records multiple clips of max  min duration whereas tapo doesnt have that recording constraint this is the biggest disadvantage of mi security camera the setup took time as my wifi was hidden and camera didnt recognize the hidden network even though i manually added it but finally to overcome that i made my wifi network discoverable once tapo recognized and stored it i once again hid my wifi and tapo didnt have any problemaesthetics of tapo are however not that good as mi security camera mi security camera feels premium when touched physically however when you touch tapo you get a cheap chinese feeling which i hated when i opened the box moreover tapo rotates from its bottom and the rotating diameter is large mi security camera rotates from its middle point and the rotating diameter is consequently smallerother than the rotating and aesthetics tapo wins quite handsomely if you want a premium feeling  which no longer matters once the camera is setup go for mi security camera otherwise go for tapo  and enjoy the rich features at a lesser pricewill update more about its longevity in  after  months i realized that after inserting sd card the initialisation time has increased by more than two minutes whereas in mi camera the initialisation time hasnt noticeably changed so mi camera wins hereupdate  recording and browsing of recording in sd card in tapo is better but when tapo records any video on detection of any movement the green light of the camera turns to red also when night mode switches on one can hear the relay sound from tapo easily mi camera continues to emit blue light even while recording and no relay sound comes out of mi camera when night mode switches on so mi camera wins here againupdate  in case of motion detection mi camera takes an estimated  minutes to process the feed and send you a notification that is if a personmotion is detected at  in front of camera you will receive a notification only at  pm in case of tapo this is  minutes with a buzzeralarm feature here tapo wins down handsomelymore updates in future',\n",
       " '  the device goes offline like of a full day happened it on last  sunday’s and today don’t know what is wrong  internet and power supply is fine but the devise shows offline customer care number doesn’t respond or attend the call tried giving feedback thru the app even no response for that',\n",
       " '  this is really a very good camera in this price beleive me i have tried all the xiaomi yi and  smart wifi cams and this i found one of the best optioni am using these with home assistant and motioneyei have not inserted any sd card and using motioneye to directly record videos to my systemthe rtsp stream is in full hd  and its really good it loads instantly and delay is of few microsecondsi am using  feed over rtsp and  feed on the app so both the things can be used at the same timei have configured ai face recognition using this camera to announce whoever is on my gate over my google home mini and this is working really well with this campros good video quality at  and at night really loud speaker camera speaker can be used to trigger alarm sound they offer rtsponvif support for these camera which is a big deal fast and responsive app ability to live view camera feed on any computer systemconssometimes connectivity issue in the app but it can be fixed with the updateno nas support like xiaomi cameras however i dont need it as rtsp is more then enough but having nas support in app is a big bonus',\n",
       " '  bought the tp link for home use  the devise connected to the wifi but the camera didnt we tried for tech support  days  no response  they send us from one number to another they neither solve the problem nor do they take back the product  worst experience ever i needed two cameras so i bought the tp link and another camera of sricam make  that is working beautifully so its not that our wifi is not working or that we dont know how to set up i would have liked to give  rating to this product amazon also is not able to help us so as an online shopping site they have failed totally bad experience',\n",
       " '  i bought this for rs  my honest review on using this for   it is one of the best camera at this budget it provides  degree tilting from left to right and vice versa also up and down view is  clarity provides  pixel which you cant get in normal security camera especially at this  it doesnt record the idle position and captures any small movements it only records if there is a movement which is a good feature also it provides constant notification for every movement even it is a small flies it captures that too and sends the notification to  you just need a wifi and power  draw back is if someone steals the camera then you cant see anything because everything is recorder in cameras sd cardeven if you switch off or it doesnt get wifi you cant view or download  if you are placing this inside the gate then it is a good  another feature is it also records the  i inserted  gb sd card on thismy review is ',\n",
       " '  update   oct  have got one or two firmware updates so far things have got better quite a bit nowplayback from app has improvedi am satisfiedi have installed the cameras on the walls outside away from direct sunlight and rain though covered openings with tape to prevent dust and moisture getting ina year in so far everything is fineupdate  the tapo app absolutely sucks terrible app sometimes takes one or two minutes to get video from camera viewing recorded video footage is equally painful you have to play the entire lenght of the video to record ridiculous no option to simply get files from camera even trying to change camera settings is lethargici will compare this camera with mi camera which i also  supports onvif and rtsp it makes the camera versatile you can connect it with softwarehardware nvrs i hooked it up with motioneyeos running on a raspberry pithis was the reason why i bought this camerayou can see all rtsponvif ip cameras in grid view from a computerandroid tvmi cameras dont have onvifrtsp supportmi camera can only be viewed from a phone app and chromecastgoogle displays which most people dont haveno pc software or even an android tv app for mi camerayou can connect it to a nas where camera automatically uploads original recordings periodically tapo cameras dont have this you can create a nas from your pcraspberrypi etctapo  oversaturates colors too muchmi camera does it too but not that badfield of view of  is narrower than mi camerawhen night vision infrared lights is on in tapo three red leds can be seen with naked eye it does not have invisible led infrared it makes the camera visible which is badtapo camera has two hooks on bottom to wall mount mi camera doesntgoogle assistant support is there for both cameras you can cast camera to google home displaychromecast ultra devicebuild quality of mi camera is better than tapo  you are only going to use a phone app to view the camera get the mi cameraif you need to see cameras on laptop get tapoin case in future mi cameras get rtsponvif support no doubt get mi',\n",
       " '  good product by tp link tapo app is awesome and very quick user friendly to configure and manage camera can be rotated from the app video  quality is reasonably good for the price we pay i am giving the review after  of usagetapo is the best cctv camera  app that i ever used one of the steady robust app awesome developersoverall worth buying with one year warranty',\n",
       " '  setup was easy worked flawlessly until i turned of the room lights night vision is dead  is not switching on tried resetting but had same issue with night mode not functioning color vision quality is accepted but the product is presently useless as it is defective will post an update when i get a    units review updatethe  units replacement is already on way  im glad for that the other two units worked flawlessly without any issues i faced with night mode tplinks tapo app was good with a clean ui with ability to view upto  cameras just like a cctv systemproseasy setup  storage no sd errors like problems i faced in mi cameras ability to connect the cameras to a nvr system as onvif protocol ip camerasi added these cameras to my synology diskstation nas system that has amazing surveillance station software that can beat any nvr systems available in indiamotion detection was too sensitive had to reduce the sensitivity  muted the notifications on the phonethese are really good stable performing cameras i can say these are very reliable for use as ip camerasim currently using six tapo  cameras no issues faced except for my first order ill be purchasing more  am planning to expand these upto  cameras waiting for the  outdoor camera to launchoctobers end update using a total of  tapo    tapo  cameras with my synology  diskstation nas system zero hiccups very stable performance all streaming at   very happy with the tapo series cameras will update here on long term performance next year planning to add  more cameras but waiting for tapo  outdoor to launch',\n",
       " '                    the media could not be loaded\\n                \\n\\n\\n\\n\\n  \\xa0very good product  connected it to router without internet connection  now im able to watch live video on  phones connected to the same router  no data usage value for money love it bought one more of the same camera  very satisfied with the quality',\n",
       " '  been using this camera from the last two days and i have to say it is a wonderful device with all the features youd except in this rangethe app is a little buggy but that is acceptablepicture quality is pretty clear and the night vision is really goodthe only thing i wished for is if the vertical fov was a little widerplease note  the customer service provided by tplink is pure garbage as before purchasing this product i called up the toll free number of tplink for asking about the warranty period and the executive was so confident that even before letting me complete my question he said   years warranty for tapo  camera  where as in amazon product page as well as the manufacturer box it is written  year i just hope i do not face any issues with the service center people atleast while the product is in warrantyoverall  i am really happy with the product and can definitely recommend',\n",
       " '                    the media could not be loaded\\n                \\n\\n\\n\\n\\n  \\xa0awesome stuff this is only hd clarity its very simple for ppl who have some basic knowledge of wifi settingsfor people who dont know here is the simple stepbystep methods to connect  usebasically all controls are on the phone first download the  app to your smartphone from play store from the given link on the  plug the camera to a power point with the included  first reset the camera and it will power up in about   now switch on the wifi and connect with the wifi name available  we will not know anything on the camera as there are no led indicators shud have added red and green led lights for connected  not connected  open the app on phone detect the device connect the wifi do some basic settings like location and date time etcand thats it its done now it work flawlessly smooth',\n",
       " '  it worked fine initially after  days the camera stopped working  couldnt return thro amazon the  day return window was over called the tech support they gave a delhi address shipped the camera waited for  days they sent it said its fixed it was not they returned another refurbished unit that was not working called customer care tech support  no responsevery poor chinese built unit  please dont buy',\n",
       " '  i needed a cctv camera for my shop and ordered this one received it in  days and working perfectly fine for my shop i can now watch my shop from anywhere using internet',\n",
       " '  one of the worst product i ever buy from amazonthe product only works for a week and after that problem arises no support is received from customer care also i call them several times every time i received a reply from them that we will call you within  minrecommended not to waste your hard earned money by just seeing the price of the camera',\n",
       " '  i am writing this review after  month usagemy requirement of cc tv is only for internal use in home  to watch my maid who take cares of my childreni had searched many products and first concludedto go for local service with branded camera installation and  service warrantybut that budget was going upto  thousands   camera price installation charges  cabling and fitting material   k internets charges as that require only broadband connectionbut thinking that to go with camera even if failed this product it will loss only   half of branded camera priceso i ordered this initially when order was received i was disappointed by seem its damaged packaging and box which has no sealit was clearly identified that product must open before by someone or used beforeso almost decided to returnbut then thought at least  should check its functionalityand i impressed thinking my purpose solvedits installation was so easy and   app also so useful to guide and monitor cameraclarity is so good audio also much bettertaken one new sim of idea for my small routerwhich fluently working  just ₹ per month internet chargesit consumes hardly  mb per dayas it uses internet only when u access camera from remote places  much cheaper😊also memory card installed  i forgot to count this cost above this take only  or  gb per recording  of  hours  sd view  so if u go for   will back up of  month easily  in my case i keep camera only for day timeremote playback also so clear and can control and watch each of comer of your home any whereyesmotion detection is useless as many reviewers answered thisso overall great item with this priceanyone with specific purpose can go for itonly  moth spendlets hope for same working in future too',\n",
       " '  i had a very disappointing experience buying this camera few things to keep my  camera build quality looks extremely  camera was dead on arrival i couldnt power on the camera at alldefective product was shipped by seller immediately returned the product thanks to amazon for quick return service',\n",
       " '  camera is very excellent and pic quality is good cam rotation is very excellenteasy to connect easy to install loved so much  for indoors it is perfect  sd card option available if anyone want go through it',\n",
       " '  hello customer support of this brand i very bad and when when you will start using this camera it will give you error after every  to  days that sd card read  write abnormally plz power off the camera before inserting tf cardpicture  camera showing the image very badpicture  tiny spotspicture   some time says device is offline i had a word with the seller he said just slide down the screen it will refresh  connect again refresh is complete but still the device is offlinepicture  device connection failed its poped up  to  times in a daypicture  the red circle spot is blurrpicture   to  time it will show you connectingplease dont buy this camera spend a little bit more and buy a good company camera its really very frustrating when you start using this camera',\n",
       " '  had a hard time connecting it to the wifiafter becoming frustrated by attempting to set it up for the  time i placed a return request on amazon even the memory card slot is missing i would not recommend this camera',\n",
       " '                    the media could not be loaded\\n                \\n\\n\\n\\n\\n  \\xa0picture quality and sharpness is good  but whenever there is powercut the camera doesnt resumes to its fixed preseted postion it just keep itself adjusting upward after power supply resumes and about wifi connectivity its pathetic i have to buy a seperate reapeater for online connection and still it lacks speed online video just keeps bufferingin ap mode its good and one more thing wifi antenna is just a show piece see in pic its just a piece of plasticanyhow it does the job',\n",
       " '  i have been using the mi ° camera since a year and was satisfied with its performance however because of motion tracking i went with realme camera this timepros  motion tracking  it works quite well the camera follows a normal walking person  microphone  the microphone on this one is absolutely better than the one on mi it records even low volume  physical shutter  when you put the camera on sleep a physical shutter rolls out covering the entire camera lens including the microphone so in terms of privacy this feature is quite good and is missing in the mi  support for  memory card  unlike mi ° camera which supports upto  only this camera allows for upto  memory cards which enables longer storage period of  sound induced recording  the realme camera is able to start recording and send notifications in case of sound detection ie even if there is no motion but a signficant noise or sound is detected then the camera will start recording and send you a notification on your mobile this feature is missing in  fast response  compared to mi which takes a minute to record and send a notification to your mobile when a movement is detected the realme camera does the same within seconds this is quite important because a thief may be able to power off the mi ° camera before it is able to send a notification but in case of realme itll be difficult to do  encrypted storage  the realme camera encrypts the stored videos on memory card this means the memory card is unreadable everywhere except from your realme app it also means that you cannot take out the memory card from the camera and view the recorded videos on your pc laptop or mobile phone by inserting that memory card in those devices directly this is a good privacy feature and is missing in the mi  hidden usb power port  in realme camera the usb power port is present in such a way that in order to remove the power cable the camera needs to be first removed from the plastic holder this may prevent a thief from easily switching off the camera in case of mi the usb power port is right outside and is visible too thus leaving the camera vulnerable to being powered off easilycons  picture quality  it leaves a lot to be desired the picture live view and recorded playback has noticeable noise and looks grainy i think in order to compress bandwidth the realme camera records videos at a low bitrate here the mi ° camera wins as it has superior picture  software  it is quite lacking in terms of features first of all the ui is confusing secondly there is no option to quickly delete multiple recorded videos further in order to view recorded videos one has to seek the cursor exactly to the recorded timestamps otherwise the video doesnt play whereas in mi the nearest video to the seekbar gets automatically played hence in software department mi is quite  no cloud storage or nas  compared to mi the realme camera offers no cloud storage or nas this means unless there is a memory card inserted you wont be able to record videos further if someone say a thief takes your camera with him then you have nowhere to look for recordings you may get a notification thoughapart from the above the rest of the features are similar like night vision lens distortion correction switching off camera power led etcso in my opinion if you have no issues with lesser storage and no motion tracking then the mi ° camera is the best option however if those two features are important to you then realme camera will do the job just fine',\n",
       " '   productmust buythis is one of the best cctv ip camera i have installed outside of room on  floor and working perfectly i can control from anywhere and can get saved videos of   gb of cardvideos are in full hd and also can talk directly to my  camera built quality is  full hd  auto erasing old  night vision is  motion sensor is too much  camera is in outside of room and can adjust all kind of  can deleteformate  can be connected via jio or any other modem of   easy to install with realme link  durability is bestnote this is not waterproof keep away of rain thats itrecommended',\n",
       " '  superb product from realme brandit is a great camera and can be used monitor grandparents or young children at homelive feed is available on any phone  rotation  motion alert is available camera is sensitive to movements alsoif you left a sleeping child at home youll know when the child wakes upif you left your grandparents at home you can know if they are active or in case they need any  this camera takes very little time to process a feed unlike other old cameras that take  minutes  it serves as a great product if you want to keep someplace under continuous surveilance the live feed has minimal  sd card needs to be purchased separately and it can store up to  days of feed for  is supportedadvice  please buy a good quality sd card this camera can be used without card also unlike mi camera which is useless without a card but to have a sd card is  have a power backup at home  office this camera doesnt have a battery backup which is a good thing actually so that we can replace the external inverter battery at our  use a good quality  ghz band router or else keep the router close to this camera for best results if you want to have surveilance at  or more locations then this camera also works as a network extender and provides signal to its cousin it will even work with a mobile   the hardware and software is just perfect at this price point and the camera installs very easily with a realme link app ',\n",
       " '  i have purchased  memory cards and all are having the same issue both the memory cards are from sandisk now i cannot access old videos and i have to format the card every now and then what is the use of such a video camera bad experience the worst part is you cannot return the product also',\n",
       " '  best cctv in this range dont think just buy ive fixed it in my parking lot and safe place from rain  ive connected it for mobile hot spot internet which has jio and its working fine  it can be easily used by multiple people and from any part of the world  u can control the cctv just needs the realme link app which is available on both android and iosit is alexa enabled and can be streamed to a compatible device like echo show or even to tv or monitorit can record up to  days with  gb memory card purchase separately works without sd card also for a live feed on mobile or alexa devicekeep it away from rain and heavy dust and it will work just fine though i have not tried testing its water resistance but better safe than sorry ',\n",
       " '  i bought this camera  months ago everything was ok and going fine but recently when i open the realmelink app for viewing footages of security camera its showing memory card abnormal unable to view the footagesi tried to format the card several times but after some time its showing the same and if we think of removing the card and connecting it to computer to view footageit wont work either becoz the videos are encrypted the videos can only be viewed in realme link app and also the playback speed issue the playback speed is only   for mi security camera how can we view a days or weeks footage using  speed this app is utterly a waste dont buy realme security camera go for mi  cam its much better and user friendly the videos can can viewed in computer and has  playback speed regretting for buying this productprosimage qualitynight visiondesignconsmemory card issueplayback speedonly  link app problems',\n",
       " '  camera is good but its has software bug and connection issues it worked for few hours and than stop connecting to any of our phone i tried both android and ios i got the replacement from amazonreplacement camera worked for a month and than stopped moving i tried to reset it post resetting it also stopped connecting to any phonei contacted customer care they asked me to take the camera to service center along with its original box and id proof i told them that i dont have box and also its useless to keep the box for one year to claim the warranty they refused to replace my product also they refused to connect me to some senior personreally pathetic customer service',\n",
       " '  device will connect single band  supported wifi router if you have dual band and trying to login using  frequency ssid then device will not identify that ssid this is very bad in technology limitations now a days single band  routers difficult to find at homealso noticed that camera not able to identify hathway provided  wifi routerso even if this is the best camera but lacking behind in wifi technology',\n",
       " '  i purchased this camera seeing many good reviews i also have a  camera the realme  camera has many good features and i was very enthusiastic to buy this i installed it and found that it worked smoothly i wanted to setup the camera on my wifes phone also both my phone and my wifes phone are new one on my phone it was setup without any issues but when i used the device sharing option to use the same camera on my wifes phone it did not allow to do it it showed a message that in india due to privacy reasons the camera cannot be shared this is pathetic and it defeated the purpose of the camera being used on multiple mobiles i have also mailed to realme company to get it resolved lets see what they reply the realme link app often crashes and i am using  ram phone with qualcomm sd processor  how can such a renowned company release a app in market without through testing and bug fixing you can visit the appstore and look at the reviews of the app all of them are facing this kind of issues  realme did not resolve this problem and stopped replying on my mails also the camera sends notification alerts sometimes not always if there is motion detection the camera auto tracking is inaccurate  i am going to return this but this cannot be returned with other camera it can be replaced only with this camera only the camera speaker quality is very good compared to tapo   i am very happy with the performance of tapo  and i thought of replacing realme  with tapo but it is not allowing me to get another camera i can only replace with realme   i regret my decision to buy realme ',\n",
       " '   problem everytime i am facing connection problem and most of the time it takes few minutes to get connected it works only with  ghz and not  ghz useless app and its dead  customer care is worst i have given complaints about connection problem but zero response from the company']"
      ]
     },
     "execution_count": 38,
     "metadata": {},
     "output_type": "execute_result"
    }
   ],
   "source": [
    "rev1"
   ]
  },
  {
   "cell_type": "code",
   "execution_count": 52,
   "id": "8be7c598",
   "metadata": {},
   "outputs": [],
   "source": [
    "from textblob import TextBlob"
   ]
  },
  {
   "cell_type": "code",
   "execution_count": 53,
   "id": "25c2fb61",
   "metadata": {},
   "outputs": [
    {
     "data": {
      "text/plain": [
       "15"
      ]
     },
     "execution_count": 53,
     "metadata": {},
     "output_type": "execute_result"
    }
   ],
   "source": [
    "len(rev)"
   ]
  },
  {
   "cell_type": "code",
   "execution_count": 54,
   "id": "5cb5815d",
   "metadata": {},
   "outputs": [
    {
     "data": {
      "text/plain": [
       "['Sentiment(polarity=0.1875, subjectivity=0.2875)',\n",
       " 'Sentiment(polarity=0.3666666666666667, subjectivity=0.41111111111111115)',\n",
       " 'Sentiment(polarity=0.6, subjectivity=0.8)',\n",
       " 'Sentiment(polarity=0.457, subjectivity=0.556)',\n",
       " 'Sentiment(polarity=0.21309523809523803, subjectivity=0.6297619047619047)',\n",
       " 'Sentiment(polarity=0.0, subjectivity=0.0)',\n",
       " 'Sentiment(polarity=-0.29999999999999993, subjectivity=0.4666666666666667)',\n",
       " 'Sentiment(polarity=0.12777777777777777, subjectivity=0.4740740740740741)',\n",
       " 'Sentiment(polarity=0.2325974025974026, subjectivity=0.555064935064935)',\n",
       " 'Sentiment(polarity=0.08666666666666668, subjectivity=0.4966666666666666)',\n",
       " 'Sentiment(polarity=0.359375, subjectivity=0.7208333333333333)',\n",
       " 'Sentiment(polarity=0.22916666666666669, subjectivity=0.5642857142857143)',\n",
       " 'Sentiment(polarity=0.0, subjectivity=0.0)',\n",
       " 'Sentiment(polarity=-0.08333333333333333, subjectivity=0.36296296296296293)',\n",
       " 'Sentiment(polarity=0.7, subjectivity=0.6000000000000001)']"
      ]
     },
     "execution_count": 54,
     "metadata": {},
     "output_type": "execute_result"
    }
   ],
   "source": [
    "polar = []\n",
    "for i in rev:\n",
    "    fed = TextBlob(i)\n",
    "    polar.append(str(fed.sentiment))\n",
    "polar"
   ]
  },
  {
   "cell_type": "code",
   "execution_count": 62,
   "id": "28bc31b6",
   "metadata": {},
   "outputs": [
    {
     "data": {
      "text/plain": [
       "['\\n\\n\\n\\n\\n                    the media could not be loaded\\n                \\n\\n\\n\\n\\n  \\xa0i like snickers but big bar is nicergot this one due to savings dealcount the pieces as u can get  or  lessmine was fineall  pieces were theresnickers is just best  all other are copycats\\n\\n',\n",
       " '\\n\\n  good quality product received chocolates taste fresh and well handled  tasted good and overall were very happy  this narrower bar has a fewer big nut pieces but that is natural with this format vs a wider standard baronly suggestion is that for a bulk pack the pricing per bar can be a bit better these are india made bars and they are priced like you would buy them overseas and import them\\n\\n',\n",
       " '\\n\\n  i liked it\\n\\n',\n",
       " '\\n\\n  ive been snacking on snickers for many years and feel that theres a significant drop in quality there used to be much more chocolate and nuts dont get the same satisfaction and lingering taste of chocolate anymore that being said the discount was very good\\n\\n',\n",
       " '\\n\\n  i didnt get any paytm offer but i did get   piece  gram snickers nicely packedit had a ice pack in it to ensure that the chocolate doesnt melt so kudos to amazon and it is reusabletaste great when kept in refrigerator as it becomes hard bit chewy and much different than when stored in normal room temperaturecontains a lot peanut so less chocolate but still taste goodit wont satisfy your hunger and is free from egg  veg\\n\\n',\n",
       " '\\n\\n  it was supposed to be pack of   and it was just  and with bubble wrapped around\\n\\n',\n",
       " '\\n\\n  please see photo white spots on the chocolates  seems spoiled one some packets no date of manufacture  please let me know if you refund   packets opened to check  really bad quality and afraid to order in futureawait early replythanksc r  gupta\\n\\n',\n",
       " '\\n\\n  the chocolates were  months old not bad they were packed with some gel however the gel was not cold enough to keep the chocolate firm all the chocolates arrived in broken condition from middle otherwise chocolates were fresh comparing discount of  i would say its a good deal\\n\\n',\n",
       " '\\n\\n  i have just received cadbury bournville dark chocolate bar with cranberry  pack of  its really the perfect one ive tried different cadbury ranges but its the best of them and theres truly something special in this which a chocolate worm like me can identify ill highly recommend you to try this if you didnt prefer just milk and sugar in a chocolate the  dark chocolate really gives an internal pleasure when you consume it and it feels like its just more than consuming a chocolate on the more  the cranberries in it gives it a weird but enjoyable taste and makes it a healthy one finally comparing different cadbury ranges  ive found its the one and only product from cadbury which is free from trans fatty acids  thats really a good news for the health conscious so what are you waiting for just grab it\\n\\n',\n",
       " '\\n\\n  most sugarfree dark chocolates end up being on the bitter side but this one perfectly suits indian palates decently sized portions too overall a very vfm homegrown dark chocolate brand if lindt is expensive for you and amul sugarfree bitter\\n\\n',\n",
       " '\\n\\n  it’s good a lot of sugar free chocolate isn’t but this is pretty decent it doesn’t have the sickly sweet aftertaste of sugar chocolate but neither does it taste odd like a lot of sugar free ones flavour is nice\\n\\n',\n",
       " '\\n\\n  honestly just the hazelnut flavour and bitter chocolate would have worked fine with me i simply dont like the taste that the sweetener probably stevia adds to it\\n\\n',\n",
       " '\\n\\n  packet was opened\\n\\n',\n",
       " '\\n\\n  please not buy actual mrp  each not sure what basis mrp  mention actual perk weight of rs \\n\\n',\n",
       " '\\n\\n  received in good condition\\n\\n']"
      ]
     },
     "execution_count": 62,
     "metadata": {},
     "output_type": "execute_result"
    }
   ],
   "source": [
    "rev1"
   ]
  },
  {
   "cell_type": "code",
   "execution_count": null,
   "id": "d7c2cda0",
   "metadata": {},
   "outputs": [],
   "source": []
  }
 ],
 "metadata": {
  "kernelspec": {
   "display_name": "Python 3 (ipykernel)",
   "language": "python",
   "name": "python3"
  },
  "language_info": {
   "codemirror_mode": {
    "name": "ipython",
    "version": 3
   },
   "file_extension": ".py",
   "mimetype": "text/x-python",
   "name": "python",
   "nbconvert_exporter": "python",
   "pygments_lexer": "ipython3",
   "version": "3.7.9"
  }
 },
 "nbformat": 4,
 "nbformat_minor": 5
}
