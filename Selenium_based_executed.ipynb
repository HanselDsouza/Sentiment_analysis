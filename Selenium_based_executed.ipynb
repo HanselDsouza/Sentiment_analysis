{
 "cells": [
  {
   "cell_type": "code",
   "execution_count": null,
   "id": "0c7efe9f",
   "metadata": {},
   "outputs": [],
   "source": [
    "#Selenium imports here\n",
    "from selenium import webdriver\n",
    "from selenium.webdriver.common.keys import Keys\n",
    "from selenium.webdriver.support import expected_conditions as EC\n",
    "from selenium.webdriver.common.by import By\n",
    "from selenium.webdriver.support.wait import WebDriverWait\n",
    "\n",
    "import pandas as pd\n",
    "import requests\n",
    "from bs4 import BeautifulSoup\n",
    "header = {\n",
    "    'Access-Control-Allow-Origin': '*',\n",
    "    'Access-Control-Allow-Methods': 'GET',\n",
    "    'Access-Control-Allow-Headers': 'Content-Type',\n",
    "    'Access-Control-Max-Age': '3600',\n",
    "    'User-Agent': 'Mozilla/5.0 (Windows NT 10.0; Win64; x64) AppleWebKit/537.36 (KHTML, like Gecko) Chrome/97.0.4692.99 Safari/537.36 OPR/83.0.4254.70'\n",
    "    }\n",
    "driver = webdriver.Edge('C:/Users/Hansel/edgedriver_win64/msedgedriver.exe')"
   ]
  },
  {
   "cell_type": "code",
   "execution_count": null,
   "id": "e1636069",
   "metadata": {},
   "outputs": [],
   "source": [
    "def getAmazonSearch(search_query):\n",
    "    url=\"https://www.amazon.in/s?k=\"+search_query\n",
    "    driver.get(url)\n",
    "    page=requests.get(url,headers=header)\n",
    "    print(page)\n",
    "    if page.status_code==200:\n",
    "        return page\n",
    "    else:\n",
    "        return \"Err\""
   ]
  },
  {
   "cell_type": "code",
   "execution_count": null,
   "id": "e167b627",
   "metadata": {},
   "outputs": [],
   "source": [
    "def Searchasin(asin):\n",
    "    url=\"https://www.amazon.in/dp/\"+asin\n",
    "    print(url)\n",
    "    page=requests.get(url,headers=header)\n",
    "    if page.status_code==200:\n",
    "        return page\n",
    "    else:\n",
    "        return \"Error\""
   ]
  },
  {
   "cell_type": "code",
   "execution_count": null,
   "id": "1353347e",
   "metadata": {},
   "outputs": [],
   "source": [
    "def Searchreviews(review_link):\n",
    "    url=\"https://www.amazon.in\"+review_link\n",
    "    print(url)\n",
    "    page=requests.get(url,headers=header)\n",
    "    if page.status_code==200:\n",
    "        return page\n",
    "    else:\n",
    "        return \"Error\""
   ]
  },
  {
   "cell_type": "code",
   "execution_count": null,
   "id": "4d6cfa53",
   "metadata": {},
   "outputs": [],
   "source": [
    "data_asin=[]\n",
    "\n",
    "search = 'ultrawide monitor'\n",
    "search = search.replace(' ','+')\n",
    "\n",
    "response = getAmazonSearch(search)\n",
    "\n",
    "soup = BeautifulSoup(response.content)\n",
    "\n",
    "for a in soup.findAll(\"div\",{'class':'s-result-item s-asin sg-col-0-of-12 sg-col-16-of-20 AdHolder sg-col s-widget-spacing-small sg-col-12-of-16'})[:4]:\n",
    "    data_asin.append(a['data-asin'])\n",
    "    \n",
    "data_asin\n"
   ]
  },
  {
   "cell_type": "code",
   "execution_count": null,
   "id": "ecf36263",
   "metadata": {},
   "outputs": [],
   "source": [
    "# driver.get(\"https://www.amazon.com/s?k=nike+shoes+men\")"
   ]
  },
  {
   "cell_type": "code",
   "execution_count": null,
   "id": "49f27b63",
   "metadata": {},
   "outputs": [],
   "source": [
    "# for i in data_asin:\n",
    "#     driver.get(f\"https://www.amazon.com/product-reviews/{i}\")"
   ]
  },
  {
   "cell_type": "code",
   "execution_count": null,
   "id": "d35d6614",
   "metadata": {},
   "outputs": [],
   "source": [
    "link=[]\n",
    "for b in range(len(data_asin)):\n",
    "    response=Searchasin(data_asin[b])\n",
    "    soup=BeautifulSoup(response.content)\n",
    "    for b in soup.findAll(\"a\",{'data-hook':\"see-all-reviews-link-foot\"}):\n",
    "        print(b['href'])\n",
    "        link.append(b['href'])"
   ]
  },
  {
   "cell_type": "code",
   "execution_count": 1,
   "id": "bc062a2c",
   "metadata": {},
   "outputs": [
    {
     "ename": "NameError",
     "evalue": "name 'link' is not defined",
     "output_type": "error",
     "traceback": [
      "\u001b[1;31m---------------------------------------------------------------------------\u001b[0m",
      "\u001b[1;31mNameError\u001b[0m                                 Traceback (most recent call last)",
      "Input \u001b[1;32mIn [1]\u001b[0m, in \u001b[0;36m<cell line: 1>\u001b[1;34m()\u001b[0m\n\u001b[1;32m----> 1\u001b[0m \u001b[43mlink\u001b[49m\n",
      "\u001b[1;31mNameError\u001b[0m: name 'link' is not defined"
     ]
    }
   ],
   "source": [
    "link"
   ]
  },
  {
   "cell_type": "code",
   "execution_count": null,
   "id": "f78ee246",
   "metadata": {},
   "outputs": [],
   "source": [
    "\n",
    "reviews=[]\n",
    "for j in range(len(link)):\n",
    "    response=Searchreviews(link[j]+'&pageNumber=1')\n",
    "    soup=BeautifulSoup(response.content)\n",
    "    for i in soup.findAll(\"span\",{'data-hook':\"review-body\"})[:3]:\n",
    "        reviews.append(f\"{j}\"+i.text)\n",
    "reviews"
   ]
  },
  {
   "cell_type": "code",
   "execution_count": null,
   "id": "2b731e92",
   "metadata": {
    "scrolled": true
   },
   "outputs": [],
   "source": [
    "rev={'reviews':reviews}\n",
    "review_data=pd.DataFrame.from_dict(rev)\n",
    "pd.set_option('max_colwidth',800)\n",
    "review_data"
   ]
  },
  {
   "cell_type": "code",
   "execution_count": null,
   "id": "09efa3c0",
   "metadata": {},
   "outputs": [],
   "source": []
  }
 ],
 "metadata": {
  "kernelspec": {
   "display_name": "Python 3 (ipykernel)",
   "language": "python",
   "name": "python3"
  },
  "language_info": {
   "codemirror_mode": {
    "name": "ipython",
    "version": 3
   },
   "file_extension": ".py",
   "mimetype": "text/x-python",
   "name": "python",
   "nbconvert_exporter": "python",
   "pygments_lexer": "ipython3",
   "version": "3.9.7"
  }
 },
 "nbformat": 4,
 "nbformat_minor": 5
}
