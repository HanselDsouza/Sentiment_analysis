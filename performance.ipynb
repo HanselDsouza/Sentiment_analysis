{
 "cells": [
  {
   "cell_type": "code",
   "execution_count": 42,
   "id": "ab5a6c6c",
   "metadata": {},
   "outputs": [],
   "source": [
    "import pandas as pd\n",
    "from sklearn.feature_extraction.text import TfidfVectorizer\n",
    "df = pd.read_csv('amazon_baby.csv')"
   ]
  },
  {
   "cell_type": "code",
   "execution_count": 43,
   "id": "9ecd1ea9",
   "metadata": {},
   "outputs": [],
   "source": [
    "df = df.dropna()"
   ]
  },
  {
   "cell_type": "code",
   "execution_count": 44,
   "id": "b02b1963",
   "metadata": {},
   "outputs": [],
   "source": [
    "import numpy as np\n",
    "np.random.seed(34)"
   ]
  },
  {
   "cell_type": "code",
   "execution_count": 45,
   "id": "c1fcaea6",
   "metadata": {},
   "outputs": [],
   "source": [
    "df1 = df.sample(frac = 0.3)"
   ]
  },
  {
   "cell_type": "code",
   "execution_count": 46,
   "id": "ccfe9afa",
   "metadata": {},
   "outputs": [],
   "source": [
    "df1['sentiments'] = df1.rating.apply(lambda x: 0 if x in [1, 2] else 1)"
   ]
  },
  {
   "cell_type": "code",
   "execution_count": 47,
   "id": "586f5fe4",
   "metadata": {},
   "outputs": [
    {
     "data": {
      "text/html": [
       "<div>\n",
       "<style scoped>\n",
       "    .dataframe tbody tr th:only-of-type {\n",
       "        vertical-align: middle;\n",
       "    }\n",
       "\n",
       "    .dataframe tbody tr th {\n",
       "        vertical-align: top;\n",
       "    }\n",
       "\n",
       "    .dataframe thead th {\n",
       "        text-align: right;\n",
       "    }\n",
       "</style>\n",
       "<table border=\"1\" class=\"dataframe\">\n",
       "  <thead>\n",
       "    <tr style=\"text-align: right;\">\n",
       "      <th></th>\n",
       "      <th>name</th>\n",
       "      <th>review</th>\n",
       "      <th>rating</th>\n",
       "      <th>sentiments</th>\n",
       "    </tr>\n",
       "  </thead>\n",
       "  <tbody>\n",
       "    <tr>\n",
       "      <th>165191</th>\n",
       "      <td>aden + anais Rayon From Bamboo Crib Sheet, Azu...</td>\n",
       "      <td>An off-white or cream sheet that is so soft. I...</td>\n",
       "      <td>5</td>\n",
       "      <td>1</td>\n",
       "    </tr>\n",
       "    <tr>\n",
       "      <th>108775</th>\n",
       "      <td>Hand Held Scalp Head Massager - Set of Three (...</td>\n",
       "      <td>I was skeptical about how well these will work...</td>\n",
       "      <td>5</td>\n",
       "      <td>1</td>\n",
       "    </tr>\n",
       "    <tr>\n",
       "      <th>162820</th>\n",
       "      <td>Clevamama ClevaFoam Baby Pillow, Cream</td>\n",
       "      <td>It soft and material appears to be excellent. ...</td>\n",
       "      <td>5</td>\n",
       "      <td>1</td>\n",
       "    </tr>\n",
       "    <tr>\n",
       "      <th>148217</th>\n",
       "      <td>Kids Line Velour Changing Pad Cover, Pirate Party</td>\n",
       "      <td>This is a very nice cover. I have two because ...</td>\n",
       "      <td>5</td>\n",
       "      <td>1</td>\n",
       "    </tr>\n",
       "    <tr>\n",
       "      <th>46428</th>\n",
       "      <td>Angel Dear Blankie, Green Frog</td>\n",
       "      <td>I love these Lovies. They are cute, soft and d...</td>\n",
       "      <td>5</td>\n",
       "      <td>1</td>\n",
       "    </tr>\n",
       "  </tbody>\n",
       "</table>\n",
       "</div>"
      ],
      "text/plain": [
       "                                                     name  \\\n",
       "165191  aden + anais Rayon From Bamboo Crib Sheet, Azu...   \n",
       "108775  Hand Held Scalp Head Massager - Set of Three (...   \n",
       "162820             Clevamama ClevaFoam Baby Pillow, Cream   \n",
       "148217  Kids Line Velour Changing Pad Cover, Pirate Party   \n",
       "46428                      Angel Dear Blankie, Green Frog   \n",
       "\n",
       "                                                   review  rating  sentiments  \n",
       "165191  An off-white or cream sheet that is so soft. I...       5           1  \n",
       "108775  I was skeptical about how well these will work...       5           1  \n",
       "162820  It soft and material appears to be excellent. ...       5           1  \n",
       "148217  This is a very nice cover. I have two because ...       5           1  \n",
       "46428   I love these Lovies. They are cute, soft and d...       5           1  "
      ]
     },
     "execution_count": 47,
     "metadata": {},
     "output_type": "execute_result"
    }
   ],
   "source": [
    "df1.head()"
   ]
  },
  {
   "cell_type": "code",
   "execution_count": 48,
   "id": "fc84ec9e",
   "metadata": {},
   "outputs": [],
   "source": [
    "X = df1['review']\n",
    "y = df1['sentiments']"
   ]
  },
  {
   "cell_type": "markdown",
   "id": "da3d0269",
   "metadata": {},
   "source": [
    "# SVM"
   ]
  },
  {
   "cell_type": "code",
   "execution_count": 49,
   "id": "8a5b1fc9",
   "metadata": {},
   "outputs": [],
   "source": [
    "from sklearn.model_selection import train_test_split\n",
    "X_train, X_test, y_train, y_test = train_test_split(X, y, test_size = 0.5, random_state=55)"
   ]
  },
  {
   "cell_type": "code",
   "execution_count": 50,
   "id": "08587216",
   "metadata": {},
   "outputs": [],
   "source": [
    "vectorizer = TfidfVectorizer()\n",
    "X_train_vec = vectorizer.fit_transform(X_train)\n",
    "X_test_vec = vectorizer.transform(X_test)"
   ]
  },
  {
   "cell_type": "code",
   "execution_count": null,
   "id": "6311e23d",
   "metadata": {},
   "outputs": [],
   "source": [
    "from sklearn import svm\n",
    "#params = {'kernel':('linear', 'rbf'), 'C':[1, 10, 100]}\n",
    "svcl = svm.SVC(kernel = 'rbf')\n",
    "#clf_sv = GridSearchCV(svcl, params)\n",
    "svcl.fit(X_train_vec, y_train)\n",
    "svcl_score = svcl.score(X_test_vec, y_test)\n",
    "print(\"Results for Support Vector Machine with tfidf\")\n",
    "print(svcl_score)"
   ]
  },
  {
   "cell_type": "code",
   "execution_count": 38,
   "id": "a5930377",
   "metadata": {},
   "outputs": [],
   "source": [
    "y_pred_sv = svcl.predict(X_test_vec)"
   ]
  },
  {
   "cell_type": "code",
   "execution_count": 39,
   "id": "3f444691",
   "metadata": {},
   "outputs": [
    {
     "name": "stderr",
     "output_type": "stream",
     "text": [
      "C:\\Users\\Hansel\\anaconda3\\lib\\site-packages\\sklearn\\linear_model\\_logistic.py:763: ConvergenceWarning: lbfgs failed to converge (status=1):\n",
      "STOP: TOTAL NO. of ITERATIONS REACHED LIMIT.\n",
      "\n",
      "Increase the number of iterations (max_iter) or scale the data as shown in:\n",
      "    https://scikit-learn.org/stable/modules/preprocessing.html\n",
      "Please also refer to the documentation for alternative solver options:\n",
      "    https://scikit-learn.org/stable/modules/linear_model.html#logistic-regression\n",
      "  n_iter_i = _check_optimize_result(\n"
     ]
    },
    {
     "data": {
      "text/plain": [
       "LogisticRegression()"
      ]
     },
     "execution_count": 39,
     "metadata": {},
     "output_type": "execute_result"
    }
   ],
   "source": [
    "#Confusion matrix\n",
    "from sklearn.metrics import confusion_matrix\n",
    "cm_sv = confusion_matrix(y_test, y_pred_sv)"
   ]
  },
  {
   "cell_type": "code",
   "execution_count": null,
   "id": "c0067de5",
   "metadata": {},
   "outputs": [],
   "source": [
    "tn, fp, fn, tp = confusion_matrix(y_test, y_pred_sv).ravel()\n",
    "print(tn, fp, fn, tp)"
   ]
  },
  {
   "cell_type": "code",
   "execution_count": null,
   "id": "bf4e2c04",
   "metadata": {},
   "outputs": [],
   "source": [
    "tpr_sv = round(tp/(tp + fn), 4)\n",
    "tnr_sv = round(tn/(tn+fp), 4)"
   ]
  },
  {
   "cell_type": "code",
   "execution_count": null,
   "id": "fc9d19bf",
   "metadata": {},
   "outputs": [],
   "source": [
    "print(tpr_sv, tnr_sv)"
   ]
  }
 ],
 "metadata": {
  "kernelspec": {
   "display_name": "Python 3 (ipykernel)",
   "language": "python",
   "name": "python3"
  },
  "language_info": {
   "codemirror_mode": {
    "name": "ipython",
    "version": 3
   },
   "file_extension": ".py",
   "mimetype": "text/x-python",
   "name": "python",
   "nbconvert_exporter": "python",
   "pygments_lexer": "ipython3",
   "version": "3.9.7"
  }
 },
 "nbformat": 4,
 "nbformat_minor": 5
}
