{
 "cells": [
  {
   "cell_type": "code",
   "execution_count": 1,
   "id": "9c98ae96",
   "metadata": {},
   "outputs": [],
   "source": [
    "#Selenium imports here\n",
    "from selenium import webdriver\n",
    "from selenium.webdriver.common.keys import Keys\n",
    "from selenium.webdriver.support import expected_conditions as EC\n",
    "from selenium.webdriver.common.by import By\n",
    "from selenium.webdriver.support.wait import WebDriverWait\n",
    "from bs4 import BeautifulSoup"
   ]
  },
  {
   "cell_type": "code",
   "execution_count": 2,
   "id": "6b9fbd7b",
   "metadata": {},
   "outputs": [],
   "source": [
    "#Other imports here\n",
    "import os\n",
    "import wget"
   ]
  },
  {
   "cell_type": "code",
   "execution_count": 3,
   "id": "a30eea65",
   "metadata": {},
   "outputs": [
    {
     "name": "stderr",
     "output_type": "stream",
     "text": [
      "C:\\Users\\Hansel\\AppData\\Local\\Temp\\ipykernel_22092\\649522305.py:1: DeprecationWarning: executable_path has been deprecated, please pass in a Service object\n",
      "  driver = webdriver.Edge('C:/Users/Hansel/edgedriver_win64/msedgedriver.exe')\n"
     ]
    }
   ],
   "source": [
    "driver = webdriver.Edge('C:/Users/Hansel/edgedriver_win64/msedgedriver.exe')"
   ]
  },
  {
   "cell_type": "markdown",
   "id": "b0141ce0",
   "metadata": {},
   "source": [
    "# For searching a product based on keyword"
   ]
  },
  {
   "cell_type": "code",
   "execution_count": 4,
   "id": "11779ac3",
   "metadata": {},
   "outputs": [],
   "source": [
    "# url = \"https://www.amazon.com\"\n",
    "# driver.get(url)\n",
    "# returns amazon page"
   ]
  },
  {
   "cell_type": "code",
   "execution_count": 5,
   "id": "14941ba4",
   "metadata": {},
   "outputs": [],
   "source": [
    "def get_url(search_term):\n",
    "    template = 'https://www.amazon.in/s?k={}&crid=2U21CDDK65IB9&ref=nb_sb_noss_2'\n",
    "    search_term = search_term.replace(' ','+')\n",
    "    return template.format(search_term)"
   ]
  },
  {
   "cell_type": "code",
   "execution_count": 8,
   "id": "43e8c2c1",
   "metadata": {},
   "outputs": [
    {
     "name": "stdout",
     "output_type": "stream",
     "text": [
      "https://www.amazon.in/s?k=chocolate&crid=2U21CDDK65IB9&ref=nb_sb_noss_2\n"
     ]
    }
   ],
   "source": [
    "url = get_url('chocolate')\n",
    "print(url)"
   ]
  },
  {
   "cell_type": "code",
   "execution_count": 9,
   "id": "13abb9c2",
   "metadata": {},
   "outputs": [],
   "source": [
    "driver.get(url)"
   ]
  },
  {
   "cell_type": "markdown",
   "id": "2c22d699",
   "metadata": {},
   "source": [
    "# Extracting data for single unit"
   ]
  },
  {
   "cell_type": "code",
   "execution_count": 11,
   "id": "7cb0d177",
   "metadata": {},
   "outputs": [],
   "source": [
    "# Extracting data"
   ]
  },
  {
   "cell_type": "code",
   "execution_count": 12,
   "id": "d4a3756d",
   "metadata": {},
   "outputs": [],
   "source": [
    "soup = BeautifulSoup(driver.page_source,'html.parser')"
   ]
  },
  {
   "cell_type": "code",
   "execution_count": 13,
   "id": "a6d3417d",
   "metadata": {},
   "outputs": [],
   "source": [
    "results = soup.find_all('div',{'data-component-type':'s-search-result'})[:3]"
   ]
  },
  {
   "cell_type": "code",
   "execution_count": 16,
   "id": "5f0eec07",
   "metadata": {
    "scrolled": true
   },
   "outputs": [
    {
     "data": {
      "text/plain": [
       "3"
      ]
     },
     "execution_count": 16,
     "metadata": {},
     "output_type": "execute_result"
    }
   ],
   "source": [
    "len(results)"
   ]
  },
  {
   "cell_type": "code",
   "execution_count": 26,
   "id": "52e791b1",
   "metadata": {},
   "outputs": [],
   "source": [
    "item = results[0]"
   ]
  },
  {
   "cell_type": "code",
   "execution_count": 27,
   "id": "883e8f72",
   "metadata": {},
   "outputs": [],
   "source": [
    "atag = item.h2.a"
   ]
  },
  {
   "cell_type": "code",
   "execution_count": 28,
   "id": "6912185c",
   "metadata": {},
   "outputs": [],
   "source": [
    "description = atag.text.strip()"
   ]
  },
  {
   "cell_type": "code",
   "execution_count": 29,
   "id": "47279016",
   "metadata": {},
   "outputs": [],
   "source": [
    "url = \"https://www.amazon.in\"+atag.get('href')"
   ]
  },
  {
   "cell_type": "code",
   "execution_count": 30,
   "id": "0b20f2cb",
   "metadata": {},
   "outputs": [
    {
     "data": {
      "text/plain": [
       "'https://www.amazon.in/gp/slredirect/picassoRedirect.html/ref=pa_sp_atf_aps_sr_pg1_1?ie=UTF8&adId=A05840903D29IVGHXILIR&url=%2FNew-Apple-iPhone-12-64GB%2Fdp%2FB08L5W16HX%2Fref%3Dsr_1_1_sspa%3Fcrid%3D2U21CDDK65IB9%26keywords%3Diphone%26qid%3D1646470936%26sr%3D8-1-spons%26psc%3D1&qualifier=1646470936&id=7750022233055607&widgetName=sp_atf'"
      ]
     },
     "execution_count": 30,
     "metadata": {},
     "output_type": "execute_result"
    }
   ],
   "source": [
    "url"
   ]
  },
  {
   "cell_type": "code",
   "execution_count": 31,
   "id": "26b71d60",
   "metadata": {},
   "outputs": [],
   "source": [
    "driver.get(url)\n",
    "# The link above will help to redirect to a single product"
   ]
  },
  {
   "cell_type": "code",
   "execution_count": 32,
   "id": "b9762d8e",
   "metadata": {},
   "outputs": [],
   "source": [
    "price_prt = item.find('span','a-price')"
   ]
  },
  {
   "cell_type": "code",
   "execution_count": 33,
   "id": "8d329838",
   "metadata": {},
   "outputs": [],
   "source": [
    "price = price_prt.find('span','a-offscreen').text"
   ]
  },
  {
   "cell_type": "code",
   "execution_count": 34,
   "id": "df3c0f23",
   "metadata": {},
   "outputs": [
    {
     "data": {
      "text/plain": [
       "'₹54,999'"
      ]
     },
     "execution_count": 34,
     "metadata": {},
     "output_type": "execute_result"
    }
   ],
   "source": [
    "price"
   ]
  },
  {
   "cell_type": "code",
   "execution_count": 35,
   "id": "34572a35",
   "metadata": {},
   "outputs": [],
   "source": [
    "rating = item.i.text"
   ]
  },
  {
   "cell_type": "code",
   "execution_count": 36,
   "id": "0b3521b0",
   "metadata": {},
   "outputs": [
    {
     "data": {
      "text/plain": [
       "'4.6 out of 5 stars'"
      ]
     },
     "execution_count": 36,
     "metadata": {},
     "output_type": "execute_result"
    }
   ],
   "source": [
    "rating"
   ]
  },
  {
   "cell_type": "markdown",
   "id": "e89fd870",
   "metadata": {},
   "source": [
    "# Extracting records"
   ]
  },
  {
   "cell_type": "code",
   "execution_count": 10,
   "id": "16e73646",
   "metadata": {},
   "outputs": [],
   "source": [
    "def extract_rec(item):\n",
    "    atag = item.h2.a\n",
    "    description = atag.text.strip()\n",
    "    driver.get(url)\n",
    "    url = \"https://www.amazon.in\"+atag.get('href')\n",
    "    try:\n",
    "        price_prt = item.find('span','a-price')\n",
    "        price = price_prt.find('span','a-offscreen').text\n",
    "    except:\n",
    "        price = 0\n",
    "    \n",
    "#     try:\n",
    "#         rating = item.i.text\n",
    "#         review_cnt = item.find('span',{'class':'a-size-base','dir':\"auto\"}).text\n",
    "#     except:\n",
    "#         pass\n",
    "    \n",
    "    result = (description,price,url)\n",
    "    \n",
    "    return result"
   ]
  },
  {
   "cell_type": "code",
   "execution_count": 11,
   "id": "f9a5bc01",
   "metadata": {},
   "outputs": [],
   "source": [
    "def get_url(search_term):\n",
    "    template = 'https://www.amazon.in/s?k={}&crid=2U21CDDK65IB9&ref=nb_sb_noss_2'\n",
    "    search_term = search_term.replace(' ','+')\n",
    "    return template.format(search_term)"
   ]
  },
  {
   "cell_type": "code",
   "execution_count": 12,
   "id": "e11056d9",
   "metadata": {},
   "outputs": [
    {
     "name": "stdout",
     "output_type": "stream",
     "text": [
      "enter what you want:dslr\n",
      "https://www.amazon.in/s?k=dslr&crid=2U21CDDK65IB9&ref=nb_sb_noss_2\n"
     ]
    }
   ],
   "source": [
    "term = input(\"enter what you want:\")\n",
    "\n",
    "url = get_url(term)\n",
    "print(url)\n",
    "\n",
    "driver.get(url)"
   ]
  },
  {
   "cell_type": "code",
   "execution_count": 13,
   "id": "1f63d1c1",
   "metadata": {},
   "outputs": [
    {
     "ename": "UnboundLocalError",
     "evalue": "local variable 'url' referenced before assignment",
     "output_type": "error",
     "traceback": [
      "\u001b[1;31m---------------------------------------------------------------------------\u001b[0m",
      "\u001b[1;31mUnboundLocalError\u001b[0m                         Traceback (most recent call last)",
      "Input \u001b[1;32mIn [13]\u001b[0m, in \u001b[0;36m<cell line: 5>\u001b[1;34m()\u001b[0m\n\u001b[0;32m      3\u001b[0m results \u001b[38;5;241m=\u001b[39m soup\u001b[38;5;241m.\u001b[39mfind_all(\u001b[38;5;124m'\u001b[39m\u001b[38;5;124mdiv\u001b[39m\u001b[38;5;124m'\u001b[39m,{\u001b[38;5;124m'\u001b[39m\u001b[38;5;124mdata-component-type\u001b[39m\u001b[38;5;124m'\u001b[39m:\u001b[38;5;124m'\u001b[39m\u001b[38;5;124ms-search-result\u001b[39m\u001b[38;5;124m'\u001b[39m})\n\u001b[0;32m      5\u001b[0m \u001b[38;5;28;01mfor\u001b[39;00m i \u001b[38;5;129;01min\u001b[39;00m results:\n\u001b[1;32m----> 6\u001b[0m     record \u001b[38;5;241m=\u001b[39m \u001b[43mextract_rec\u001b[49m\u001b[43m(\u001b[49m\u001b[43mi\u001b[49m\u001b[43m)\u001b[49m\n\u001b[0;32m      8\u001b[0m     \u001b[38;5;28;01mif\u001b[39;00m record:\n\u001b[0;32m      9\u001b[0m         records\u001b[38;5;241m.\u001b[39mappend(record)\n",
      "Input \u001b[1;32mIn [10]\u001b[0m, in \u001b[0;36mextract_rec\u001b[1;34m(item)\u001b[0m\n\u001b[0;32m      2\u001b[0m atag \u001b[38;5;241m=\u001b[39m item\u001b[38;5;241m.\u001b[39mh2\u001b[38;5;241m.\u001b[39ma\n\u001b[0;32m      3\u001b[0m description \u001b[38;5;241m=\u001b[39m atag\u001b[38;5;241m.\u001b[39mtext\u001b[38;5;241m.\u001b[39mstrip()\n\u001b[1;32m----> 4\u001b[0m driver\u001b[38;5;241m.\u001b[39mget(\u001b[43murl\u001b[49m)\n\u001b[0;32m      5\u001b[0m url \u001b[38;5;241m=\u001b[39m \u001b[38;5;124m\"\u001b[39m\u001b[38;5;124mhttps://www.amazon.in\u001b[39m\u001b[38;5;124m\"\u001b[39m\u001b[38;5;241m+\u001b[39matag\u001b[38;5;241m.\u001b[39mget(\u001b[38;5;124m'\u001b[39m\u001b[38;5;124mhref\u001b[39m\u001b[38;5;124m'\u001b[39m)\n\u001b[0;32m      6\u001b[0m \u001b[38;5;28;01mtry\u001b[39;00m:\n",
      "\u001b[1;31mUnboundLocalError\u001b[0m: local variable 'url' referenced before assignment"
     ]
    }
   ],
   "source": [
    "records = []\n",
    "soup = BeautifulSoup(driver.page_source,'html.parser')\n",
    "results = soup.find_all('div',{'data-component-type':'s-search-result'})[:10]\n",
    "\n",
    "for i in results:\n",
    "    record = extract_rec(i)\n",
    "    \n",
    "    if record:\n",
    "        records.append(record)"
   ]
  },
  {
   "cell_type": "code",
   "execution_count": 9,
   "id": "6bdf5a43",
   "metadata": {
    "scrolled": true
   },
   "outputs": [
    {
     "data": {
      "text/plain": [
       "('(Renewed) Canon EOS 1500D Digital SLR Camera (Black) with EF S18-55 is II Lens/Camera Case',\n",
       " '₹29,590',\n",
       " 'https://www.amazon.in/Renewed-Canon-Digital-Camera-S18-55/dp/B07L28DQPN/ref=sr_1_2?crid=2U21CDDK65IB9&keywords=dslr&qid=1646468660&sr=8-2')"
      ]
     },
     "execution_count": 9,
     "metadata": {},
     "output_type": "execute_result"
    }
   ],
   "source": [
    "records[1]"
   ]
  },
  {
   "cell_type": "code",
   "execution_count": null,
   "id": "f4b42c8a",
   "metadata": {},
   "outputs": [],
   "source": []
  },
  {
   "cell_type": "code",
   "execution_count": null,
   "id": "c753fd29",
   "metadata": {},
   "outputs": [],
   "source": []
  },
  {
   "cell_type": "code",
   "execution_count": null,
   "id": "5b22e43a",
   "metadata": {},
   "outputs": [],
   "source": []
  }
 ],
 "metadata": {
  "kernelspec": {
   "display_name": "Python 3 (ipykernel)",
   "language": "python",
   "name": "python3"
  },
  "language_info": {
   "codemirror_mode": {
    "name": "ipython",
    "version": 3
   },
   "file_extension": ".py",
   "mimetype": "text/x-python",
   "name": "python",
   "nbconvert_exporter": "python",
   "pygments_lexer": "ipython3",
   "version": "3.9.7"
  }
 },
 "nbformat": 4,
 "nbformat_minor": 5
}
