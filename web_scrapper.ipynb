{
 "cells": [
  {
   "cell_type": "code",
   "execution_count": 36,
   "id": "9c98ae96",
   "metadata": {},
   "outputs": [],
   "source": [
    "#Selenium imports here\n",
    "from selenium import webdriver\n",
    "from selenium.webdriver.common.keys import Keys\n",
    "from selenium.webdriver.support import expected_conditions as EC\n",
    "from selenium.webdriver.common.by import By\n",
    "from selenium.webdriver.support.wait import WebDriverWait\n",
    "from bs4 import BeautifulSoup"
   ]
  },
  {
   "cell_type": "code",
   "execution_count": 37,
   "id": "6b9fbd7b",
   "metadata": {},
   "outputs": [],
   "source": [
    "#Other imports here\n",
    "import os\n",
    "import wget"
   ]
  },
  {
   "cell_type": "code",
   "execution_count": 54,
   "id": "a30eea65",
   "metadata": {},
   "outputs": [
    {
     "name": "stderr",
     "output_type": "stream",
     "text": [
      "c:\\users\\hansel\\appdata\\local\\programs\\python\\python37\\lib\\site-packages\\ipykernel_launcher.py:1: DeprecationWarning: executable_path has been deprecated, please pass in a Service object\n",
      "  \"\"\"Entry point for launching an IPython kernel.\n"
     ]
    }
   ],
   "source": [
    "driver = webdriver.Edge('C:/Users/Hansel/edgedriver_win64/msedgedriver.exe')"
   ]
  },
  {
   "cell_type": "markdown",
   "id": "b0141ce0",
   "metadata": {},
   "source": [
    "# For searching a product based on keyword"
   ]
  },
  {
   "cell_type": "code",
   "execution_count": 55,
   "id": "11779ac3",
   "metadata": {},
   "outputs": [],
   "source": [
    "# url = \"https://www.amazon.com\"\n",
    "# driver.get(url)\n",
    "# returns amazon page"
   ]
  },
  {
   "cell_type": "code",
   "execution_count": 56,
   "id": "14941ba4",
   "metadata": {},
   "outputs": [],
   "source": [
    "def get_url(search_term):\n",
    "    template = 'https://www.amazon.in/s?k={}&crid=2U21CDDK65IB9&ref=nb_sb_noss_2'\n",
    "    search_term = search_term.replace(' ','+')\n",
    "    return template.format(search_term)"
   ]
  },
  {
   "cell_type": "code",
   "execution_count": 57,
   "id": "43e8c2c1",
   "metadata": {},
   "outputs": [
    {
     "name": "stdout",
     "output_type": "stream",
     "text": [
      "https://www.amazon.in/s?k=chocolate&crid=2U21CDDK65IB9&ref=nb_sb_noss_2\n"
     ]
    }
   ],
   "source": [
    "url = get_url('chocolate')\n",
    "print(url)"
   ]
  },
  {
   "cell_type": "code",
   "execution_count": 58,
   "id": "13abb9c2",
   "metadata": {},
   "outputs": [],
   "source": [
    "driver.get(url)"
   ]
  },
  {
   "cell_type": "markdown",
   "id": "2c22d699",
   "metadata": {},
   "source": [
    "# Extracting data for single unit"
   ]
  },
  {
   "cell_type": "code",
   "execution_count": 59,
   "id": "7cb0d177",
   "metadata": {},
   "outputs": [],
   "source": [
    "# Extracting data"
   ]
  },
  {
   "cell_type": "code",
   "execution_count": 60,
   "id": "d4a3756d",
   "metadata": {},
   "outputs": [],
   "source": [
    "soup = BeautifulSoup(driver.page_source,'html.parser')"
   ]
  },
  {
   "cell_type": "code",
   "execution_count": 61,
   "id": "a6d3417d",
   "metadata": {},
   "outputs": [],
   "source": [
    "results = soup.find_all('div',{'data-component-type':'s-search-result'})[:3]"
   ]
  },
  {
   "cell_type": "code",
   "execution_count": 62,
   "id": "5f0eec07",
   "metadata": {
    "scrolled": true
   },
   "outputs": [
    {
     "data": {
      "text/plain": [
       "3"
      ]
     },
     "execution_count": 62,
     "metadata": {},
     "output_type": "execute_result"
    }
   ],
   "source": [
    "len(results)"
   ]
  },
  {
   "cell_type": "code",
   "execution_count": 72,
   "id": "52e791b1",
   "metadata": {},
   "outputs": [
    {
     "data": {
      "text/plain": [
       "<div class=\"sg-col-4-of-12 s-result-item s-asin sg-col-4-of-16 AdHolder sg-col s-widget-spacing-small sg-col-4-of-20\" data-asin=\"B017LHTFFK\" data-component-id=\"32\" data-component-type=\"s-search-result\" data-index=\"2\" data-uuid=\"5a64b4bf-3b5a-4ebd-a27a-74fd2c919116\"><div class=\"sg-col-inner\">\n",
       "<div cel_widget_id=\"MAIN-SEARCH_RESULTS-2\" class=\"s-widget-container s-spacing-small s-widget-container-height-small celwidget slot=MAIN template=SEARCH_RESULTS widgetId=search-results_1\">\n",
       "<div class=\"rush-component s-expand-height\" data-component-id=\"33\" data-component-props='{\"percentageShownToFire\":\"50\",\"batchable\":true,\"requiredElementSelector\":\".s-image:visible\",\"url\":\"https://unagi-eu.amazon.com/1/events/com.amazon.eel.SponsoredProductsEventTracking.prod?qualifier=1650801846&amp;id=7051303243140473&amp;widgetName=sp_atf&amp;adId=20044706150898&amp;eventType=1&amp;adIndex=0\"}' data-component-type=\"s-impression-logger\">\n",
       "<div class=\"rush-component s-featured-result-item s-expand-height\" data-component-id=\"2\" data-component-props='{\"presenceCounterName\":\"sp_delivered\",\"testElementSelector\":\".s-image\",\"hiddenCounterName\":\"sp_hidden\"}' data-component-type=\"s-impression-counter\">\n",
       "<div class=\"s-card-container s-overflow-hidden aok-relative s-expand-height s-include-content-margin s-latency-cf-section s-card-border\"><div class=\"a-section a-spacing-base\"><div class=\"s-product-image-container aok-relative s-image-overlay-grey s-text-center s-padding-left-small s-padding-right-small s-spacing-small s-height-equalized\" style=\"padding-top: 0px !important;\"><span class=\"rush-component\" data-component-type=\"s-product-image\"><a class=\"a-link-normal s-no-outline\" href=\"/gp/slredirect/picassoRedirect.html/ref=pa_sp_atf_aps_sr_pg1_1?ie=UTF8&amp;adId=A0933456MCN9OHMCUYJY&amp;qualifier=1650801846&amp;id=7051303243140473&amp;widgetName=sp_atf&amp;url=%2FBournville-Rich-Cocoa-Dark-Chocolate%2Fdp%2FB017LHTFFK%2Fref%3Dsr_1_1_sspa%3Fcrid%3D2U21CDDK65IB9%26keywords%3Dchocolate%26qid%3D1650801846%26sr%3D8-1-spons%26psc%3D1\" target=\"_blank\"><div class=\"a-section aok-relative s-image-square-aspect\"><img alt=\"Sponsored Ad - Cadbury Rich Cocoa Dark Chocolate Bar, 80 g\" class=\"s-image\" data-image-index=\"1\" data-image-latency=\"s-product-image\" data-image-load=\"\" data-image-source-density=\"1\" src=\"https://m.media-amazon.com/images/I/71d3CDrJcdL._AC_UL320_.jpg\" srcset=\"https://m.media-amazon.com/images/I/71d3CDrJcdL._AC_UL320_.jpg 1x, https://m.media-amazon.com/images/I/71d3CDrJcdL._AC_UL480_FMwebp_QL65_.jpg 1.5x, https://m.media-amazon.com/images/I/71d3CDrJcdL._AC_UL640_FMwebp_QL65_.jpg 2x, https://m.media-amazon.com/images/I/71d3CDrJcdL._AC_UL800_FMwebp_QL65_.jpg 2.5x, https://m.media-amazon.com/images/I/71d3CDrJcdL._AC_UL960_FMwebp_QL65_.jpg 3x\"/></div></a></span></div><div class=\"a-section a-spacing-small s-padding-left-small s-padding-right-small\"><div class=\"a-section a-spacing-none a-spacing-top-small s-title-instructions-style\"><div class=\"a-row a-spacing-micro\"><span class=\"a-declarative\" data-a-popover='{\"closeButton\":\"true\",\"dataStrategy\":\"preload\",\"name\":\"sp-info-popover-B017LHTFFK\",\"position\":\"triggerVertical\"}' data-action=\"a-popover\" data-csa-c-func-deps=\"aui-da-a-popover\" data-csa-c-type=\"widget\"><a aria-label=\"View Sponsored information or leave ad feedback\" class=\"s-label-popover s-sponsored-label-text\" href=\"javascript:void(0)\" role=\"button\" style=\"text-decoration: none;\"><span class=\"s-label-popover-default\"><span class=\"a-color-secondary\">Sponsored</span></span><span class=\"s-label-popover-hover\"><span class=\"a-color-base\">Sponsored</span></span> <span class=\"aok-inline-block s-sponsored-label-info-icon\"></span></a></span><div class=\"a-popover-preload\" id=\"a-popover-sp-info-popover-B017LHTFFK\"><span>You are seeing this ad based on the product’s relevance to your search query.</span><div class=\"a-row\"><span class=\"a-declarative\" data-action=\"s-safe-ajax-modal-trigger\" data-csa-c-func-deps=\"aui-da-s-safe-ajax-modal-trigger\" data-csa-c-type=\"widget\" data-s-safe-ajax-modal-trigger='{\"ajaxUrl\":\"/af/sp-loom/feedback-form?pl=%7B%22adPlacementMetaData%22%3A%7B%22searchTerms%22%3A%22Y2hvY29sYXRl%22%2C%22pageType%22%3A%22Search%22%2C%22feedbackType%22%3A%22sponsoredProductsLoom%22%2C%22slotName%22%3A%22TOP%22%7D%2C%22adCreativeMetaData%22%3A%7B%22adProgramId%22%3A1024%2C%22adCreativeDetails%22%3A%5B%7B%22asin%22%3A%22B017LHTFFK%22%2C%22title%22%3A%22Cadbury+Rich+Cocoa+Dark+Chocolate+Bar%2C+80+g%22%2C%22priceInfo%22%3A%7B%22amount%22%3A89.0%2C%22currencyCode%22%3A%22INR%22%7D%2C%22sku%22%3A%22B017LHTFFK%22%2C%22adId%22%3A%22A0933456MCN9OHMCUYJY%22%2C%22campaignId%22%3A%22A0594777144BO2ME8EOLK%22%7D%5D%7D%7D\",\"dataStrategy\":\"ajax\",\"header\":\"Share Your Feedback\"}'><a class=\"a-link-normal s-underline-text s-underline-link-text s-link-style\" href=\"#\"><span>Let us know</span> </a> </span></div></div></div><h2 class=\"a-size-mini a-spacing-none a-color-base s-line-clamp-2\"><a class=\"a-link-normal s-underline-text s-underline-link-text s-link-style a-text-normal\" href=\"/gp/slredirect/picassoRedirect.html/ref=pa_sp_atf_aps_sr_pg1_1?ie=UTF8&amp;adId=A0933456MCN9OHMCUYJY&amp;qualifier=1650801846&amp;id=7051303243140473&amp;widgetName=sp_atf&amp;url=%2FBournville-Rich-Cocoa-Dark-Chocolate%2Fdp%2FB017LHTFFK%2Fref%3Dsr_1_1_sspa%3Fcrid%3D2U21CDDK65IB9%26keywords%3Dchocolate%26qid%3D1650801846%26sr%3D8-1-spons%26psc%3D1\" target=\"_blank\"><span class=\"a-size-base a-color-base a-text-normal\">Cadbury Rich Cocoa Dark Chocolate Bar, 80 g</span> </a> </h2></div><div class=\"a-section a-spacing-none a-spacing-top-micro\"><div class=\"a-row a-size-small\"><span aria-label=\"4.5 out of 5 stars\"><span class=\"a-declarative\" data-a-popover='{\"closeButton\":false,\"closeButtonLabel\":\"\",\"position\":\"triggerBottom\",\"popoverLabel\":\"\",\"url\":\"/review/widgets/average-customer-review/popover/ref=acr_search__popover?ie=UTF8&amp;asin=B017LHTFFK&amp;ref=acr_search__popover&amp;contextId=search\"}' data-action=\"a-popover\" data-csa-c-func-deps=\"aui-da-a-popover\" data-csa-c-type=\"widget\"><a class=\"a-popover-trigger a-declarative\" href=\"javascript:void(0)\" role=\"button\"><i class=\"a-icon a-icon-star-small a-star-small-4-5 aok-align-bottom\"><span class=\"a-icon-alt\">4.5 out of 5 stars</span></i><i class=\"a-icon a-icon-popover\"></i></a></span> </span><span aria-label=\"751\"><a class=\"a-link-normal s-underline-text s-underline-link-text s-link-style\" href=\"/gp/slredirect/picassoRedirect.html/ref=pa_sp_atf_aps_sr_pg1_1?ie=UTF8&amp;adId=A0933456MCN9OHMCUYJY&amp;qualifier=1650801846&amp;id=7051303243140473&amp;widgetName=sp_atf&amp;url=%2FBournville-Rich-Cocoa-Dark-Chocolate%2Fdp%2FB017LHTFFK%2Fref%3Dsr_1_1_sspa%3Fcrid%3D2U21CDDK65IB9%26keywords%3Dchocolate%26qid%3D1650801846%26sr%3D8-1-spons%26psc%3D1#customerReviews\" target=\"_blank\"><span class=\"a-size-base s-underline-text\">751</span> </a> </span></div></div><div class=\"a-section a-spacing-none a-spacing-top-small s-price-instructions-style\"><div class=\"a-row a-size-base a-color-base\"><a class=\"a-size-base a-link-normal s-underline-text s-underline-link-text s-link-style a-text-normal\" href=\"/gp/slredirect/picassoRedirect.html/ref=pa_sp_atf_aps_sr_pg1_1?ie=UTF8&amp;adId=A0933456MCN9OHMCUYJY&amp;qualifier=1650801846&amp;id=7051303243140473&amp;widgetName=sp_atf&amp;url=%2FBournville-Rich-Cocoa-Dark-Chocolate%2Fdp%2FB017LHTFFK%2Fref%3Dsr_1_1_sspa%3Fcrid%3D2U21CDDK65IB9%26keywords%3Dchocolate%26qid%3D1650801846%26sr%3D8-1-spons%26psc%3D1\" target=\"_blank\"><span class=\"a-price\" data-a-color=\"price\" data-a-size=\"l\"><span class=\"a-offscreen\">₹89</span><span aria-hidden=\"true\"><span class=\"a-price-symbol\">₹</span><span class=\"a-price-whole\">89</span></span></span> <span class=\"a-size-base a-color-secondary\">(₹111.25/100 g)</span> <span class=\"a-price a-text-price\" data-a-color=\"secondary\" data-a-size=\"b\" data-a-strike=\"true\"><span class=\"a-offscreen\">₹100</span><span aria-hidden=\"true\">₹100</span></span> </a> <span class=\"a-letter-space\"></span><span>(11% off)</span></div></div><div class=\"a-section a-spacing-none a-spacing-top-micro\"><div class=\"a-row a-size-base a-color-secondary s-align-children-center\"><span aria-label=\"Get it Wednesday, May 4 - Thursday, May 5\"><span class=\"a-color-base\">Get it </span><span class=\"a-color-base a-text-bold\">Wednesday, May 4</span><span class=\"a-color-base\"> - </span><span class=\"a-color-base a-text-bold\">Thursday, May 5</span></span></div></div></div></div></div>\n",
       "</div>\n",
       "</div>\n",
       "</div>\n",
       "</div></div>"
      ]
     },
     "execution_count": 72,
     "metadata": {},
     "output_type": "execute_result"
    }
   ],
   "source": [
    "item = results[0]\n",
    "item"
   ]
  },
  {
   "cell_type": "code",
   "execution_count": 81,
   "id": "883e8f72",
   "metadata": {},
   "outputs": [],
   "source": [
    "atag = item.h2.a"
   ]
  },
  {
   "cell_type": "code",
   "execution_count": 82,
   "id": "6912185c",
   "metadata": {},
   "outputs": [
    {
     "data": {
      "text/plain": [
       "'Cadbury Rich Cocoa Dark Chocolate Bar, 80 g'"
      ]
     },
     "execution_count": 82,
     "metadata": {},
     "output_type": "execute_result"
    }
   ],
   "source": [
    "description = atag.text.strip()\n",
    "description"
   ]
  },
  {
   "cell_type": "code",
   "execution_count": 75,
   "id": "47279016",
   "metadata": {},
   "outputs": [],
   "source": [
    "url = \"https://www.amazon.in\"+atag.get('href')"
   ]
  },
  {
   "cell_type": "code",
   "execution_count": 76,
   "id": "0b20f2cb",
   "metadata": {},
   "outputs": [
    {
     "data": {
      "text/plain": [
       "'https://www.amazon.in/gp/slredirect/picassoRedirect.html/ref=pa_sp_atf_aps_sr_pg1_1?ie=UTF8&adId=A0933456MCN9OHMCUYJY&qualifier=1650801846&id=7051303243140473&widgetName=sp_atf&url=%2FBournville-Rich-Cocoa-Dark-Chocolate%2Fdp%2FB017LHTFFK%2Fref%3Dsr_1_1_sspa%3Fcrid%3D2U21CDDK65IB9%26keywords%3Dchocolate%26qid%3D1650801846%26sr%3D8-1-spons%26psc%3D1'"
      ]
     },
     "execution_count": 76,
     "metadata": {},
     "output_type": "execute_result"
    }
   ],
   "source": [
    "url"
   ]
  },
  {
   "cell_type": "code",
   "execution_count": 77,
   "id": "26b71d60",
   "metadata": {},
   "outputs": [],
   "source": [
    "driver.get(url)\n",
    "# The link above will help to redirect to a single product"
   ]
  },
  {
   "cell_type": "code",
   "execution_count": 78,
   "id": "b9762d8e",
   "metadata": {},
   "outputs": [
    {
     "data": {
      "text/plain": [
       "<span class=\"a-price\" data-a-color=\"price\" data-a-size=\"l\"><span class=\"a-offscreen\">₹89</span><span aria-hidden=\"true\"><span class=\"a-price-symbol\">₹</span><span class=\"a-price-whole\">89</span></span></span>"
      ]
     },
     "execution_count": 78,
     "metadata": {},
     "output_type": "execute_result"
    }
   ],
   "source": [
    "price_prt = item.find('span','a-price')\n",
    "price_prt"
   ]
  },
  {
   "cell_type": "code",
   "execution_count": 80,
   "id": "db90b558",
   "metadata": {},
   "outputs": [
    {
     "data": {
      "text/plain": [
       "'Cadbury Rich Cocoa Dark Chocolate Bar, 80 g'"
      ]
     },
     "execution_count": 80,
     "metadata": {},
     "output_type": "execute_result"
    }
   ],
   "source": [
    "title = item.find('span','a-size-base').get_text()\n",
    "title"
   ]
  },
  {
   "cell_type": "code",
   "execution_count": 33,
   "id": "8d329838",
   "metadata": {},
   "outputs": [],
   "source": [
    "price = price_prt.find('span','a-offscreen').text"
   ]
  },
  {
   "cell_type": "code",
   "execution_count": 34,
   "id": "df3c0f23",
   "metadata": {},
   "outputs": [
    {
     "data": {
      "text/plain": [
       "'₹54,999'"
      ]
     },
     "execution_count": 34,
     "metadata": {},
     "output_type": "execute_result"
    }
   ],
   "source": [
    "price"
   ]
  },
  {
   "cell_type": "code",
   "execution_count": 35,
   "id": "34572a35",
   "metadata": {},
   "outputs": [],
   "source": [
    "rating = item.i.text"
   ]
  },
  {
   "cell_type": "code",
   "execution_count": 36,
   "id": "0b3521b0",
   "metadata": {},
   "outputs": [
    {
     "data": {
      "text/plain": [
       "'4.6 out of 5 stars'"
      ]
     },
     "execution_count": 36,
     "metadata": {},
     "output_type": "execute_result"
    }
   ],
   "source": [
    "rating"
   ]
  },
  {
   "cell_type": "markdown",
   "id": "e89fd870",
   "metadata": {},
   "source": [
    "# Extracting records"
   ]
  },
  {
   "cell_type": "code",
   "execution_count": 10,
   "id": "16e73646",
   "metadata": {},
   "outputs": [],
   "source": [
    "def extract_rec(item):\n",
    "    atag = item.h2.a\n",
    "    description = atag.text.strip()\n",
    "    driver.get(url)\n",
    "    url = \"https://www.amazon.in\"+atag.get('href')\n",
    "    try:\n",
    "        price_prt = item.find('span','a-price')\n",
    "        price = price_prt.find('span','a-offscreen').text\n",
    "    except:\n",
    "        price = 0\n",
    "    \n",
    "#     try:\n",
    "#         rating = item.i.text\n",
    "#         review_cnt = item.find('span',{'class':'a-size-base','dir':\"auto\"}).text\n",
    "#     except:\n",
    "#         pass\n",
    "    \n",
    "    result = (description,price,url)\n",
    "    \n",
    "    return result"
   ]
  },
  {
   "cell_type": "code",
   "execution_count": 11,
   "id": "f9a5bc01",
   "metadata": {},
   "outputs": [],
   "source": [
    "def get_url(search_term):\n",
    "    template = 'https://www.amazon.in/s?k={}&crid=2U21CDDK65IB9&ref=nb_sb_noss_2'\n",
    "    search_term = search_term.replace(' ','+')\n",
    "    return template.format(search_term)"
   ]
  },
  {
   "cell_type": "code",
   "execution_count": 12,
   "id": "e11056d9",
   "metadata": {},
   "outputs": [
    {
     "name": "stdout",
     "output_type": "stream",
     "text": [
      "enter what you want:dslr\n",
      "https://www.amazon.in/s?k=dslr&crid=2U21CDDK65IB9&ref=nb_sb_noss_2\n"
     ]
    }
   ],
   "source": [
    "term = input(\"enter what you want:\")\n",
    "\n",
    "url = get_url(term)\n",
    "print(url)\n",
    "\n",
    "driver.get(url)"
   ]
  },
  {
   "cell_type": "code",
   "execution_count": 13,
   "id": "1f63d1c1",
   "metadata": {},
   "outputs": [
    {
     "ename": "UnboundLocalError",
     "evalue": "local variable 'url' referenced before assignment",
     "output_type": "error",
     "traceback": [
      "\u001b[1;31m---------------------------------------------------------------------------\u001b[0m",
      "\u001b[1;31mUnboundLocalError\u001b[0m                         Traceback (most recent call last)",
      "Input \u001b[1;32mIn [13]\u001b[0m, in \u001b[0;36m<cell line: 5>\u001b[1;34m()\u001b[0m\n\u001b[0;32m      3\u001b[0m results \u001b[38;5;241m=\u001b[39m soup\u001b[38;5;241m.\u001b[39mfind_all(\u001b[38;5;124m'\u001b[39m\u001b[38;5;124mdiv\u001b[39m\u001b[38;5;124m'\u001b[39m,{\u001b[38;5;124m'\u001b[39m\u001b[38;5;124mdata-component-type\u001b[39m\u001b[38;5;124m'\u001b[39m:\u001b[38;5;124m'\u001b[39m\u001b[38;5;124ms-search-result\u001b[39m\u001b[38;5;124m'\u001b[39m})\n\u001b[0;32m      5\u001b[0m \u001b[38;5;28;01mfor\u001b[39;00m i \u001b[38;5;129;01min\u001b[39;00m results:\n\u001b[1;32m----> 6\u001b[0m     record \u001b[38;5;241m=\u001b[39m \u001b[43mextract_rec\u001b[49m\u001b[43m(\u001b[49m\u001b[43mi\u001b[49m\u001b[43m)\u001b[49m\n\u001b[0;32m      8\u001b[0m     \u001b[38;5;28;01mif\u001b[39;00m record:\n\u001b[0;32m      9\u001b[0m         records\u001b[38;5;241m.\u001b[39mappend(record)\n",
      "Input \u001b[1;32mIn [10]\u001b[0m, in \u001b[0;36mextract_rec\u001b[1;34m(item)\u001b[0m\n\u001b[0;32m      2\u001b[0m atag \u001b[38;5;241m=\u001b[39m item\u001b[38;5;241m.\u001b[39mh2\u001b[38;5;241m.\u001b[39ma\n\u001b[0;32m      3\u001b[0m description \u001b[38;5;241m=\u001b[39m atag\u001b[38;5;241m.\u001b[39mtext\u001b[38;5;241m.\u001b[39mstrip()\n\u001b[1;32m----> 4\u001b[0m driver\u001b[38;5;241m.\u001b[39mget(\u001b[43murl\u001b[49m)\n\u001b[0;32m      5\u001b[0m url \u001b[38;5;241m=\u001b[39m \u001b[38;5;124m\"\u001b[39m\u001b[38;5;124mhttps://www.amazon.in\u001b[39m\u001b[38;5;124m\"\u001b[39m\u001b[38;5;241m+\u001b[39matag\u001b[38;5;241m.\u001b[39mget(\u001b[38;5;124m'\u001b[39m\u001b[38;5;124mhref\u001b[39m\u001b[38;5;124m'\u001b[39m)\n\u001b[0;32m      6\u001b[0m \u001b[38;5;28;01mtry\u001b[39;00m:\n",
      "\u001b[1;31mUnboundLocalError\u001b[0m: local variable 'url' referenced before assignment"
     ]
    }
   ],
   "source": [
    "records = []\n",
    "soup = BeautifulSoup(driver.page_source,'html.parser')\n",
    "results = soup.find_all('div',{'data-component-type':'s-search-result'})[:10]\n",
    "\n",
    "for i in results:\n",
    "    record = extract_rec(i)\n",
    "    \n",
    "    if record:\n",
    "        records.append(record)"
   ]
  },
  {
   "cell_type": "code",
   "execution_count": 9,
   "id": "6bdf5a43",
   "metadata": {
    "scrolled": true
   },
   "outputs": [
    {
     "data": {
      "text/plain": [
       "('(Renewed) Canon EOS 1500D Digital SLR Camera (Black) with EF S18-55 is II Lens/Camera Case',\n",
       " '₹29,590',\n",
       " 'https://www.amazon.in/Renewed-Canon-Digital-Camera-S18-55/dp/B07L28DQPN/ref=sr_1_2?crid=2U21CDDK65IB9&keywords=dslr&qid=1646468660&sr=8-2')"
      ]
     },
     "execution_count": 9,
     "metadata": {},
     "output_type": "execute_result"
    }
   ],
   "source": [
    "records[1]"
   ]
  },
  {
   "cell_type": "code",
   "execution_count": null,
   "id": "f4b42c8a",
   "metadata": {},
   "outputs": [],
   "source": []
  },
  {
   "cell_type": "code",
   "execution_count": null,
   "id": "c753fd29",
   "metadata": {},
   "outputs": [],
   "source": []
  },
  {
   "cell_type": "code",
   "execution_count": null,
   "id": "5b22e43a",
   "metadata": {},
   "outputs": [],
   "source": []
  }
 ],
 "metadata": {
  "kernelspec": {
   "display_name": "Python 3 (ipykernel)",
   "language": "python",
   "name": "python3"
  },
  "language_info": {
   "codemirror_mode": {
    "name": "ipython",
    "version": 3
   },
   "file_extension": ".py",
   "mimetype": "text/x-python",
   "name": "python",
   "nbconvert_exporter": "python",
   "pygments_lexer": "ipython3",
   "version": "3.7.9"
  }
 },
 "nbformat": 4,
 "nbformat_minor": 5
}
